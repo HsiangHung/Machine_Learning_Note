{
 "cells": [
  {
   "cell_type": "markdown",
   "metadata": {},
   "source": [
    "# Impact of Mutlicollinearity \n",
    "\n",
    "In this note, we will introduce multicolinearity, and explain how it influences regression analysis. We simulate data by generating dependent and independent variables.\n",
    "\n",
    "### What is multicollinearity?\n",
    "\n",
    "Collinearity occurs when two predictor variables (e.g., x1 and x2) in a multiple regression have a non-zero correlation. Multicollinearity occurs when more than two predictor variables (e.g., x1, x2 and x3) are inter-correlated. See [the Psychological Statistics blog](http://psychologicalstatistics.blogspot.com/2013/11/multicollinearity-and-collinearity-in.html).\n",
    "In most situations in which you would use regression (apart from certain designed experiments) multicollinearity always exists. So if a method section ever claims that “multicollinearity is not present”, generally this will be untrue. A better statement to make is something along the lines of “there were no problems with multicollinearity.\n",
    "\n",
    "\n",
    "### Does multicollinearity matter?\n",
    "\n",
    "The existence of multicollinearity has no impact on the overall regression model. It also should not generally have an impact on predictions made using the overall model and $R^2$. However, if you are interested in the effects of individual predictors, like what predictors are more important, multicollinearity will be a big problem. In the following I will explain the impact by a simulation.\n",
    "\n",
    "### How to detect multicollinearity?\n",
    "\n",
    "To determine multicollinearity, we can compute [Variance Inflation Factor (VIF)](https://etav.github.io/python/vif_factor_python.html)."
   ]
  },
  {
   "cell_type": "code",
   "execution_count": 110,
   "metadata": {},
   "outputs": [],
   "source": [
    "import sys\n",
    "\n",
    "if '/Users/hhhung/anaconda/lib/python3.4/site-packages' not in sys.path:\n",
    "    sys.path.append('/Users/hhhung/anaconda/lib/python3.4/site-packages')\n",
    "\n",
    "\n",
    "import numpy as np\n",
    "import pandas as pd\n",
    "import statsmodels.api as sm\n",
    "from scipy import stats\n",
    "from sklearn import linear_model\n",
    "from sklearn import grid_search\n",
    "from sklearn import preprocessing\n",
    "from sklearn.cross_validation import cross_val_score, train_test_split\n",
    "\n",
    "from statsmodels.stats.outliers_influence import variance_inflation_factor\n",
    "\n",
    "import matplotlib.pyplot as plt\n",
    "%matplotlib inline"
   ]
  },
  {
   "cell_type": "markdown",
   "metadata": {},
   "source": [
    "## Simulate data\n",
    "\n",
    "We generate 2000 data points, each variable has a normal distribution and the target variable is obtained by the following relation:\n",
    "$$ y = a+ bx_1 +cx_2 +dx_3 +ex_{col} + \\epsilon,$$\n",
    "where $x_{col}$ has relation with $x_1$ and $x_3$. We usually call $x_1, x_2, \\cdots$, as predictors, or independent variables. $y$ is dependent (target) variable."
   ]
  },
  {
   "cell_type": "code",
   "execution_count": 132,
   "metadata": {},
   "outputs": [],
   "source": [
    "x1 = np.random.random_sample((2000,)) \n",
    "x2 = np.random.random_sample((2000,)) \n",
    "x3 = np.random.random_sample((2000,)) \n",
    "          \n",
    "x_col = 2*x1       \n",
    "err = np.random.normal(0, 10, 2000)\n",
    "\n",
    "y = 10*x1 + 3*x2 + x3 + 4*x_col + err\n",
    "\n",
    "data = pd.DataFrame({'x1': x1, 'x2': x2, 'x3': x3, 'x_col': x_col, 'y': y})"
   ]
  },
  {
   "cell_type": "markdown",
   "metadata": {},
   "source": [
    "In the example, $a=0$, $b=10$, $c=3$, $d=1$ and $e=4$. There exists multicollinearity since $x_{col}$ is a linear combination in terms of $x_1$ and $x_3$. Therefore, the reduced relation should be \n",
    "$$ y = 18x_1 +3x_2 +x_3 + \\epsilon.$$\n",
    "Here we generate irreducible errors using a normal distribution with $\\sigma=10$. Note that since the data are generated using standard normal distribution, we don't have to worry about the procedures to standardize variables. As long as the regression coefficients are significant, we can compare the amplitudes as importance. See [How to Identify the Most Important Predictor Variables in Regression Models](http://blog.minitab.com/blog/adventures-in-statistics-2/how-to-identify-the-most-important-predictor-variables-in-regression-models)."
   ]
  },
  {
   "cell_type": "code",
   "execution_count": 38,
   "metadata": {},
   "outputs": [
    {
     "data": {
      "text/html": [
       "<div>\n",
       "<table border=\"1\" class=\"dataframe\">\n",
       "  <thead>\n",
       "    <tr style=\"text-align: right;\">\n",
       "      <th></th>\n",
       "      <th>x1</th>\n",
       "      <th>x2</th>\n",
       "      <th>x3</th>\n",
       "      <th>x_col</th>\n",
       "      <th>y</th>\n",
       "    </tr>\n",
       "  </thead>\n",
       "  <tbody>\n",
       "    <tr>\n",
       "      <th>0</th>\n",
       "      <td>0.524387</td>\n",
       "      <td>0.978207</td>\n",
       "      <td>0.057427</td>\n",
       "      <td>5.343874</td>\n",
       "      <td>38.565558</td>\n",
       "    </tr>\n",
       "    <tr>\n",
       "      <th>1</th>\n",
       "      <td>0.814996</td>\n",
       "      <td>0.160209</td>\n",
       "      <td>0.626270</td>\n",
       "      <td>8.249964</td>\n",
       "      <td>52.327896</td>\n",
       "    </tr>\n",
       "    <tr>\n",
       "      <th>2</th>\n",
       "      <td>0.008605</td>\n",
       "      <td>0.833534</td>\n",
       "      <td>0.219359</td>\n",
       "      <td>0.186046</td>\n",
       "      <td>-0.093717</td>\n",
       "    </tr>\n",
       "    <tr>\n",
       "      <th>3</th>\n",
       "      <td>0.391307</td>\n",
       "      <td>0.915240</td>\n",
       "      <td>0.487689</td>\n",
       "      <td>4.013074</td>\n",
       "      <td>12.429257</td>\n",
       "    </tr>\n",
       "    <tr>\n",
       "      <th>4</th>\n",
       "      <td>0.731593</td>\n",
       "      <td>0.208704</td>\n",
       "      <td>0.840829</td>\n",
       "      <td>7.415927</td>\n",
       "      <td>32.273304</td>\n",
       "    </tr>\n",
       "  </tbody>\n",
       "</table>\n",
       "</div>"
      ],
      "text/plain": [
       "         x1        x2        x3     x_col          y\n",
       "0  0.524387  0.978207  0.057427  5.343874  38.565558\n",
       "1  0.814996  0.160209  0.626270  8.249964  52.327896\n",
       "2  0.008605  0.833534  0.219359  0.186046  -0.093717\n",
       "3  0.391307  0.915240  0.487689  4.013074  12.429257\n",
       "4  0.731593  0.208704  0.840829  7.415927  32.273304"
      ]
     },
     "execution_count": 38,
     "metadata": {},
     "output_type": "execute_result"
    }
   ],
   "source": [
    "data.head()"
   ]
  },
  {
   "cell_type": "markdown",
   "metadata": {},
   "source": [
    "## Pearson's correlation\n"
   ]
  },
  {
   "cell_type": "code",
   "execution_count": 108,
   "metadata": {},
   "outputs": [
    {
     "name": "stdout",
     "output_type": "stream",
     "text": [
      "(0.47825969322884698, 7.7466612747876968e-115)\n",
      "(0.092185642624021416, 3.6452811056544282e-05)\n",
      "(-0.036101299331034571, 0.10652396762121712)\n",
      "(0.47825969322884698, 7.7466612747876968e-115)\n"
     ]
    }
   ],
   "source": [
    "print (stats.pearsonr(x1, y))\n",
    "print (stats.pearsonr(x2, y))\n",
    "print (stats.pearsonr(x3, y))\n",
    "print (stats.pearsonr(x_col, y))"
   ]
  },
  {
   "cell_type": "markdown",
   "metadata": {},
   "source": [
    "The relation betweem $x_3$ and $y$ is not obvious. Both $x_1$ and $x_{col}$ are similarly important to $y$."
   ]
  },
  {
   "cell_type": "code",
   "execution_count": 123,
   "metadata": {},
   "outputs": [
    {
     "data": {
      "image/png": "[encoded data removed]",
      "text/plain": [
       "<matplotlib.figure.Figure at 0x10bd76a90>"
      ]
     },
     "metadata": {},
     "output_type": "display_data"
    }
   ],
   "source": [
    "fig, ax = plt.subplots(nrows=1, ncols=4, figsize=(13, 3))\n",
    "ax = plt.subplot(141)\n",
    "plt.hist2d(x1, y, bins=40)\n",
    "plt.xlabel('x1', fontsize=15)\n",
    "plt.ylabel('y', fontsize=15)\n",
    "plt.colorbar()\n",
    "\n",
    "ax = plt.subplot(142)\n",
    "plt.hist2d(x2, y, bins=40)\n",
    "plt.xlabel('x2', fontsize=15)\n",
    "plt.colorbar()\n",
    "\n",
    "ax = plt.subplot(143)\n",
    "plt.hist2d(x3, y, bins=40)\n",
    "plt.xlabel('x3', fontsize=15)\n",
    "plt.colorbar()\n",
    "\n",
    "ax = plt.subplot(144)\n",
    "plt.hist2d(x_col, y, bins=40)\n",
    "plt.xlabel('x_col', fontsize=15)\n",
    "plt.colorbar()\n",
    "\n",
    "fig.tight_layout()\n",
    "plt.show()"
   ]
  },
  {
   "cell_type": "markdown",
   "metadata": {},
   "source": [
    "## Ordinary least square on ALL variables\n",
    "\n",
    "First let's simply take all predictors in regression. We have the mean absolute error 7.98 and $R^2$ = 0.61"
   ]
  },
  {
   "cell_type": "code",
   "execution_count": 133,
   "metadata": {},
   "outputs": [
    {
     "name": "stdout",
     "output_type": "stream",
     "text": [
      "7.73983545012\n"
     ]
    },
    {
     "data": {
      "text/html": [
       "<table class=\"simpletable\">\n",
       "<caption>OLS Regression Results</caption>\n",
       "<tr>\n",
       "  <th>Dep. Variable:</th>            <td>y</td>        <th>  R-squared:         </th> <td>   0.610</td> \n",
       "</tr>\n",
       "<tr>\n",
       "  <th>Model:</th>                   <td>OLS</td>       <th>  Adj. R-squared:    </th> <td>   0.609</td> \n",
       "</tr>\n",
       "<tr>\n",
       "  <th>Method:</th>             <td>Least Squares</td>  <th>  F-statistic:       </th> <td>   1040.</td> \n",
       "</tr>\n",
       "<tr>\n",
       "  <th>Date:</th>             <td>Tue, 06 Feb 2018</td> <th>  Prob (F-statistic):</th>  <td>  0.00</td>  \n",
       "</tr>\n",
       "<tr>\n",
       "  <th>Time:</th>                 <td>00:32:45</td>     <th>  Log-Likelihood:    </th> <td> -7379.1</td> \n",
       "</tr>\n",
       "<tr>\n",
       "  <th>No. Observations:</th>      <td>  2000</td>      <th>  AIC:               </th> <td>1.476e+04</td>\n",
       "</tr>\n",
       "<tr>\n",
       "  <th>Df Residuals:</th>          <td>  1997</td>      <th>  BIC:               </th> <td>1.478e+04</td>\n",
       "</tr>\n",
       "<tr>\n",
       "  <th>Df Model:</th>              <td>     3</td>      <th>                     </th>     <td> </td>    \n",
       "</tr>\n",
       "<tr>\n",
       "  <th>Covariance Type:</th>      <td>nonrobust</td>    <th>                     </th>     <td> </td>    \n",
       "</tr>\n",
       "</table>\n",
       "<table class=\"simpletable\">\n",
       "<tr>\n",
       "    <td></td>       <th>coef</th>     <th>std err</th>      <th>t</th>      <th>P>|t|</th> <th>[95.0% Conf. Int.]</th> \n",
       "</tr>\n",
       "<tr>\n",
       "  <th>x1</th>    <td>    3.6451</td> <td>    0.128</td> <td>   28.553</td> <td> 0.000</td> <td>    3.395     3.895</td>\n",
       "</tr>\n",
       "<tr>\n",
       "  <th>x2</th>    <td>    3.7050</td> <td>    0.629</td> <td>    5.888</td> <td> 0.000</td> <td>    2.471     4.939</td>\n",
       "</tr>\n",
       "<tr>\n",
       "  <th>x3</th>    <td>    0.0861</td> <td>    0.630</td> <td>    0.137</td> <td> 0.891</td> <td>   -1.150     1.322</td>\n",
       "</tr>\n",
       "<tr>\n",
       "  <th>x_col</th> <td>    7.2903</td> <td>    0.255</td> <td>   28.553</td> <td> 0.000</td> <td>    6.790     7.791</td>\n",
       "</tr>\n",
       "</table>\n",
       "<table class=\"simpletable\">\n",
       "<tr>\n",
       "  <th>Omnibus:</th>       <td> 0.019</td> <th>  Durbin-Watson:     </th> <td>   1.961</td>\n",
       "</tr>\n",
       "<tr>\n",
       "  <th>Prob(Omnibus):</th> <td> 0.990</td> <th>  Jarque-Bera (JB):  </th> <td>   0.030</td>\n",
       "</tr>\n",
       "<tr>\n",
       "  <th>Skew:</th>          <td> 0.007</td> <th>  Prob(JB):          </th> <td>   0.985</td>\n",
       "</tr>\n",
       "<tr>\n",
       "  <th>Kurtosis:</th>      <td> 2.988</td> <th>  Cond. No.          </th> <td>7.91e+15</td>\n",
       "</tr>\n",
       "</table>"
      ],
      "text/plain": [
       "<class 'statsmodels.iolib.summary.Summary'>\n",
       "\"\"\"\n",
       "                            OLS Regression Results                            \n",
       "==============================================================================\n",
       "Dep. Variable:                      y   R-squared:                       0.610\n",
       "Model:                            OLS   Adj. R-squared:                  0.609\n",
       "Method:                 Least Squares   F-statistic:                     1040.\n",
       "Date:                Tue, 06 Feb 2018   Prob (F-statistic):               0.00\n",
       "Time:                        00:32:45   Log-Likelihood:                -7379.1\n",
       "No. Observations:                2000   AIC:                         1.476e+04\n",
       "Df Residuals:                    1997   BIC:                         1.478e+04\n",
       "Df Model:                           3                                         \n",
       "Covariance Type:            nonrobust                                         \n",
       "==============================================================================\n",
       "                 coef    std err          t      P>|t|      [95.0% Conf. Int.]\n",
       "------------------------------------------------------------------------------\n",
       "x1             3.6451      0.128     28.553      0.000         3.395     3.895\n",
       "x2             3.7050      0.629      5.888      0.000         2.471     4.939\n",
       "x3             0.0861      0.630      0.137      0.891        -1.150     1.322\n",
       "x_col          7.2903      0.255     28.553      0.000         6.790     7.791\n",
       "==============================================================================\n",
       "Omnibus:                        0.019   Durbin-Watson:                   1.961\n",
       "Prob(Omnibus):                  0.990   Jarque-Bera (JB):                0.030\n",
       "Skew:                           0.007   Prob(JB):                        0.985\n",
       "Kurtosis:                       2.988   Cond. No.                     7.91e+15\n",
       "==============================================================================\n",
       "\n",
       "Warnings:\n",
       "[1] Standard Errors assume that the covariance matrix of the errors is correctly specified.\n",
       "[2] The smallest eigenvalue is 6.52e-29. This might indicate that there are\n",
       "strong multicollinearity problems or that the design matrix is singular.\n",
       "\"\"\""
      ]
     },
     "execution_count": 133,
     "metadata": {},
     "output_type": "execute_result"
    }
   ],
   "source": [
    "X = data[['x1', 'x2', 'x3', 'x_col']]\n",
    "Y = data['y']\n",
    "\n",
    "model = sm.OLS(y, X).fit()\n",
    "print (np.mean(abs(np.array(Y)-np.array(model.predict(X)))))\n",
    "model.summary()"
   ]
  },
  {
   "cell_type": "markdown",
   "metadata": {},
   "source": [
    "However, note the coefficients make no sense. If we sort the importance by the coefficients (even consider significant variable $x_1$, $x_2$ and $x_{col}$), the most importance variable is $x_{col}$, and then $x_1$ and $x_2$ are equally important. In this case, we will make wrong judgement to explain the data.\n",
    "\n",
    "## Ordinary least square after removing multicollinear variables\n",
    "\n",
    "Now let's only consider truely independent variables: $x_1, x_2, x_3$ in regression"
   ]
  },
  {
   "cell_type": "code",
   "execution_count": 134,
   "metadata": {},
   "outputs": [
    {
     "name": "stdout",
     "output_type": "stream",
     "text": [
      "7.73983545012\n"
     ]
    },
    {
     "data": {
      "text/html": [
       "<table class=\"simpletable\">\n",
       "<caption>OLS Regression Results</caption>\n",
       "<tr>\n",
       "  <th>Dep. Variable:</th>            <td>y</td>        <th>  R-squared:         </th> <td>   0.610</td> \n",
       "</tr>\n",
       "<tr>\n",
       "  <th>Model:</th>                   <td>OLS</td>       <th>  Adj. R-squared:    </th> <td>   0.609</td> \n",
       "</tr>\n",
       "<tr>\n",
       "  <th>Method:</th>             <td>Least Squares</td>  <th>  F-statistic:       </th> <td>   1040.</td> \n",
       "</tr>\n",
       "<tr>\n",
       "  <th>Date:</th>             <td>Tue, 06 Feb 2018</td> <th>  Prob (F-statistic):</th>  <td>  0.00</td>  \n",
       "</tr>\n",
       "<tr>\n",
       "  <th>Time:</th>                 <td>00:32:51</td>     <th>  Log-Likelihood:    </th> <td> -7379.1</td> \n",
       "</tr>\n",
       "<tr>\n",
       "  <th>No. Observations:</th>      <td>  2000</td>      <th>  AIC:               </th> <td>1.476e+04</td>\n",
       "</tr>\n",
       "<tr>\n",
       "  <th>Df Residuals:</th>          <td>  1997</td>      <th>  BIC:               </th> <td>1.478e+04</td>\n",
       "</tr>\n",
       "<tr>\n",
       "  <th>Df Model:</th>              <td>     3</td>      <th>                     </th>     <td> </td>    \n",
       "</tr>\n",
       "<tr>\n",
       "  <th>Covariance Type:</th>      <td>nonrobust</td>    <th>                     </th>     <td> </td>    \n",
       "</tr>\n",
       "</table>\n",
       "<table class=\"simpletable\">\n",
       "<tr>\n",
       "   <td></td>     <th>coef</th>     <th>std err</th>      <th>t</th>      <th>P>|t|</th> <th>[95.0% Conf. Int.]</th> \n",
       "</tr>\n",
       "<tr>\n",
       "  <th>x1</th> <td>   18.2256</td> <td>    0.638</td> <td>   28.553</td> <td> 0.000</td> <td>   16.974    19.477</td>\n",
       "</tr>\n",
       "<tr>\n",
       "  <th>x2</th> <td>    3.7050</td> <td>    0.629</td> <td>    5.888</td> <td> 0.000</td> <td>    2.471     4.939</td>\n",
       "</tr>\n",
       "<tr>\n",
       "  <th>x3</th> <td>    0.0861</td> <td>    0.630</td> <td>    0.137</td> <td> 0.891</td> <td>   -1.150     1.322</td>\n",
       "</tr>\n",
       "</table>\n",
       "<table class=\"simpletable\">\n",
       "<tr>\n",
       "  <th>Omnibus:</th>       <td> 0.019</td> <th>  Durbin-Watson:     </th> <td>   1.961</td>\n",
       "</tr>\n",
       "<tr>\n",
       "  <th>Prob(Omnibus):</th> <td> 0.990</td> <th>  Jarque-Bera (JB):  </th> <td>   0.030</td>\n",
       "</tr>\n",
       "<tr>\n",
       "  <th>Skew:</th>          <td> 0.007</td> <th>  Prob(JB):          </th> <td>   0.985</td>\n",
       "</tr>\n",
       "<tr>\n",
       "  <th>Kurtosis:</th>      <td> 2.988</td> <th>  Cond. No.          </th> <td>    3.19</td>\n",
       "</tr>\n",
       "</table>"
      ],
      "text/plain": [
       "<class 'statsmodels.iolib.summary.Summary'>\n",
       "\"\"\"\n",
       "                            OLS Regression Results                            \n",
       "==============================================================================\n",
       "Dep. Variable:                      y   R-squared:                       0.610\n",
       "Model:                            OLS   Adj. R-squared:                  0.609\n",
       "Method:                 Least Squares   F-statistic:                     1040.\n",
       "Date:                Tue, 06 Feb 2018   Prob (F-statistic):               0.00\n",
       "Time:                        00:32:51   Log-Likelihood:                -7379.1\n",
       "No. Observations:                2000   AIC:                         1.476e+04\n",
       "Df Residuals:                    1997   BIC:                         1.478e+04\n",
       "Df Model:                           3                                         \n",
       "Covariance Type:            nonrobust                                         \n",
       "==============================================================================\n",
       "                 coef    std err          t      P>|t|      [95.0% Conf. Int.]\n",
       "------------------------------------------------------------------------------\n",
       "x1            18.2256      0.638     28.553      0.000        16.974    19.477\n",
       "x2             3.7050      0.629      5.888      0.000         2.471     4.939\n",
       "x3             0.0861      0.630      0.137      0.891        -1.150     1.322\n",
       "==============================================================================\n",
       "Omnibus:                        0.019   Durbin-Watson:                   1.961\n",
       "Prob(Omnibus):                  0.990   Jarque-Bera (JB):                0.030\n",
       "Skew:                           0.007   Prob(JB):                        0.985\n",
       "Kurtosis:                       2.988   Cond. No.                         3.19\n",
       "==============================================================================\n",
       "\n",
       "Warnings:\n",
       "[1] Standard Errors assume that the covariance matrix of the errors is correctly specified.\n",
       "\"\"\""
      ]
     },
     "execution_count": 134,
     "metadata": {},
     "output_type": "execute_result"
    }
   ],
   "source": [
    "X = data[['x1', 'x2', 'x3']]\n",
    "Y = data['y']\n",
    "\n",
    "model = sm.OLS(y, X).fit()\n",
    "print (np.mean(abs(np.array(Y)-np.array(model.predict(X)))))\n",
    "model.summary()"
   ]
  },
  {
   "cell_type": "markdown",
   "metadata": {},
   "source": [
    "The mean absolute error and $R^2$ are still the same, but now coefficients make more sense for us. The predictor importance is simply consistent with the rank of coefficients' amplitude: $x_1$ > $x_2$ > $x_3$."
   ]
  },
  {
   "cell_type": "markdown",
   "metadata": {},
   "source": [
    "## Compute VIF in Python\n",
    "\n",
    "So, how to detect multicollinearity in our data?"
   ]
  },
  {
   "cell_type": "code",
   "execution_count": 86,
   "metadata": {},
   "outputs": [],
   "source": [
    "from patsy import dmatrices"
   ]
  },
  {
   "cell_type": "code",
   "execution_count": 136,
   "metadata": {},
   "outputs": [],
   "source": [
    "features = \"+\".join([\"x1\", \"x2\", \"x3\", \"x_col\"])\n",
    "\n",
    "y, X = dmatrices('y ~' + features, data, return_type='dataframe')"
   ]
  },
  {
   "cell_type": "code",
   "execution_count": 137,
   "metadata": {},
   "outputs": [
    {
     "name": "stderr",
     "output_type": "stream",
     "text": [
      "/Users/hhhung/anaconda/lib/python3.4/site-packages/statsmodels/stats/outliers_influence.py:167: RuntimeWarning: divide by zero encountered in double_scalars\n",
      "  vif = 1. / (1. - r_squared_i)\n"
     ]
    },
    {
     "data": {
      "text/html": [
       "<div>\n",
       "<table border=\"1\" class=\"dataframe\">\n",
       "  <thead>\n",
       "    <tr style=\"text-align: right;\">\n",
       "      <th></th>\n",
       "      <th>VIF Factor</th>\n",
       "      <th>features</th>\n",
       "    </tr>\n",
       "  </thead>\n",
       "  <tbody>\n",
       "    <tr>\n",
       "      <th>0</th>\n",
       "      <td>9.526188</td>\n",
       "      <td>Intercept</td>\n",
       "    </tr>\n",
       "    <tr>\n",
       "      <th>1</th>\n",
       "      <td>inf</td>\n",
       "      <td>x1</td>\n",
       "    </tr>\n",
       "    <tr>\n",
       "      <th>2</th>\n",
       "      <td>1.000632</td>\n",
       "      <td>x2</td>\n",
       "    </tr>\n",
       "    <tr>\n",
       "      <th>3</th>\n",
       "      <td>1.000867</td>\n",
       "      <td>x3</td>\n",
       "    </tr>\n",
       "    <tr>\n",
       "      <th>4</th>\n",
       "      <td>inf</td>\n",
       "      <td>x_col</td>\n",
       "    </tr>\n",
       "  </tbody>\n",
       "</table>\n",
       "</div>"
      ],
      "text/plain": [
       "   VIF Factor   features\n",
       "0    9.526188  Intercept\n",
       "1         inf         x1\n",
       "2    1.000632         x2\n",
       "3    1.000867         x3\n",
       "4         inf      x_col"
      ]
     },
     "execution_count": 137,
     "metadata": {},
     "output_type": "execute_result"
    }
   ],
   "source": [
    "vif = pd.DataFrame()\n",
    "vif[\"VIF Factor\"] = [variance_inflation_factor(X.values, i) for i in range(X.shape[1])]\n",
    "vif[\"features\"] = X.columns\n",
    "vif.head()"
   ]
  },
  {
   "cell_type": "markdown",
   "metadata": {},
   "source": [
    "As long as VIF > 1, it hints existence of multicollinearity on the variables. VIF >5 means severe multicollinearity. From the result, we can $x_1$ and $x_{col}$ are even infinite (away beyond 1). Therefore there exists severe multicollinarity between $x_1$ and $x_{col}$. Next after we remove $x_{col}$ and recompute VIF for each variable:"
   ]
  },
  {
   "cell_type": "code",
   "execution_count": 138,
   "metadata": {},
   "outputs": [
    {
     "data": {
      "text/html": [
       "<div>\n",
       "<table border=\"1\" class=\"dataframe\">\n",
       "  <thead>\n",
       "    <tr style=\"text-align: right;\">\n",
       "      <th></th>\n",
       "      <th>VIF Factor</th>\n",
       "      <th>features</th>\n",
       "    </tr>\n",
       "  </thead>\n",
       "  <tbody>\n",
       "    <tr>\n",
       "      <th>0</th>\n",
       "      <td>9.526188</td>\n",
       "      <td>Intercept</td>\n",
       "    </tr>\n",
       "    <tr>\n",
       "      <th>1</th>\n",
       "      <td>1.001033</td>\n",
       "      <td>x1</td>\n",
       "    </tr>\n",
       "    <tr>\n",
       "      <th>2</th>\n",
       "      <td>1.000632</td>\n",
       "      <td>x2</td>\n",
       "    </tr>\n",
       "    <tr>\n",
       "      <th>3</th>\n",
       "      <td>1.000867</td>\n",
       "      <td>x3</td>\n",
       "    </tr>\n",
       "  </tbody>\n",
       "</table>\n",
       "</div>"
      ],
      "text/plain": [
       "   VIF Factor   features\n",
       "0    9.526188  Intercept\n",
       "1    1.001033         x1\n",
       "2    1.000632         x2\n",
       "3    1.000867         x3"
      ]
     },
     "execution_count": 138,
     "metadata": {},
     "output_type": "execute_result"
    }
   ],
   "source": [
    "features = \"+\".join([\"x1\", \"x2\", \"x3\"])\n",
    "\n",
    "y, X = dmatrices('y ~' + features, data, return_type='dataframe')\n",
    "\n",
    "vif = pd.DataFrame()\n",
    "vif[\"VIF Factor\"] = [variance_inflation_factor(X.values, i) for i in range(X.shape[1])]\n",
    "vif[\"features\"] = X.columns\n",
    "vif.head()"
   ]
  },
  {
   "cell_type": "markdown",
   "metadata": {
    "collapsed": true
   },
   "source": [
    "Now we see all variables have VIF=1, and the variables are independent of each other."
   ]
  },
  {
   "cell_type": "code",
   "execution_count": null,
   "metadata": {},
   "outputs": [],
   "source": []
  }
 ],
 "metadata": {
  "anaconda-cloud": {},
  "kernelspec": {
   "display_name": "Python 3",
   "language": "python",
   "name": "python3"
  },
  "language_info": {
   "codemirror_mode": {
    "name": "ipython",
    "version": 3
   },
   "file_extension": ".py",
   "mimetype": "text/x-python",
   "name": "python",
   "nbconvert_exporter": "python",
   "pygments_lexer": "ipython3",
   "version": "3.5.2"
  }
 },
 "nbformat": 4,
 "nbformat_minor": 1
}
