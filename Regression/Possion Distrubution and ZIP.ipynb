{
 "cells": [
  {
   "cell_type": "markdown",
   "metadata": {},
   "source": [
    "# Possion and Zero-Inflated Possion Models Fitting\n",
    "\n",
    "## 1. Normal Possion model\n",
    "\n",
    "The Possion distribution describes discrete counts, like number of cars passes through a toll station or number of patients visiting hospital etc. Therefore, the sample is always a positive integer (zero inclusive). If $X=\\lbrace x_1, x_2, \\cdots, x_n \\rbrace$ forms a Poisson distribution with parameter $\\lambda$, then\n",
    "\n",
    "$$P(x) = \\frac{e^{-\\lambda}\\lambda^x}{x!},$$\n",
    "\n",
    "is the probability to get $x$. In a Possion distribution, both the mean value of X and variance are $\\lambda$. In the following, we will show that, given a sample distribution, how to fit the Possion parameter $\\lambda$."
   ]
  },
  {
   "cell_type": "code",
   "execution_count": 60,
   "metadata": {},
   "outputs": [],
   "source": [
    "import numpy as np\n",
    "from scipy import stats\n",
    "import seaborn as sns\n",
    "from matplotlib import  pyplot as plt\n",
    "\n",
    "N = 1000\n",
    "lambda_ = 3\n",
    "\n",
    "x = stats.poisson.rvs(lambda_, size=N)"
   ]
  },
  {
   "cell_type": "code",
   "execution_count": 62,
   "metadata": {},
   "outputs": [
    {
     "data": {
      "image/png": "[encoded data removed]",
      "text/plain": [
       "<Figure size 576x432 with 1 Axes>"
      ]
     },
     "metadata": {},
     "output_type": "display_data"
    }
   ],
   "source": [
    "fig, ax = plt.subplots(figsize=(8,6))\n",
    "\n",
    "p1t = plt.hist(x, bins = np.linspace(-0.5, max(x), max(x)+1), color='blue', normed=True)\n",
    "\n",
    "plt.ylabel('number of counts', fontsize=20)\n",
    "plt.xlabel('X', fontsize=20)\n",
    "plt.xticks(ind, fontsize=15)\n",
    "plt.xlim(0, max(x))\n",
    "plt.show()"
   ]
  },
  {
   "cell_type": "code",
   "execution_count": 51,
   "metadata": {},
   "outputs": [
    {
     "name": "stdout",
     "output_type": "stream",
     "text": [
      "9 3.11126528123\n"
     ]
    },
    {
     "data": {
      "image/png": "[encoded data removed]",
      "text/plain": [
       "<Figure size 432x288 with 1 Axes>"
      ]
     },
     "metadata": {},
     "output_type": "display_data"
    }
   ],
   "source": [
    "from scipy.optimize import curve_fit\n",
    "from scipy.misc import factorial\n",
    "\n",
    "# poisson function, parameter lamb is the fit parameter\n",
    "def poisson(k, lambda_):\n",
    "    return (lambda_**k/factorial(k)) * np.exp(-lambda_)\n",
    "\n",
    "\n",
    "entries, bin_edges, patches = plt.hist(x, bins=np.linspace(-0.5, max(x), max(x)+1), normed=True);\n",
    "bin_middles = 0.5*(bin_edges[1:] + bin_edges[:-1])\n",
    "\n",
    "# fit with curve_fit\n",
    "parameters, cov_matrix = curve_fit(poisson, bin_middles, entries) \n",
    "    \n",
    "print i, parameters[0]"
   ]
  },
  {
   "cell_type": "markdown",
   "metadata": {},
   "source": [
    "## 2. Zero-inflated Possion Model\n",
    "\n",
    "In addition to the normal Possion distribution, there exists a so-called [zero-inflated Possion model](https://ncss-wpengine.netdna-ssl.com/wp-content/themes/ncss/pdf/Procedures/NCSS/Zero-Inflated_Poisson_Regression.pdf). The model considers some portion as zeros, and other form a Possion distribution. Here we will follow [Austin's blog](http://austinrochford.com/posts/2015-03-03-mle-python-statsmodels.html) how to fit zero-inflated Possion model parameters.\n",
    "\n",
    "If $X=\\lbrace x_1, x_2, \\cdots, x_n \\rbrace$ is sampled by a zero-inflated Poisson distribution with parameters $\\pi$ and $\\lambda$, its probability mass function is given by\n",
    "\n",
    "$$P(x) = \\pi  + (1-\\pi)\\frac{e^{-\\lambda}\\lambda ^x}{\\lambda !}.$$\n",
    "\n",
    "The second term is regular as a normal Possion distribution. $\\pi$ desribes probability for sample is chosen at zero, and $1-\\pi$ describes $x$ follows a Possion distribution. We can further rewrite it as\n",
    "\n",
    "$$P(x=0) = \\pi + (1-\\pi)e^{-\\lambda}$$\n",
    "\n",
    "$$P(x>0) = (1-\\pi)\\frac{e^{-\\lambda}\\lambda ^x}{\\lambda !}$$"
   ]
  },
  {
   "cell_type": "code",
   "execution_count": 83,
   "metadata": {},
   "outputs": [],
   "source": [
    "pi = 0.6             # probability of x = 0\n",
    "p_nonzero = 1 - pi   # probability of x follows a Possion distribution\n",
    "lambda_ = 3"
   ]
  },
  {
   "cell_type": "code",
   "execution_count": 53,
   "metadata": {},
   "outputs": [],
   "source": [
    "def zip_pmf(x, pi=pi, lambda_=lambda_):\n",
    "    if pi < 0 or pi > 1 or lambda_ <= 0:\n",
    "        return np.zeros_like(x)\n",
    "    else:\n",
    "        return (x == 0) * pi + (1 - pi) * stats.poisson.pmf(x, lambda_)"
   ]
  },
  {
   "cell_type": "code",
   "execution_count": 91,
   "metadata": {},
   "outputs": [
    {
     "name": "stdout",
     "output_type": "stream",
     "text": [
      "397\n"
     ]
    }
   ],
   "source": [
    "inflated_zero = stats.bernoulli.rvs(p_nonzero, size=N)\n",
    "print sum(inflated_zero)\n",
    "x = inflated_zero * stats.poisson.rvs(lambda_, size=N)\n",
    "# inflated_zero is an array where 40% (pi) is zero and 60% (1-pi) will go Possion distribution"
   ]
  },
  {
   "cell_type": "code",
   "execution_count": 92,
   "metadata": {},
   "outputs": [
    {
     "data": {
      "image/png": "[encoded data removed]",
      "text/plain": [
       "<Figure size 576x432 with 1 Axes>"
      ]
     },
     "metadata": {},
     "output_type": "display_data"
    }
   ],
   "source": [
    "fig, ax = plt.subplots(figsize=(8,6))\n",
    "\n",
    "p1t = plt.hist(x, bins = np.linspace(-0.5, max(x), max(x)+1), color='blue', normed=True)\n",
    "\n",
    "plt.ylabel('number of counts', fontsize=20)\n",
    "plt.xlabel('X', fontsize=20)\n",
    "plt.xticks(ind, fontsize=15)\n",
    "plt.xlim(0, 12)\n",
    "plt.show()"
   ]
  },
  {
   "cell_type": "code",
   "execution_count": 99,
   "metadata": {},
   "outputs": [],
   "source": [
    "from scipy import stats\n",
    "from statsmodels.base.model import GenericLikelihoodModel\n",
    "\n",
    "class ZeroInflatedPoisson(GenericLikelihoodModel):\n",
    "    def __init__(self, endog, exog=None, **kwds):\n",
    "        if exog is None:\n",
    "            exog = np.zeros_like(endog)\n",
    "            \n",
    "        super(ZeroInflatedPoisson, self).__init__(endog, exog, **kwds)\n",
    "    \n",
    "    def nloglikeobs(self, params):\n",
    "        pi = params[0]\n",
    "        lambda_ = params[1]\n",
    "\n",
    "        return -np.log(zip_pmf(self.endog, pi=pi, lambda_=lambda_))\n",
    "    \n",
    "    def fit(self, start_params=None, maxiter=10000, maxfun=5000, **kwds):                \n",
    "        if start_params is None:\n",
    "            lambda_start = self.endognloglikeobs.mean()  ## start_lambda, E(x) = lambda\n",
    "            excess_zeros = (self.endog == 0).mean() - stats.poisson.pmf(0, lambda_start)  ## start\n",
    "            \n",
    "            start_params = np.array([excess_zeros, lambda_start])\n",
    "        \n",
    "        return super(ZeroInflatedPoisson, self).fit(start_params=start_params,\n",
    "                                                    maxiter=maxiter, maxfun=maxfun, **kwds)"
   ]
  },
  {
   "cell_type": "markdown",
   "metadata": {},
   "source": [
    "The `ZeroInflatedPoisson` class inherits from [`GenericLikelihoodModel`](http://www.statsmodels.org/dev/_modules/statsmodels/base/model.html#GenericLikelihoodModel). The method `nloglikeobs` returns the negative log likelihood of each observed value in `endog`. To fit the zero-inflated Possion model, the likelidhood is written as\n",
    "\n",
    "$$l(\\pi, \\lambda)= \\Pi^N_{i =1} P(x=x_i)=\\Pi^N_{i=1} \\Big( \\pi + (1-\\pi)e^{-\\lambda} \\Big)^{x_i=0} \\Big((1-\\pi)\\frac{e^{-\\lambda}\\lambda ^x}{\\lambda !} \\Big)^{x_i >0}.$$\n",
    "\n",
    "The log likelihood is weitten as \n",
    "$$\\log l(\\pi, \\lambda)= \\sum\\limits_{x_i=0} \\log\\Big( \\pi + (1-\\pi)e^{-\\lambda} \\Big) + \\sum\\limits_{x_i>0}\\log\\Big((1-\\pi)\\frac{e^{-\\lambda}\\lambda ^x}{\\lambda !} \\Big).$$\n",
    "\n",
    "The `GenericLikelihoodModel` will minimizing the log likelidhood to find optimal fit ZIP parameters $\\pi$ and $\\lambda$."
   ]
  },
  {
   "cell_type": "code",
   "execution_count": 100,
   "metadata": {},
   "outputs": [
    {
     "name": "stdout",
     "output_type": "stream",
     "text": [
      "None\n",
      "Optimization terminated successfully.\n",
      "         Current function value: 1.365980\n",
      "         Iterations: 41\n",
      "         Function evaluations: 76\n"
     ]
    }
   ],
   "source": [
    "model = ZeroInflatedPoisson(x)\n",
    "results = model.fit()"
   ]
  },
  {
   "cell_type": "code",
   "execution_count": 96,
   "metadata": {},
   "outputs": [
    {
     "data": {
      "text/plain": [
       "array([ 0.6034378 ,  3.06122227])"
      ]
     },
     "execution_count": 96,
     "metadata": {},
     "output_type": "execute_result"
    }
   ],
   "source": [
    "results.params"
   ]
  },
  {
   "cell_type": "code",
   "execution_count": null,
   "metadata": {},
   "outputs": [],
   "source": []
  }
 ],
 "metadata": {
  "kernelspec": {
   "display_name": "Python [default]",
   "language": "python",
   "name": "python2"
  },
  "language_info": {
   "codemirror_mode": {
    "name": "ipython",
    "version": 2
   },
   "file_extension": ".py",
   "mimetype": "text/x-python",
   "name": "python",
   "nbconvert_exporter": "python",
   "pygments_lexer": "ipython2",
   "version": "2.7.12"
  }
 },
 "nbformat": 4,
 "nbformat_minor": 2
}
