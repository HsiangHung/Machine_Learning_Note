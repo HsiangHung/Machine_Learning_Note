{
 "cells": [
  {
   "cell_type": "markdown",
   "metadata": {},
   "source": [
    "# ML: Marketing Email Campaign \n",
    "\n",
    "## Goal\n",
    "\n",
    "Optimizing marketing campaigns is one of the most common data science tasks. Among the many possible marketing tools, one of the most efficient is using emails.\n",
    "\n",
    "Emails are great cause they are free and can be easily personalized. Email optimization involves personalizing the text and/or the subject, who should receive it, when should be sent, etc. Machine Learning excels at this.\n",
    "\n",
    "\n",
    "## Challenge Description\n",
    "\n",
    "The marketing team of an e-commerce site has launched an email campaign. This site has email addresses from all the users who created an account in the past.\n",
    "\n",
    "They have chosen a random sample of users and emailed them. The email let the user know about a new feature implemented on the site. From the marketing team perspective, a success is if the user clicks on the link inside of the email. This link takes the user to the company site.\n",
    "\n",
    "You are in charge of figuring out how the email campaign performed and were asked the following questions:\n",
    "\n",
    "* What percentage of users opened the email and what percentage clicked on the link within the email?\n",
    "* The VP of marketing thinks that it is stupid to send emails to a random subset and in a random way. Based on all the information you have about the emails that were sent, can you build a model to optimize in future email campaigns to maximize the probability of users clicking on the link inside the email?\n",
    "* By how much do you think your model would improve click through rate ( defined as # of users who click on the link / total users who received the email). How would you test that?\n",
    "* Did you find any interesting pattern on how the email campaign performed for different segments of users? Explain.\n",
    "\n",
    "In this notebook, we will further investigate logistic regression models and answer (follow the link [Regressions and Coefficients](https://productds.com/wp-content/uploads/Logistic_Regression.html)) the fourth question in the last part."
   ]
  },
  {
   "cell_type": "code",
   "execution_count": 1,
   "metadata": {},
   "outputs": [],
   "source": [
    "import numpy as np\n",
    "import pandas as pd\n",
    "import matplotlib.pyplot as plt"
   ]
  },
  {
   "cell_type": "markdown",
   "metadata": {},
   "source": [
    "## Data\n",
    "\n",
    "### email_table\n",
    "\n",
    "Info about each email that was sent.\n",
    "\n",
    "* **email_id**: the Id of the email that was sent. It is unique by email\n",
    "* **email_text**: there are two versions of the email: one has \"long text\" (i.e. has 4 paragraphs) and one has \"short text\" (just 2 paragraphs)\n",
    "* **email_version**: some emails were \"personalized\" (i.e. they had the name of the user receiving the email in the incipit, such as \"Hi John,\"), while some emails were\n",
    "\"generic\" (the incipit was just \"Hi,\").\n",
    "* **hour**: the user local time when the email was sent.\n",
    "* **weekday**: the day when the email was sent.\n",
    "* **user_country**: the country where the user receiving the email was based. It comes from the user ip address when she created the account.\n",
    "* **user_past_purchases**: how many items in the past were bought by the user receiving the email\n"
   ]
  },
  {
   "cell_type": "code",
   "execution_count": 3,
   "metadata": {},
   "outputs": [
    {
     "name": "stdout",
     "output_type": "stream",
     "text": [
      "(100000, 7)\n"
     ]
    },
    {
     "data": {
      "text/html": [
       "<div>\n",
       "<style scoped>\n",
       "    .dataframe tbody tr th:only-of-type {\n",
       "        vertical-align: middle;\n",
       "    }\n",
       "\n",
       "    .dataframe tbody tr th {\n",
       "        vertical-align: top;\n",
       "    }\n",
       "\n",
       "    .dataframe thead th {\n",
       "        text-align: right;\n",
       "    }\n",
       "</style>\n",
       "<table border=\"1\" class=\"dataframe\">\n",
       "  <thead>\n",
       "    <tr style=\"text-align: right;\">\n",
       "      <th></th>\n",
       "      <th>email_id</th>\n",
       "      <th>email_text</th>\n",
       "      <th>email_version</th>\n",
       "      <th>hour</th>\n",
       "      <th>weekday</th>\n",
       "      <th>user_country</th>\n",
       "      <th>user_past_purchases</th>\n",
       "    </tr>\n",
       "  </thead>\n",
       "  <tbody>\n",
       "    <tr>\n",
       "      <th>0</th>\n",
       "      <td>85120</td>\n",
       "      <td>short_email</td>\n",
       "      <td>personalized</td>\n",
       "      <td>2</td>\n",
       "      <td>Sunday</td>\n",
       "      <td>US</td>\n",
       "      <td>5</td>\n",
       "    </tr>\n",
       "    <tr>\n",
       "      <th>1</th>\n",
       "      <td>966622</td>\n",
       "      <td>long_email</td>\n",
       "      <td>personalized</td>\n",
       "      <td>12</td>\n",
       "      <td>Sunday</td>\n",
       "      <td>UK</td>\n",
       "      <td>2</td>\n",
       "    </tr>\n",
       "    <tr>\n",
       "      <th>2</th>\n",
       "      <td>777221</td>\n",
       "      <td>long_email</td>\n",
       "      <td>personalized</td>\n",
       "      <td>11</td>\n",
       "      <td>Wednesday</td>\n",
       "      <td>US</td>\n",
       "      <td>2</td>\n",
       "    </tr>\n",
       "    <tr>\n",
       "      <th>3</th>\n",
       "      <td>493711</td>\n",
       "      <td>short_email</td>\n",
       "      <td>generic</td>\n",
       "      <td>6</td>\n",
       "      <td>Monday</td>\n",
       "      <td>UK</td>\n",
       "      <td>1</td>\n",
       "    </tr>\n",
       "    <tr>\n",
       "      <th>4</th>\n",
       "      <td>106887</td>\n",
       "      <td>long_email</td>\n",
       "      <td>generic</td>\n",
       "      <td>14</td>\n",
       "      <td>Monday</td>\n",
       "      <td>US</td>\n",
       "      <td>6</td>\n",
       "    </tr>\n",
       "  </tbody>\n",
       "</table>\n",
       "</div>"
      ],
      "text/plain": [
       "   email_id   email_text email_version  hour    weekday user_country  \\\n",
       "0     85120  short_email  personalized     2     Sunday           US   \n",
       "1    966622   long_email  personalized    12     Sunday           UK   \n",
       "2    777221   long_email  personalized    11  Wednesday           US   \n",
       "3    493711  short_email       generic     6     Monday           UK   \n",
       "4    106887   long_email       generic    14     Monday           US   \n",
       "\n",
       "   user_past_purchases  \n",
       "0                    5  \n",
       "1                    2  \n",
       "2                    2  \n",
       "3                    1  \n",
       "4                    6  "
      ]
     },
     "execution_count": 3,
     "metadata": {},
     "output_type": "execute_result"
    }
   ],
   "source": [
    "data = pd.read_csv(\"email_table.csv\")\n",
    "print (data.shape)\n",
    "data.head()"
   ]
  },
  {
   "cell_type": "markdown",
   "metadata": {},
   "source": [
    "### email_opened_table\n",
    "\n",
    "The id of the emails that were opened at least once.\n",
    "\n",
    "* **email_id**: the id of the emails that were opened, i.e. the user clicked on the email and, supposedly, read it.\n"
   ]
  },
  {
   "cell_type": "code",
   "execution_count": 4,
   "metadata": {},
   "outputs": [
    {
     "name": "stdout",
     "output_type": "stream",
     "text": [
      "(10345, 1)\n"
     ]
    },
    {
     "data": {
      "text/html": [
       "<div>\n",
       "<style scoped>\n",
       "    .dataframe tbody tr th:only-of-type {\n",
       "        vertical-align: middle;\n",
       "    }\n",
       "\n",
       "    .dataframe tbody tr th {\n",
       "        vertical-align: top;\n",
       "    }\n",
       "\n",
       "    .dataframe thead th {\n",
       "        text-align: right;\n",
       "    }\n",
       "</style>\n",
       "<table border=\"1\" class=\"dataframe\">\n",
       "  <thead>\n",
       "    <tr style=\"text-align: right;\">\n",
       "      <th></th>\n",
       "      <th>email_id</th>\n",
       "    </tr>\n",
       "  </thead>\n",
       "  <tbody>\n",
       "    <tr>\n",
       "      <th>0</th>\n",
       "      <td>284534</td>\n",
       "    </tr>\n",
       "    <tr>\n",
       "      <th>1</th>\n",
       "      <td>609056</td>\n",
       "    </tr>\n",
       "    <tr>\n",
       "      <th>2</th>\n",
       "      <td>220820</td>\n",
       "    </tr>\n",
       "    <tr>\n",
       "      <th>3</th>\n",
       "      <td>905936</td>\n",
       "    </tr>\n",
       "    <tr>\n",
       "      <th>4</th>\n",
       "      <td>164034</td>\n",
       "    </tr>\n",
       "  </tbody>\n",
       "</table>\n",
       "</div>"
      ],
      "text/plain": [
       "   email_id\n",
       "0    284534\n",
       "1    609056\n",
       "2    220820\n",
       "3    905936\n",
       "4    164034"
      ]
     },
     "execution_count": 4,
     "metadata": {},
     "output_type": "execute_result"
    }
   ],
   "source": [
    "email_open = pd.read_csv(\"email_opened_table.csv\")\n",
    "print (email_open.shape)\n",
    "email_open.head()"
   ]
  },
  {
   "cell_type": "markdown",
   "metadata": {},
   "source": [
    "### link_clicked_table\n",
    "The id of the emails whose link inside was clicked at least once. This user was then brought to the site.\n",
    "\n",
    "* **email_id**: if the user clicked on the link within the email, then the id of the email shows up on this table."
   ]
  },
  {
   "cell_type": "code",
   "execution_count": 5,
   "metadata": {},
   "outputs": [
    {
     "name": "stdout",
     "output_type": "stream",
     "text": [
      "(2119, 1)\n"
     ]
    },
    {
     "data": {
      "text/html": [
       "<div>\n",
       "<style scoped>\n",
       "    .dataframe tbody tr th:only-of-type {\n",
       "        vertical-align: middle;\n",
       "    }\n",
       "\n",
       "    .dataframe tbody tr th {\n",
       "        vertical-align: top;\n",
       "    }\n",
       "\n",
       "    .dataframe thead th {\n",
       "        text-align: right;\n",
       "    }\n",
       "</style>\n",
       "<table border=\"1\" class=\"dataframe\">\n",
       "  <thead>\n",
       "    <tr style=\"text-align: right;\">\n",
       "      <th></th>\n",
       "      <th>email_id</th>\n",
       "    </tr>\n",
       "  </thead>\n",
       "  <tbody>\n",
       "    <tr>\n",
       "      <th>0</th>\n",
       "      <td>609056</td>\n",
       "    </tr>\n",
       "    <tr>\n",
       "      <th>1</th>\n",
       "      <td>870980</td>\n",
       "    </tr>\n",
       "    <tr>\n",
       "      <th>2</th>\n",
       "      <td>935124</td>\n",
       "    </tr>\n",
       "    <tr>\n",
       "      <th>3</th>\n",
       "      <td>158501</td>\n",
       "    </tr>\n",
       "    <tr>\n",
       "      <th>4</th>\n",
       "      <td>177561</td>\n",
       "    </tr>\n",
       "  </tbody>\n",
       "</table>\n",
       "</div>"
      ],
      "text/plain": [
       "   email_id\n",
       "0    609056\n",
       "1    870980\n",
       "2    935124\n",
       "3    158501\n",
       "4    177561"
      ]
     },
     "execution_count": 5,
     "metadata": {},
     "output_type": "execute_result"
    }
   ],
   "source": [
    "email_click = pd.read_csv(\"link_clicked_table.csv\")\n",
    "print (email_click.shape)\n",
    "email_click.head()"
   ]
  },
  {
   "cell_type": "markdown",
   "metadata": {},
   "source": [
    "## Q1: What percentage of users opened the email and what percentage clicked on the link within the email?"
   ]
  },
  {
   "cell_type": "code",
   "execution_count": 6,
   "metadata": {},
   "outputs": [
    {
     "data": {
      "text/html": [
       "<div>\n",
       "<style scoped>\n",
       "    .dataframe tbody tr th:only-of-type {\n",
       "        vertical-align: middle;\n",
       "    }\n",
       "\n",
       "    .dataframe tbody tr th {\n",
       "        vertical-align: top;\n",
       "    }\n",
       "\n",
       "    .dataframe thead th {\n",
       "        text-align: right;\n",
       "    }\n",
       "</style>\n",
       "<table border=\"1\" class=\"dataframe\">\n",
       "  <thead>\n",
       "    <tr style=\"text-align: right;\">\n",
       "      <th></th>\n",
       "      <th>email_id</th>\n",
       "      <th>email_text</th>\n",
       "      <th>email_version</th>\n",
       "      <th>hour</th>\n",
       "      <th>weekday</th>\n",
       "      <th>user_country</th>\n",
       "      <th>user_past_purchases</th>\n",
       "      <th>open</th>\n",
       "    </tr>\n",
       "  </thead>\n",
       "  <tbody>\n",
       "    <tr>\n",
       "      <th>0</th>\n",
       "      <td>85120</td>\n",
       "      <td>short_email</td>\n",
       "      <td>personalized</td>\n",
       "      <td>2</td>\n",
       "      <td>Sunday</td>\n",
       "      <td>US</td>\n",
       "      <td>5</td>\n",
       "      <td>0</td>\n",
       "    </tr>\n",
       "    <tr>\n",
       "      <th>1</th>\n",
       "      <td>966622</td>\n",
       "      <td>long_email</td>\n",
       "      <td>personalized</td>\n",
       "      <td>12</td>\n",
       "      <td>Sunday</td>\n",
       "      <td>UK</td>\n",
       "      <td>2</td>\n",
       "      <td>1</td>\n",
       "    </tr>\n",
       "    <tr>\n",
       "      <th>2</th>\n",
       "      <td>777221</td>\n",
       "      <td>long_email</td>\n",
       "      <td>personalized</td>\n",
       "      <td>11</td>\n",
       "      <td>Wednesday</td>\n",
       "      <td>US</td>\n",
       "      <td>2</td>\n",
       "      <td>0</td>\n",
       "    </tr>\n",
       "    <tr>\n",
       "      <th>3</th>\n",
       "      <td>493711</td>\n",
       "      <td>short_email</td>\n",
       "      <td>generic</td>\n",
       "      <td>6</td>\n",
       "      <td>Monday</td>\n",
       "      <td>UK</td>\n",
       "      <td>1</td>\n",
       "      <td>0</td>\n",
       "    </tr>\n",
       "    <tr>\n",
       "      <th>4</th>\n",
       "      <td>106887</td>\n",
       "      <td>long_email</td>\n",
       "      <td>generic</td>\n",
       "      <td>14</td>\n",
       "      <td>Monday</td>\n",
       "      <td>US</td>\n",
       "      <td>6</td>\n",
       "      <td>0</td>\n",
       "    </tr>\n",
       "  </tbody>\n",
       "</table>\n",
       "</div>"
      ],
      "text/plain": [
       "   email_id   email_text email_version  hour    weekday user_country  \\\n",
       "0     85120  short_email  personalized     2     Sunday           US   \n",
       "1    966622   long_email  personalized    12     Sunday           UK   \n",
       "2    777221   long_email  personalized    11  Wednesday           US   \n",
       "3    493711  short_email       generic     6     Monday           UK   \n",
       "4    106887   long_email       generic    14     Monday           US   \n",
       "\n",
       "   user_past_purchases  open  \n",
       "0                    5     0  \n",
       "1                    2     1  \n",
       "2                    2     0  \n",
       "3                    1     0  \n",
       "4                    6     0  "
      ]
     },
     "execution_count": 6,
     "metadata": {},
     "output_type": "execute_result"
    }
   ],
   "source": [
    "email_open_set = set(email_open[\"email_id\"])\n",
    "data[\"open\"] = data[\"email_id\"].apply(lambda x: 1 if x in email_open_set else 0)\n",
    "data.head()"
   ]
  },
  {
   "cell_type": "code",
   "execution_count": 7,
   "metadata": {},
   "outputs": [
    {
     "data": {
      "text/html": [
       "<div>\n",
       "<style scoped>\n",
       "    .dataframe tbody tr th:only-of-type {\n",
       "        vertical-align: middle;\n",
       "    }\n",
       "\n",
       "    .dataframe tbody tr th {\n",
       "        vertical-align: top;\n",
       "    }\n",
       "\n",
       "    .dataframe thead th {\n",
       "        text-align: right;\n",
       "    }\n",
       "</style>\n",
       "<table border=\"1\" class=\"dataframe\">\n",
       "  <thead>\n",
       "    <tr style=\"text-align: right;\">\n",
       "      <th></th>\n",
       "      <th>email_id</th>\n",
       "      <th>email_text</th>\n",
       "      <th>email_version</th>\n",
       "      <th>hour</th>\n",
       "      <th>weekday</th>\n",
       "      <th>user_country</th>\n",
       "      <th>user_past_purchases</th>\n",
       "      <th>open</th>\n",
       "      <th>click</th>\n",
       "    </tr>\n",
       "  </thead>\n",
       "  <tbody>\n",
       "    <tr>\n",
       "      <th>0</th>\n",
       "      <td>85120</td>\n",
       "      <td>short_email</td>\n",
       "      <td>personalized</td>\n",
       "      <td>2</td>\n",
       "      <td>Sunday</td>\n",
       "      <td>US</td>\n",
       "      <td>5</td>\n",
       "      <td>0</td>\n",
       "      <td>0</td>\n",
       "    </tr>\n",
       "    <tr>\n",
       "      <th>1</th>\n",
       "      <td>966622</td>\n",
       "      <td>long_email</td>\n",
       "      <td>personalized</td>\n",
       "      <td>12</td>\n",
       "      <td>Sunday</td>\n",
       "      <td>UK</td>\n",
       "      <td>2</td>\n",
       "      <td>1</td>\n",
       "      <td>1</td>\n",
       "    </tr>\n",
       "    <tr>\n",
       "      <th>2</th>\n",
       "      <td>777221</td>\n",
       "      <td>long_email</td>\n",
       "      <td>personalized</td>\n",
       "      <td>11</td>\n",
       "      <td>Wednesday</td>\n",
       "      <td>US</td>\n",
       "      <td>2</td>\n",
       "      <td>0</td>\n",
       "      <td>0</td>\n",
       "    </tr>\n",
       "    <tr>\n",
       "      <th>3</th>\n",
       "      <td>493711</td>\n",
       "      <td>short_email</td>\n",
       "      <td>generic</td>\n",
       "      <td>6</td>\n",
       "      <td>Monday</td>\n",
       "      <td>UK</td>\n",
       "      <td>1</td>\n",
       "      <td>0</td>\n",
       "      <td>0</td>\n",
       "    </tr>\n",
       "    <tr>\n",
       "      <th>4</th>\n",
       "      <td>106887</td>\n",
       "      <td>long_email</td>\n",
       "      <td>generic</td>\n",
       "      <td>14</td>\n",
       "      <td>Monday</td>\n",
       "      <td>US</td>\n",
       "      <td>6</td>\n",
       "      <td>0</td>\n",
       "      <td>0</td>\n",
       "    </tr>\n",
       "  </tbody>\n",
       "</table>\n",
       "</div>"
      ],
      "text/plain": [
       "   email_id   email_text email_version  hour    weekday user_country  \\\n",
       "0     85120  short_email  personalized     2     Sunday           US   \n",
       "1    966622   long_email  personalized    12     Sunday           UK   \n",
       "2    777221   long_email  personalized    11  Wednesday           US   \n",
       "3    493711  short_email       generic     6     Monday           UK   \n",
       "4    106887   long_email       generic    14     Monday           US   \n",
       "\n",
       "   user_past_purchases  open  click  \n",
       "0                    5     0      0  \n",
       "1                    2     1      1  \n",
       "2                    2     0      0  \n",
       "3                    1     0      0  \n",
       "4                    6     0      0  "
      ]
     },
     "execution_count": 7,
     "metadata": {},
     "output_type": "execute_result"
    }
   ],
   "source": [
    "email_click_set = set(email_click[\"email_id\"])\n",
    "data[\"click\"] = data[\"email_id\"].apply(lambda x: 1 if x in email_click_set else 0)\n",
    "data.head()"
   ]
  },
  {
   "cell_type": "code",
   "execution_count": 8,
   "metadata": {},
   "outputs": [
    {
     "name": "stdout",
     "output_type": "stream",
     "text": [
      "open rate:10.345%, clic rate:20.0%\n"
     ]
    }
   ],
   "source": [
    "print (\"open rate:\" + str(float(len(data[data.open==1]))*100/len(data))+\"%, clic rate:\"+str(float(len(data[(data.open == 1) & (data.click == 1)]))*100/len(data[data.open==1]))+\"%\")"
   ]
  },
  {
   "cell_type": "markdown",
   "metadata": {},
   "source": [
    "## Q2: The VP of marketing thinks that it is stupid to send emails to a random subset and in a random way. Based on all the information you have about the emails that were sent, can you build a model to optimize in future email campaigns to maximize the probability of users clicking on the link inside the email?\n",
    "\n",
    "This is a supervised binary classification problem, where target variable is `click`. A logistic regression can be seen as a linear method with a particular link function (logit) to constrain the output between 0 and 1.\n",
    "\n",
    "We can optimize the AUC, recall, precision etc:\n",
    "\n",
    "* [AUC under ROC](https://scikit-learn.org/stable/modules/generated/sklearn.metrics.roc_auc_score.html)\n",
    "* [More generic metrics to optimize](https://scikit-learn.org/stable/modules/model_evaluation.html)"
   ]
  },
  {
   "cell_type": "code",
   "execution_count": 9,
   "metadata": {},
   "outputs": [
    {
     "name": "stdout",
     "output_type": "stream",
     "text": [
      "email_text       long_email\n",
      "email_version       generic\n",
      "weekday              Friday\n",
      "user_country             ES\n",
      "dtype: object\n"
     ]
    }
   ],
   "source": [
    "data_categorical = data.select_dtypes(['object']).astype(\"category\") \n",
    "print(data_categorical.apply(lambda x: x.cat.categories[0]))"
   ]
  },
  {
   "cell_type": "code",
   "execution_count": 10,
   "metadata": {},
   "outputs": [],
   "source": [
    "data = pd.get_dummies(data, drop_first=True)"
   ]
  },
  {
   "cell_type": "code",
   "execution_count": 11,
   "metadata": {},
   "outputs": [],
   "source": [
    "X, y = data.drop(['open', 'click', 'email_id'], axis=1), data[\"click\"]"
   ]
  },
  {
   "cell_type": "code",
   "execution_count": 12,
   "metadata": {},
   "outputs": [],
   "source": [
    "from sklearn.model_selection import cross_val_score, train_test_split\n",
    "from sklearn.model_selection import GridSearchCV\n",
    "from sklearn.pipeline import make_pipeline\n",
    "from sklearn.preprocessing import StandardScaler\n",
    "\n",
    "from sklearn.linear_model import LogisticRegression\n",
    "from sklearn.ensemble import RandomForestClassifier\n",
    "from sklearn.svm import SVC\n",
    "\n",
    "from sklearn.metrics import confusion_matrix, roc_auc_score\n",
    "from sklearn.metrics import plot_roc_curve\n",
    "\n",
    "def evaluation(y_test, pred):\n",
    "    '''metric evaluation, F1, precision, recall'''\n",
    "    conf_matrix = confusion_matrix(y_test, pred, labels=[1, 0])\n",
    "    TP, FP, FN, TN = conf_matrix[0][0], conf_matrix[1][0], conf_matrix[0][1], conf_matrix[1][1]\n",
    "    recall = TP*1.0/sum(y_test)\n",
    "    precision = TP*1.0/sum(pred) if sum(pred) > 0 else 0\n",
    "    F1_score = 2*precision*recall/(precision+recall) if precision+recall > 0 else 0\n",
    "    print ('P = %.3f' % precision, 'R = %.3f' % recall)\n",
    "    print ('F1 = %.3f' % F1_score)\n",
    "    print (conf_matrix)"
   ]
  },
  {
   "cell_type": "code",
   "execution_count": 13,
   "metadata": {},
   "outputs": [
    {
     "name": "stdout",
     "output_type": "stream",
     "text": [
      "(70000, 13) 70000 (30000, 13) 30000\n"
     ]
    }
   ],
   "source": [
    "X_train, X_test, y_train, y_test = train_test_split(X, y, test_size=0.3);\n",
    "print (X_train.shape, len(y_train), X_test.shape, len(y_test))"
   ]
  },
  {
   "cell_type": "code",
   "execution_count": 14,
   "metadata": {},
   "outputs": [
    {
     "name": "stdout",
     "output_type": "stream",
     "text": [
      "accuracy = 0.980\n",
      "P = 0.000 R = 0.000\n",
      "F1 = 0.000\n",
      "[[    0   613]\n",
      " [    0 29387]]\n",
      "AUC: 0.7274707424369101\n"
     ]
    },
    {
     "name": "stderr",
     "output_type": "stream",
     "text": [
      "/Users/hsianghsuanhung/opt/anaconda3/lib/python3.8/site-packages/sklearn/linear_model/_logistic.py:762: ConvergenceWarning: lbfgs failed to converge (status=1):\n",
      "STOP: TOTAL NO. of ITERATIONS REACHED LIMIT.\n",
      "\n",
      "Increase the number of iterations (max_iter) or scale the data as shown in:\n",
      "    https://scikit-learn.org/stable/modules/preprocessing.html\n",
      "Please also refer to the documentation for alternative solver options:\n",
      "    https://scikit-learn.org/stable/modules/linear_model.html#logistic-regression\n",
      "  n_iter_i = _check_optimize_result(\n"
     ]
    }
   ],
   "source": [
    "logreg = LogisticRegression()\n",
    "logreg.fit(X_train, y_train)\n",
    "pred = logreg.predict(X_test)\n",
    "print ('accuracy = %.3f' % logreg.score(X_test, y_test))\n",
    "evaluation(y_test, logreg.predict(X_test))\n",
    "print (\"AUC:\", roc_auc_score(y_test, logreg.predict_proba(X_test)[:, 1]))\n",
    "# print (sum(pred), sum(y_test))"
   ]
  },
  {
   "cell_type": "code",
   "execution_count": 15,
   "metadata": {},
   "outputs": [
    {
     "name": "stdout",
     "output_type": "stream",
     "text": [
      "accuracy = 0.980\n",
      "P = 0.000 R = 0.000\n",
      "F1 = 0.000\n",
      "[[    0   613]\n",
      " [    0 29387]]\n",
      "AUC: 0.7140787192081638\n"
     ]
    }
   ],
   "source": [
    "rf = RandomForestClassifier(max_depth=10)\n",
    "rf.fit(X_train, y_train)\n",
    "pred = rf.predict(X_test)\n",
    "print ('accuracy = %.3f' % rf.score(X_test, y_test))\n",
    "evaluation(y_test, rf.predict(X_test))\n",
    "print (\"AUC:\", roc_auc_score(y_test, rf.predict_proba(X_test)[:, 1]))\n",
    "# print (sum(pred), sum(y_test))"
   ]
  },
  {
   "cell_type": "markdown",
   "metadata": {},
   "source": [
    "It is hard to capture positive behavior. In the following we downsample the negative events + grid search on models.\n",
    "\n",
    "### Downsample negative events"
   ]
  },
  {
   "cell_type": "code",
   "execution_count": 16,
   "metadata": {},
   "outputs": [
    {
     "name": "stdout",
     "output_type": "stream",
     "text": [
      "(4246, 13) 4246\n"
     ]
    }
   ],
   "source": [
    "X_train2 = X_train.copy()\n",
    "X_train2[\"click\"] = y_train\n",
    "\n",
    "pos_data = X_train2[X_train2.click == 1]\n",
    "neg_data = X_train2[X_train2.click == 0]\n",
    "\n",
    "neg_data = neg_data.sample(frac = 0.04)\n",
    "\n",
    "downsample_data = pd.concat([pos_data, neg_data], axis=0)\n",
    "\n",
    "X_train2, y_train2 = downsample_data.drop(['click'], axis=1), downsample_data[\"click\"]\n",
    "\n",
    "print (X_train2.shape, len(y_train2))"
   ]
  },
  {
   "cell_type": "markdown",
   "metadata": {},
   "source": [
    "### Grid Search "
   ]
  },
  {
   "cell_type": "code",
   "execution_count": 17,
   "metadata": {},
   "outputs": [],
   "source": [
    "def gridsearch_lr(X_train, y_train, reg=[0.2, 0.4, 0.6, 0.8, 1, 1.2]):\n",
    "    '''training a logistic regression model with L2 regularization'''\n",
    "    best_logreg_model = None\n",
    "    max_score = -1\n",
    "    best_reg = -1\n",
    "    for regularization_param in reg:\n",
    "        logreg = LogisticRegression('l2', C=regularization_param, verbose=0, n_jobs=-1)\n",
    "        cv_score = cross_val_score(logreg, X_train, y_train, cv=5, scoring='roc_auc')\n",
    "        #print (regularization_param, np.mean(cv_score))\n",
    "        if np.mean(cv_score) > max_score:\n",
    "            max_score = np.mean(cv_score)\n",
    "            best_logreg_model = logreg\n",
    "            best_reg = regularization_param\n",
    "            \n",
    "    best_logreg_model.fit(X_train, y_train)\n",
    "    return best_logreg_model\n",
    "\n",
    "\n",
    "def gridsearch_rf(X_train, y_train):\n",
    "    '''grid search random forest models with cross-validation:\n",
    "    https://towardsdatascience.com/hyperparameter-tuning-the-random-forest-in-python-using-scikit-learn-28d2aa77dd74\n",
    "    '''\n",
    "    rf = RandomForestClassifier()\n",
    "    parameters = {'max_depth':[10,15,20,25,30],'min_samples_leaf':[2,4,6], 'max_features':[11,13]}\n",
    "    model_cv_grid = GridSearchCV(rf, parameters, scoring='roc_auc',verbose=0, n_jobs=-1, cv=5)\n",
    "    model_cv_grid.fit(X_train,y_train)\n",
    "    best_rf_model = model_cv_grid.best_estimator_\n",
    "    return best_rf_model\n",
    "\n",
    "\n",
    "def evaluation(y_test, pred):\n",
    "    '''metric evaluation, F1, precision, recall'''\n",
    "    conf_matrix = confusion_matrix(y_test, pred, labels=[1, 0])\n",
    "    TP, FP, FN, TN = conf_matrix[0][0], conf_matrix[1][0], conf_matrix[0][1], conf_matrix[1][1]\n",
    "    precision, recall = TP*1.0/sum(pred), TP*1.0/sum(y_test)\n",
    "    print ('P = %.3f' % precision, 'R = %.3f' % recall)\n",
    "    print ('F1 = %.3f' %(2*precision*recall/(precision+recall)))\n",
    "    print (conf_matrix)"
   ]
  },
  {
   "cell_type": "code",
   "execution_count": 18,
   "metadata": {},
   "outputs": [
    {
     "name": "stdout",
     "output_type": "stream",
     "text": [
      "accuracy = 0.858\n",
      "P = 0.053 R = 0.356\n",
      "F1 = 0.093\n",
      "[[  218   395]\n",
      " [ 3860 25527]]\n",
      "AUC: 0.7278698158139528\n"
     ]
    }
   ],
   "source": [
    "hy_logreg = gridsearch_lr(X_train2, y_train2, reg=[0.01, 0.02, 0.05, 0.1, 0.2, 0.5, 1, 2, 5, 10, 20])\n",
    "print ('accuracy = %.3f' % hy_logreg.score(X_test, y_test))\n",
    "evaluation(y_test, hy_logreg.predict(X_test))\n",
    "print (\"AUC:\", roc_auc_score(y_test, hy_logreg.predict_proba(X_test)[:, 1]))"
   ]
  },
  {
   "cell_type": "code",
   "execution_count": 51,
   "metadata": {},
   "outputs": [
    {
     "name": "stdout",
     "output_type": "stream",
     "text": [
      "accuracy = 0.850\n",
      "P = 0.050 R = 0.352\n",
      "F1 = 0.088\n",
      "[[  216   397]\n",
      " [ 4098 25289]]\n",
      "AUC: 0.7197861790492194\n"
     ]
    }
   ],
   "source": [
    "hy_rf = gridsearch_rf(X_train2, y_train2)\n",
    "print ('accuracy = %.3f' % hy_rf.score(X_test, y_test))\n",
    "evaluation(y_test, hy_rf.predict(X_test))\n",
    "print (\"AUC:\", roc_auc_score(y_test, hy_rf.predict_proba(X_test)[:, 1]))"
   ]
  },
  {
   "cell_type": "code",
   "execution_count": 21,
   "metadata": {},
   "outputs": [
    {
     "name": "stdout",
     "output_type": "stream",
     "text": [
      "accuracy = 0.891\n",
      "P = 0.056 R = 0.271\n",
      "F1 = 0.092\n",
      "[[  166   447]\n",
      " [ 2814 26573]]\n"
     ]
    }
   ],
   "source": [
    "clf = make_pipeline(StandardScaler(), SVC(gamma='auto'))\n",
    "clf.fit(X_train2, y_train2)\n",
    "pred = clf.predict(X_test)\n",
    "print ('accuracy = %.3f' % clf.score(X_test, y_test))\n",
    "evaluation(y_test, clf.predict(X_test))"
   ]
  },
  {
   "cell_type": "markdown",
   "metadata": {},
   "source": [
    "### ROC curve\n",
    "\n",
    "[The script to depict ROC curve in Sklearn](https://scikit-learn.org/stable/auto_examples/miscellaneous/plot_roc_curve_visualization_api.html#sphx-glr-auto-examples-miscellaneous-plot-roc-curve-visualization-api-py)"
   ]
  },
  {
   "cell_type": "code",
   "execution_count": 66,
   "metadata": {},
   "outputs": [
    {
     "data": {
      "image/png": "[encoded data removed]",
      "text/plain": [
       "<Figure size 648x432 with 1 Axes>"
      ]
     },
     "metadata": {
      "needs_background": "light"
     },
     "output_type": "display_data"
    }
   ],
   "source": [
    "plt.figure(figsize=(9,6))\n",
    "ax = plt.gca()\n",
    "lr_disp = plot_roc_curve(hy_logreg, X_test, y_test, ax=ax, alpha=0.8)\n",
    "rf_disp = plot_roc_curve(hy_rf, X_test, y_test, ax=ax, alpha=0.8)\n",
    "svc_disp = plot_roc_curve(clf, X_test, y_test, ax=ax, alpha=0.8)\n",
    "plt.plot([0, 0.5, 1], [0, 0.5, 1], linestyle='--', label='random guess')\n",
    "plt.xlim(0, 1)\n",
    "plt.ylim(0, 1)\n",
    "plt.xlabel('False Positive Rate', fontsize=15)\n",
    "plt.ylabel('True Positive Rate', fontsize=15)\n",
    "plt.legend(loc=\"lower right\", fontsize=14)\n",
    "plt.show()"
   ]
  },
  {
   "cell_type": "code",
   "execution_count": 67,
   "metadata": {},
   "outputs": [
    {
     "data": {
      "image/png": "[encoded data removed]",
      "text/plain": [
       "<Figure size 648x432 with 1 Axes>"
      ]
     },
     "metadata": {
      "needs_background": "light"
     },
     "output_type": "display_data"
    }
   ],
   "source": [
    "from sklearn.metrics import plot_precision_recall_curve\n",
    "\n",
    "plt.figure(figsize=(9,6))\n",
    "ax = plt.gca()\n",
    "lr_disp = plot_precision_recall_curve(hy_logreg, X_test, y_test, ax=ax, alpha=0.8)\n",
    "rf_disp = plot_precision_recall_curve(hy_rf, X_test, y_test, ax=ax, alpha=0.8)\n",
    "svc_disp = plot_precision_recall_curve(clf, X_test, y_test, ax=ax)\n",
    "plt.xlim(0, 1)\n",
    "plt.ylim(0, 1)\n",
    "plt.xlabel('Recall', fontsize=15)\n",
    "plt.ylabel('Precision', fontsize=15)\n",
    "plt.legend(loc=\"upper right\", fontsize=14)\n",
    "plt.show()"
   ]
  },
  {
   "cell_type": "markdown",
   "metadata": {},
   "source": [
    "## Q3: By how much do you think your model would improve click through rate ( defined as # of users who click on the link / total users who received the email). How would you test that?"
   ]
  },
  {
   "cell_type": "code",
   "execution_count": 25,
   "metadata": {},
   "outputs": [
    {
     "data": {
      "text/plain": [
       "(0.020433333333333335, 30000)"
      ]
     },
     "execution_count": 25,
     "metadata": {},
     "output_type": "execute_result"
    }
   ],
   "source": [
    "sum(y_test)/len(y_test), len(y_test)"
   ]
  },
  {
   "cell_type": "markdown",
   "metadata": {},
   "source": [
    "### Random guess prediction"
   ]
  },
  {
   "cell_type": "code",
   "execution_count": 26,
   "metadata": {},
   "outputs": [],
   "source": [
    "frd_rate = sum(y_test)/len(y_test)"
   ]
  },
  {
   "cell_type": "code",
   "execution_count": 48,
   "metadata": {},
   "outputs": [],
   "source": [
    "from random import random\n",
    "random_pred = []\n",
    "for i in range(len(y_test)):\n",
    "    r = random()\n",
    "    if r <= frd_rate:\n",
    "        random_pred.append(1)\n",
    "    else:\n",
    "        random_pred.append(0)"
   ]
  },
  {
   "cell_type": "code",
   "execution_count": 65,
   "metadata": {},
   "outputs": [
    {
     "name": "stdout",
     "output_type": "stream",
     "text": [
      "accuracy = 0.960\n",
      "P = 0.026 R = 0.026\n",
      "F1 = 0.026\n",
      "[[   16   597]\n",
      " [  589 28798]]\n"
     ]
    }
   ],
   "source": [
    "print ('accuracy = %.3f' % (len([1 for i in range(len(random_pred)) if random_pred[i]==y_test.values[i]])/len(y_test)))\n",
    "evaluation(y_test, random_pred)"
   ]
  },
  {
   "cell_type": "markdown",
   "metadata": {},
   "source": [
    "### Comparison between random guess and ML model prediction \n",
    "\n",
    "metric | random | log  | rf   | SVM \n",
    "-----  | -----  |----- | ---- | ----\n",
    "Accuracy|0.960  | 0.86 | 0.850| 0.891\n",
    "Precision|0.026 | 0.053| 0.05 | 0.056\n",
    "Recall   |0.026 | 0.356| 0.352| 0.271\n",
    "F1 score |0.026 | 0.093| 0.088| 0.092\n",
    "\n",
    "Note few things:\n",
    "1. Since the data is highly imbalanced, positive rate is only 2%, accuracy is **NOT** a good metric to use.\n",
    "2. ML gives both higher precision (5%) and higher recalls (35%) than random guess (2.6%). Therefore our ML models catpture more click emails."
   ]
  },
  {
   "cell_type": "markdown",
   "metadata": {},
   "source": [
    "## Q4: Did you find any interesting pattern on how the email campaign performed for different segments of users? Explain.\n",
    "\n",
    "This session mainly follows the [Regressions and Coefficients](https://productds.com/wp-content/uploads/Logistic_Regression.html) from product data science."
   ]
  },
  {
   "cell_type": "code",
   "execution_count": 46,
   "metadata": {},
   "outputs": [],
   "source": [
    "import statsmodels.api as sm"
   ]
  },
  {
   "cell_type": "code",
   "execution_count": 47,
   "metadata": {},
   "outputs": [
    {
     "name": "stdout",
     "output_type": "stream",
     "text": [
      "Optimization terminated successfully.\n",
      "         Current function value: 0.094930\n",
      "         Iterations 9\n"
     ]
    }
   ],
   "source": [
    "X, y = data.drop(['open', 'click'], axis=1), data[\"click\"]\n",
    "  \n",
    "logit = sm.Logit(y, X) # Build Logistic Regression\n",
    "output = logit.fit() "
   ]
  },
  {
   "cell_type": "markdown",
   "metadata": {},
   "source": [
    "### Get coefficients and p-values"
   ]
  },
  {
   "cell_type": "code",
   "execution_count": 49,
   "metadata": {},
   "outputs": [
    {
     "name": "stdout",
     "output_type": "stream",
     "text": [
      "                            coefficients            SE          z  \\\n",
      "email_id                   -4.036709e-08  7.684738e-08  -0.525289   \n",
      "hour                        1.679231e-02  4.944169e-03   3.396387   \n",
      "user_past_purchases         1.838221e-01  5.671748e-03  32.410134   \n",
      "email_text_short_email      2.673028e-01  4.472065e-02   5.977168   \n",
      "email_version_personalized  6.102700e-01  4.616942e-02  13.218056   \n",
      "weekday_Monday              4.939617e-01  9.135643e-02   5.406972   \n",
      "weekday_Saturday            2.399955e-01  9.566645e-02   2.508669   \n",
      "weekday_Sunday              1.770344e-01  9.723449e-02   1.820695   \n",
      "weekday_Thursday            5.709773e-01  9.038565e-02   6.317124   \n",
      "weekday_Tuesday             5.713313e-01  9.028047e-02   6.328405   \n",
      "weekday_Wednesday           7.077664e-01  8.876873e-02   7.973150   \n",
      "user_country_FR            -3.689332e-02  1.579702e-01  -0.233546   \n",
      "user_country_UK             1.139571e+00  1.199467e-01   9.500642   \n",
      "user_country_US             1.123651e+00  1.138887e-01   9.866221   \n",
      "intercept                  -6.754374e+00  1.528352e-01 -44.193838   \n",
      "\n",
      "                                 p_values  \n",
      "email_id                     5.993822e-01  \n",
      "hour                         6.828168e-04  \n",
      "user_past_purchases         1.975787e-230  \n",
      "email_text_short_email       2.270500e-09  \n",
      "email_version_personalized   6.902455e-40  \n",
      "weekday_Monday               6.409898e-08  \n",
      "weekday_Saturday             1.211869e-02  \n",
      "weekday_Sunday               6.865320e-02  \n",
      "weekday_Thursday             2.664760e-10  \n",
      "weekday_Tuesday              2.477091e-10  \n",
      "weekday_Wednesday            1.546800e-15  \n",
      "user_country_FR              8.153374e-01  \n",
      "user_country_UK              2.085993e-21  \n",
      "user_country_US              5.832074e-23  \n",
      "intercept                    0.000000e+00  \n"
     ]
    }
   ],
   "source": [
    "output_table = pd.DataFrame(dict(coefficients = output.params, SE = output.bse, z = output.tvalues, p_values = output.pvalues))\n",
    "print(output_table)"
   ]
  },
  {
   "cell_type": "markdown",
   "metadata": {},
   "source": [
    "### Significant variables\n",
    "\n",
    "Significant features whose p-value < 0.05"
   ]
  },
  {
   "cell_type": "code",
   "execution_count": 51,
   "metadata": {},
   "outputs": [
    {
     "name": "stdout",
     "output_type": "stream",
     "text": [
      "                            coefficients        SE          z       p_values\n",
      "hour                            0.016792  0.004944   3.396387   6.828168e-04\n",
      "user_past_purchases             0.183822  0.005672  32.410134  1.975787e-230\n",
      "email_text_short_email          0.267303  0.044721   5.977168   2.270500e-09\n",
      "email_version_personalized      0.610270  0.046169  13.218056   6.902455e-40\n",
      "weekday_Monday                  0.493962  0.091356   5.406972   6.409898e-08\n",
      "weekday_Saturday                0.239995  0.095666   2.508669   1.211869e-02\n",
      "weekday_Thursday                0.570977  0.090386   6.317124   2.664760e-10\n",
      "weekday_Tuesday                 0.571331  0.090280   6.328405   2.477091e-10\n",
      "weekday_Wednesday               0.707766  0.088769   7.973150   1.546800e-15\n",
      "user_country_UK                 1.139571  0.119947   9.500642   2.085993e-21\n",
      "user_country_US                 1.123651  0.113889   9.866221   5.832074e-23\n",
      "intercept                      -6.754374  0.152835 -44.193838   0.000000e+00\n"
     ]
    }
   ],
   "source": [
    "print(output_table[output_table.p_values < 0.05])"
   ]
  },
  {
   "cell_type": "markdown",
   "metadata": {},
   "source": [
    "### General Insights\n",
    "\n",
    "The following contents are from [**Regressions and Coefficients** in Product Data Science](https://productds.com/wp-content/uploads/Logistic_Regression.html).\n",
    " \n",
    "* User country seems very important. Especially interesting is that English speaking countries (US, UK) are doing significantly better than non-English speaking countries (ES, FR). That could mean a bad translation or in general a non-localized version of the email. The first thing you want to do here is probably getting in touch with the international team and asking them to review French and Spanish email templates\n",
    "\n",
    "\n",
    " \n",
    "* Not surprisingly, all weekday coefficients are positive. Sunday is (barely) non-significant, all others are significant. This is a consequence of having Friday as reference level. It is a well-known fact that sending marketing emails on Friday is not a great idea. Wednesday seems to be the best day, but in general all week days (Monday-Thursday) perform similarly. Friday - Sunday are much worse. The company should probably start sending emails only Monday-Thursday, with a particular focus on the middle of the week\n",
    " \n",
    " \n",
    "* Personalized emails are doing better. So the company should stop sending generic emails. But most importantly, this can be a huge insight from a product standpoint. If just adding the name at the top is increasing clicks significantly, imagine what would happen with even more personalization. Definitely worth investing in this\n",
    "\n",
    "\n",
    "* Sending short emails appears to be better, but personalizing emails should be the priority vs finding a general optimal email template that on an average works best for everyone (see much lower coefficient compared to the personalization one)\n",
    "\n",
    "\n",
    "* Hour perfectly emphasizes the problems of logistic regressions with numerical variables. The best time is likely during the day and early mornings and late nights are probably bad. But the model is trying to find a linear relationship between hour and the output. In most cases, this means that will not find a significant relationship. If it does find significance, the results would be highly misleading. Like in this case, it is telling us that the larger the value of hour, the better it is. So the best time would be 24 (midnight)! To solve this, you should manually create segments (i.e. indicator variables) before building the model. One segment could be night time, one morning to noon, etc.\n",
    "\n",
    "\n",
    "* Email_id is not significant, but the p-value is not that high either, so it is something to keep in mind. Email_id could be interesting because it can be seen as a proxy for time, i.e. the first email sent gets id 1, second id 2, etc. So a significant and negative coefficient would mean that as time goes by, less and less people are clicking on the email. This could be a big red flag, like for instance Google started labeling us as spam. It doesn’t look like the case here, but still, it is something to keep in mind\n",
    "\n",
    "\n",
    "* More importantly, note the super low coefficient for email_id compared to the other ones. That doesn’t mean that the variable is irrelevant. The super low coefficient simply depends on the fact that email_id scale is way larger than the other variables. The max value of all other variables is 24 for hour. The max value of email_id is 100K! So the low coefficient is meant to balance the different scale, otherwise email_id would entirely drive the regression output.\n",
    "\n",
    "\n",
    "* The intercept highly negative and significant is the regression outcome if all variables are set to zero. So, basically, categorical variables are all set to their reference levels and numerical variables are set to 0. Intercepts are almost always negative and significant given that in the majority of cases you are dealing with imbalanced classes, where 1s are <5% of the events. And in a logistic regression a negative outcome means higher probability of predicting class zero. Don’t read too much into it. After all, the all-values-are-0 scenario is unrealistic at best, and often impossible. Like here “hour” is coded as from 1 to 24, so it cannot even have the value 0! Only thing, looking at the scale of the intercept vs the scale of the other coefficients * the possible values of those variables can be useful to get a sense of by how much you can affect the output\n",
    "\n",
    "   * If I send emails on Wednesday, that variable value becomes 0.7 (i.e. 0.7 coefficient times the value of the variable that would be 1) which is pretty high relative to the -6.8 intercept. So opportunities of meaningful improvements are there. Imagine my intercept were -1000 and Wednesday coefficient were the same. Then optimizing the day would be almost irrelevant from a practical standpoint."
   ]
  },
  {
   "cell_type": "markdown",
   "metadata": {},
   "source": [
    "\n",
    "## Pros and Cons of using logistic regression coefficients to extract insights from data\n",
    "\n",
    "\n",
    "### Pros\n",
    "\n",
    "* Pretty much anyone in a technical or product management role in a tech company is familiar with logistic regressions (if this is not true at your company, you are probably working in the wrong place). It is so much easier to present data science work if the audience is already familiar with the techniques used\n",
    "\n",
    "* Logistic regressions are by far the most used model in production. Despite all the blog posts, conference talks, etc. about deep learning, it is almost guaranteed that a consumer tech company most important model in production will be a logistic regression. Therefore, it will be easy to collaborate with engineers (i.e. leveraging prior work done by them, helping them improve their model, etc.)\n",
    "\n",
    "* It is simple, fast, and generally reliable. Indeed, building the model is straightforward. The model works well in the majority of cases and all you have to do is look at the coefficient values and their p-values\n",
    "\n",
    "\n",
    "\n",
    "\n",
    "### Cons\n",
    "\n",
    "\n",
    "\n",
    "* Coefficients give an idea of the impact of each variable on the output. But it is actually pretty hard to exactly visualize what that means. I.e., a change in a given variable by one unit changes the log odds ratio by $\\beta$ units, where $\\beta$ is the coefficient. Mmh…\n",
    "\n",
    "* Coefficients do not allow to segment a variable. For instance, a positive coefficient in front of variable age means that as age increases, the output keeps increasing as well. Always. This is unlikely to be true for most numerical variables. You often need to create segments before building the regression (btw RuleFit solves exactly this problem)\n",
    "\n",
    "* Coefficient meaning in front of a categorical variable with several levels can be confusing. You change a given variable reference level and all other level coefficients change\n",
    "\n",
    "* The absolute value of a coefficient is often used to quickly estimate variable importance. However, that depends on the variable scale more than anything else. You could normalize variables, so they are all on the same scale. But that’s rarely a good idea if your goal is presenting to product people. It is hard to get a product manager excited by saying: “If we increase variable X by one standard deviation, we could achieve this and that”\n",
    " "
   ]
  },
  {
   "cell_type": "code",
   "execution_count": null,
   "metadata": {},
   "outputs": [],
   "source": []
  }
 ],
 "metadata": {
  "kernelspec": {
   "display_name": "Python 3",
   "language": "python",
   "name": "python3"
  },
  "language_info": {
   "codemirror_mode": {
    "name": "ipython",
    "version": 3
   },
   "file_extension": ".py",
   "mimetype": "text/x-python",
   "name": "python",
   "nbconvert_exporter": "python",
   "pygments_lexer": "ipython3",
   "version": "3.8.5"
  }
 },
 "nbformat": 4,
 "nbformat_minor": 4
}
