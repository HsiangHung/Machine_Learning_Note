{
 "cells": [
  {
   "cell_type": "markdown",
   "metadata": {},
   "source": [
    "# A Guide to A/B Testing — How to Formulate, Design and Interpret\n",
    "\n",
    "This note follows Idil Ismiguzel's notebook [A/B Testing](https://github.com/Idilismiguzel/data_analysis/blob/main/ab_testing/AB_testing.ipynb) and the blog [A Guide to A/B Testing — How to Formulate, Design and Interpret](https://towardsdatascience.com/a-guide-to-a-b-testing-how-to-formulate-design-and-interpret-f820cc62e21a). \n",
    "\n",
    "To run A/B test, usually we have the following steps:\n",
    "* Formulate the hypothesis\n",
    "* Design the experiment\n",
    "* Collect the data\n",
    "* Inference/Conclusions\n",
    "\n",
    "The content of this notebook covers two tests:\n",
    "\n",
    "### 1. Applying statistical hypothesis test\n",
    "\n",
    "Using statistical significance tests we can measure if the collected data shows a result more extreme than the chance might produce. If the result is beyond the chance variation, then it is statistically significant.\n",
    "\n",
    "We first calculate test statistic as initial test statistic.\n",
    "\n",
    "### 2. Performing permutation tests\n",
    "\n",
    "The permutation test is one of my favorite techniques because it does not require data to be numeric or binary and sample sizes can be similar or different. Also, assumptions about normally distributed data are not needed.\n",
    "\n",
    "Permuting means changing the order of a set of values, and what permutation test does is combining results from both groups and testing the null hypothesis by randomly drawing groups (equal to the experiment groups’ sample sizes) from the combined set and analyzing how much they differ from one another. The test repeats doing this as much as decided by the user (say 1000 times). \n",
    "\n",
    "In the end, user should compare the observed difference between experiment and control groups with the set of permuted differences. If the observed difference lies within the set of permuted differences, we do not reject the null hypothesis. But if the observed difference lies outside of the most permutation distribution, we reject the null hypothesis and conclude as the A/B test result (initial test statistic) is statistically significant and not due to chance."
   ]
  },
  {
   "cell_type": "code",
   "execution_count": 26,
   "metadata": {},
   "outputs": [],
   "source": [
    "import numpy as np\n",
    "import pandas as pd\n",
    "import matplotlib.pyplot as plt\n",
    "%matplotlib inline\n",
    "\n",
    "from scipy import stats\n",
    "import statsmodels.api as sm\n",
    "import random\n",
    "import seaborn as sns\n",
    "plt.style.use(\"fivethirtyeight\")\n",
    "\n",
    "from scipy.stats import chi2_contingency\n",
    "from scipy.stats import chi2\n",
    "\n",
    "def perm_func(x, nA, nB):\n",
    "    '''\n",
    "    randomly pick up nB events among nA+nB events as the control group from 'conversion' list, and the \n",
    "    rest are in the treatment group.\n",
    "    '''\n",
    "    n = nA + nB\n",
    "    id_B = set(random.sample(range(n), nB))\n",
    "    id_A = set(range(n)) - id_B\n",
    "    return x.loc[id_B].mean() - x.loc[id_A].mean()"
   ]
  },
  {
   "cell_type": "markdown",
   "metadata": {},
   "source": [
    "## Example 1\n",
    "\n",
    "Imagine that you are running a UI experiment where you want to understand the difference between conversion rates of your initial layout vs a new layout.\n",
    "\n",
    "In this experiment, the null hypothesis assumes conversion rates are equal and if there is a difference this is only due to the chance factor. In contrast, the alternative hypothesis assumes there is a statistically significant difference between the conversion rates."
   ]
  },
  {
   "cell_type": "code",
   "execution_count": 2,
   "metadata": {},
   "outputs": [],
   "source": [
    "df_ex = {\"Outcome\": [\"Conversion\", \"No Conversion\"], \n",
    "         \"Initial Layout\": [150, 23567],\n",
    "         \"New Layout\": [162, 23230]}\n",
    "\n",
    "df_ex = pd.DataFrame(df_ex)"
   ]
  },
  {
   "cell_type": "markdown",
   "metadata": {},
   "source": [
    "### Contingency table"
   ]
  },
  {
   "cell_type": "code",
   "execution_count": 3,
   "metadata": {},
   "outputs": [
    {
     "data": {
      "text/html": [
       "<div>\n",
       "<style scoped>\n",
       "    .dataframe tbody tr th:only-of-type {\n",
       "        vertical-align: middle;\n",
       "    }\n",
       "\n",
       "    .dataframe tbody tr th {\n",
       "        vertical-align: top;\n",
       "    }\n",
       "\n",
       "    .dataframe thead th {\n",
       "        text-align: right;\n",
       "    }\n",
       "</style>\n",
       "<table border=\"1\" class=\"dataframe\">\n",
       "  <thead>\n",
       "    <tr style=\"text-align: right;\">\n",
       "      <th></th>\n",
       "      <th>Outcome</th>\n",
       "      <th>Initial Layout</th>\n",
       "      <th>New Layout</th>\n",
       "    </tr>\n",
       "  </thead>\n",
       "  <tbody>\n",
       "    <tr>\n",
       "      <th>0</th>\n",
       "      <td>Conversion</td>\n",
       "      <td>150</td>\n",
       "      <td>162</td>\n",
       "    </tr>\n",
       "    <tr>\n",
       "      <th>1</th>\n",
       "      <td>No Conversion</td>\n",
       "      <td>23567</td>\n",
       "      <td>23230</td>\n",
       "    </tr>\n",
       "  </tbody>\n",
       "</table>\n",
       "</div>"
      ],
      "text/plain": [
       "         Outcome  Initial Layout  New Layout\n",
       "0     Conversion             150         162\n",
       "1  No Conversion           23567       23230"
      ]
     },
     "execution_count": 3,
     "metadata": {},
     "output_type": "execute_result"
    }
   ],
   "source": [
    "df_ex.head()"
   ]
  },
  {
   "cell_type": "markdown",
   "metadata": {},
   "source": [
    "### Conversion rate for control and treatment group"
   ]
  },
  {
   "cell_type": "code",
   "execution_count": 5,
   "metadata": {},
   "outputs": [
    {
     "name": "stdout",
     "output_type": "stream",
     "text": [
      "cr_a: 0.006324577307416621 , cr_b: 0.007052789057490917\n",
      "0.1151399871767471\n"
     ]
    }
   ],
   "source": [
    "cr_a, cr_b = 150/23717, 165/23395\n",
    "print('cr_a:', cr_a, ', cr_b:', cr_b)\n",
    "\n",
    "#Relative uplift in conversion rate = (cr_b - cr_a)/cr_a\n",
    "rel_uplift = (cr_b - cr_a)/cr_a\n",
    "print(rel_uplift)"
   ]
  },
  {
   "cell_type": "markdown",
   "metadata": {},
   "source": [
    "### Initial Test Statistics: Chi-Squared test"
   ]
  },
  {
   "cell_type": "code",
   "execution_count": 14,
   "metadata": {},
   "outputs": [
    {
     "name": "stdout",
     "output_type": "stream",
     "text": [
      "significance = 0.050, p = 0.365, test statistic = -0.822\n",
      "Do not reject null hypothesis\n"
     ]
    }
   ],
   "source": [
    "table = np.array([[150, 165], [23717, 23395]])\n",
    "stat, p, dof, expected = stats.chi2_contingency(table)\n",
    "alpha = 0.05\n",
    "\n",
    "# interpret p-value\n",
    "print('significance = %.3f, p = %.3f, test statistic = -%.3f' % (alpha, p, stat))\n",
    "if p <= alpha:\n",
    "    print('Reject null hypothesis)')\n",
    "else:\n",
    "    print('Do not reject null hypothesis')"
   ]
  },
  {
   "cell_type": "code",
   "execution_count": 12,
   "metadata": {},
   "outputs": [
    {
     "name": "stdout",
     "output_type": "stream",
     "text": [
      "probability=0.950, critical=3.841, stat=0.822\n",
      "Do not reject null hypothesis\n"
     ]
    }
   ],
   "source": [
    "# interpret test-statistic\n",
    "prob = 1 - alpha\n",
    "critical = stats.chi2.ppf(prob, dof)\n",
    "print('probability=%.3f, critical=%.3f, stat=%.3f' % (prob, critical, stat))\n",
    "if abs(stat) >= critical:\n",
    "    print('Reject null hypothesis)')\n",
    "else:\n",
    "    print('Do not reject null hypothesis')"
   ]
  },
  {
   "cell_type": "markdown",
   "metadata": {},
   "source": [
    "### Permutation Test"
   ]
  },
  {
   "cell_type": "code",
   "execution_count": 17,
   "metadata": {},
   "outputs": [],
   "source": [
    "obs_pct_diff = 100 * (150 / 23717 - 165 / 23395)\n",
    "\n",
    "# generate conversion list which has 46797 negative and 315 (150+165) positive events.\n",
    "conversion = [0] * 46797\n",
    "conversion.extend([1] * 315)\n",
    "conversion = pd.Series(conversion)"
   ]
  },
  {
   "cell_type": "code",
   "execution_count": 23,
   "metadata": {},
   "outputs": [],
   "source": [
    "# run 1000 permutations \n",
    "perm_diffs = [100 * perm_func(conversion, 23717, 23395) for _ in range(1000)]"
   ]
  },
  {
   "cell_type": "code",
   "execution_count": 24,
   "metadata": {},
   "outputs": [
    {
     "name": "stdout",
     "output_type": "stream",
     "text": [
      "0.867\n"
     ]
    }
   ],
   "source": [
    "print(np.mean([diff > obs_pct_diff for diff in perm_diffs]))"
   ]
  },
  {
   "cell_type": "markdown",
   "metadata": {},
   "source": [
    "This result shows us around 86% of the time we would expect to reach the experiment result by random chance. Since \n",
    "p-value > 0.05 so we cannot reject null hypothesis."
   ]
  },
  {
   "cell_type": "code",
   "execution_count": 25,
   "metadata": {},
   "outputs": [
    {
     "data": {
      "image/png": "[encoded data removed]",
      "text/plain": [
       "<Figure size 576x432 with 1 Axes>"
      ]
     },
     "metadata": {},
     "output_type": "display_data"
    }
   ],
   "source": [
    "fig, ax = plt.subplots(figsize=(8, 6))\n",
    "ax.hist(perm_diffs, rwidth=0.9)\n",
    "ax.axvline(x=obs_pct_diff, lw=2, color=\"black\")\n",
    "ax.text(-0.14, 200, 'Observed\\ndifference', bbox={'facecolor':'white'})\n",
    "ax.set_xlabel('Conversion rate (in percentage)')\n",
    "ax.set_ylabel('Frequency')\n",
    "plt.show()"
   ]
  },
  {
   "cell_type": "markdown",
   "metadata": {},
   "source": [
    "## Example 2\n",
    "\n",
    "Imagine we are using the average session time as our metric to analyze the result of the A/B test. We aim to understand if the new design of the page gets more attention from the users and increase the time they spend on the page.\n",
    "\n",
    "In this example will use **t-Test** (or **Student’s t-Test)** because we have **numeric data**. t-distribution is used when estimating the mean of a normally distributed population in situations where the sample size is small and the population standard deviation is unknown."
   ]
  },
  {
   "cell_type": "code",
   "execution_count": 27,
   "metadata": {},
   "outputs": [],
   "source": [
    "data = pd.read_csv(\"./data_Sample.csv\", sep=\";\")\n",
    "data[\"Time\"] = data[\"Time\"]*100"
   ]
  },
  {
   "cell_type": "markdown",
   "metadata": {},
   "source": [
    "The first few rows representing different user ids look like the following:"
   ]
  },
  {
   "cell_type": "code",
   "execution_count": 28,
   "metadata": {},
   "outputs": [
    {
     "data": {
      "text/html": [
       "<div>\n",
       "<style scoped>\n",
       "    .dataframe tbody tr th:only-of-type {\n",
       "        vertical-align: middle;\n",
       "    }\n",
       "\n",
       "    .dataframe tbody tr th {\n",
       "        vertical-align: top;\n",
       "    }\n",
       "\n",
       "    .dataframe thead th {\n",
       "        text-align: right;\n",
       "    }\n",
       "</style>\n",
       "<table border=\"1\" class=\"dataframe\">\n",
       "  <thead>\n",
       "    <tr style=\"text-align: right;\">\n",
       "      <th></th>\n",
       "      <th>Page</th>\n",
       "      <th>Time</th>\n",
       "    </tr>\n",
       "  </thead>\n",
       "  <tbody>\n",
       "    <tr>\n",
       "      <th>0</th>\n",
       "      <td>Old design</td>\n",
       "      <td>35.0</td>\n",
       "    </tr>\n",
       "    <tr>\n",
       "      <th>1</th>\n",
       "      <td>New design</td>\n",
       "      <td>120.0</td>\n",
       "    </tr>\n",
       "    <tr>\n",
       "      <th>2</th>\n",
       "      <td>Old design</td>\n",
       "      <td>80.0</td>\n",
       "    </tr>\n",
       "    <tr>\n",
       "      <th>3</th>\n",
       "      <td>New design</td>\n",
       "      <td>120.0</td>\n",
       "    </tr>\n",
       "    <tr>\n",
       "      <th>4</th>\n",
       "      <td>Old design</td>\n",
       "      <td>150.0</td>\n",
       "    </tr>\n",
       "  </tbody>\n",
       "</table>\n",
       "</div>"
      ],
      "text/plain": [
       "         Page   Time\n",
       "0  Old design   35.0\n",
       "1  New design  120.0\n",
       "2  Old design   80.0\n",
       "3  New design  120.0\n",
       "4  Old design  150.0"
      ]
     },
     "execution_count": 28,
     "metadata": {},
     "output_type": "execute_result"
    }
   ],
   "source": [
    "data.head()"
   ]
  },
  {
   "cell_type": "code",
   "execution_count": 29,
   "metadata": {},
   "outputs": [
    {
     "data": {
      "image/png": "[encoded data removed]",
      "text/plain": [
       "<Figure size 432x360 with 1 Axes>"
      ]
     },
     "metadata": {},
     "output_type": "display_data"
    }
   ],
   "source": [
    "data[\"Page\"] = data[\"Page\"].apply(lambda x: str(x))\n",
    "fig, ax = plt.subplots(figsize=(6, 5))\n",
    "ax = sns.boxplot(x=data[\"Page\"], y=data[\"Time\"], width=0.4)\n",
    "ax.set_ylabel('Time (in seconds)', size=14)\n",
    "ax.set_xlabel(\"\")\n",
    "ax.tick_params(labelsize=14)\n",
    "plt.show()"
   ]
  },
  {
   "cell_type": "markdown",
   "metadata": {},
   "source": [
    "### t-test for mean difference"
   ]
  },
  {
   "cell_type": "code",
   "execution_count": 30,
   "metadata": {},
   "outputs": [
    {
     "name": "stdout",
     "output_type": "stream",
     "text": [
      "Average difference between experiment and control samples: 22.857142857142833\n",
      "p-value for single sided test: 0.1020\n",
      "Do not reject null hypothesis\n"
     ]
    }
   ],
   "source": [
    "mean_cont = np.mean(data[data[\"Page\"] == \"Old design\"][\"Time\"])\n",
    "mean_exp = np.mean(data[data[\"Page\"] == \"New design\"][\"Time\"])\n",
    "mean_diff = mean_exp - mean_cont\n",
    "print(f\"Average difference between experiment and control samples: {mean_diff}\")\n",
    "\n",
    "test_res = stats.ttest_ind(data[data.Page ==  \"Old design\"][\"Time\"], \n",
    "                      data[data.Page == \"New design\"][\"Time\"],\n",
    "                      equal_var=False)\n",
    "print(f'p-value for single sided test: {test_res.pvalue / 2:.4f}')\n",
    "if test_res.pvalue <= alpha:\n",
    "    print('Reject null hypothesis)')\n",
    "else:\n",
    "    print('Do not reject null hypothesis')"
   ]
  },
  {
   "cell_type": "markdown",
   "metadata": {},
   "source": [
    "### Permutation test"
   ]
  },
  {
   "cell_type": "code",
   "execution_count": 32,
   "metadata": {},
   "outputs": [],
   "source": [
    "nA = data[data.Page == 'Old design'].shape[0]\n",
    "nB = data[data.Page == 'New design'].shape[0]\n",
    "\n",
    "perm_diffs = [perm_func(data.Time, nA, nB) for _ in range(1000)]"
   ]
  },
  {
   "cell_type": "code",
   "execution_count": 33,
   "metadata": {},
   "outputs": [
    {
     "name": "stdout",
     "output_type": "stream",
     "text": [
      "0.092\n"
     ]
    }
   ],
   "source": [
    "larger=[i for i in perm_diffs if i > mean_exp-mean_cont]\n",
    "print(len(larger)/len(perm_diffs))"
   ]
  },
  {
   "cell_type": "markdown",
   "metadata": {},
   "source": [
    "As seen in the result, we do not reject the null hypothesis, meaning that the positive average difference between experiment and control samples is not significant."
   ]
  },
  {
   "cell_type": "code",
   "execution_count": 34,
   "metadata": {},
   "outputs": [
    {
     "data": {
      "image/png": "[encoded data removed]",
      "text/plain": [
       "<Figure size 576x432 with 1 Axes>"
      ]
     },
     "metadata": {},
     "output_type": "display_data"
    }
   ],
   "source": [
    "fig, ax = plt.subplots(figsize=(8, 6))\n",
    "ax.hist(perm_diffs, rwidth=0.9)\n",
    "ax.axvline(x = mean_exp - mean_cont, color='black', lw=2)\n",
    "ax.text(25, 190, 'Observed\\ndifference', bbox={'facecolor':'white'})\n",
    "ax.set_xlabel('Session time differences (in seconds)')\n",
    "ax.set_ylabel('Frequency')\n",
    "plt.tight_layout()\n",
    "plt.show()"
   ]
  },
  {
   "cell_type": "code",
   "execution_count": null,
   "metadata": {},
   "outputs": [],
   "source": []
  }
 ],
 "metadata": {
  "kernelspec": {
   "display_name": "Python 3",
   "language": "python",
   "name": "python3"
  },
  "language_info": {
   "codemirror_mode": {
    "name": "ipython",
    "version": 3
   },
   "file_extension": ".py",
   "mimetype": "text/x-python",
   "name": "python",
   "nbconvert_exporter": "python",
   "pygments_lexer": "ipython3",
   "version": "3.8.5"
  }
 },
 "nbformat": 4,
 "nbformat_minor": 4
}
