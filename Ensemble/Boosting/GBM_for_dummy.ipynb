{
 "cells": [
  {
   "cell_type": "markdown",
   "id": "banner-intention",
   "metadata": {},
   "source": [
    "# Gradient Boosting Machine For Dummy\n",
    "\n",
    "Gradient boosting machine provides iterative procedures to make prediction approach toward true values. In each iteration, we train a nudge model with resiudals as targe variable, and prediction is a composite value of the nudge models. Different from regular gradient descent which updates parameters by optimizing cost function \n",
    "\n",
    "$$\\theta_i := \\theta_i - \\alpha \\frac{\\partial \\textrm{L}(\\mathbf{y}, \\hat{\\mathbf{y}})}{\\partial \\theta_i}, $$\n",
    "\n",
    "\n",
    "gradient boosting machine is doing gradient descent in function space, a.k.a. prediction space. see [Friedman's classic paper](https://statweb.stanford.edu/~jhf/ftp/trebst.pdf). \n",
    "\n",
    "$$\\hat{y}^{m+1}_i := \\hat{y}^m_i - \\alpha \\frac{\\partial \\textrm{L}(\\mathbf{y}, \\hat{\\mathbf{y}}^m)}{\\partial \\hat{y}^m_i}. $$\n",
    "\n",
    "\n",
    "\n",
    "The content throughout the notebook follows a series of GBM blogs by Matt Bowers:\n",
    "\n",
    "* [How to Build a Gradient Boosting Machine from Scratch](https://blog.mattbowers.dev/gradient-boosting-machine-from-scratch)\n",
    "\n",
    "* [Get Down with Gradient Descent](https://blog.mattbowers.dev/get-down-with-gradient-descent)\n",
    "\n",
    "* [How Gradient Boosting Does Gradient Descent](https://blog.mattbowers.dev/how-gradient-boosting-does-gradient-descent)\n",
    "\n",
    "We will write a simple code to indicate how to build a gradient boosting machine. \n",
    "\n",
    "\n",
    "## Toy Data"
   ]
  },
  {
   "cell_type": "code",
   "execution_count": 45,
   "id": "swiss-squad",
   "metadata": {},
   "outputs": [],
   "source": [
    "import numpy as np \n",
    "from matplotlib import pyplot as plt \n",
    "rng = np.random.default_rng()\n",
    "x = np.linspace(0, 10, 50)\n",
    "y = np.where(x < 5, x, 5) + rng.normal(0, 0.4, size=x.shape)\n",
    "x = x.reshape(-1,1)"
   ]
  },
  {
   "cell_type": "code",
   "execution_count": 9,
   "id": "hourly-opportunity",
   "metadata": {},
   "outputs": [
    {
     "data": {
      "text/plain": [
       "(50, 50)"
      ]
     },
     "execution_count": 9,
     "metadata": {},
     "output_type": "execute_result"
    }
   ],
   "source": [
    "len(x), len(y)"
   ]
  },
  {
   "cell_type": "code",
   "execution_count": 8,
   "id": "linear-defense",
   "metadata": {},
   "outputs": [
    {
     "data": {
      "image/png": "[encoded data removed]",
      "text/plain": [
       "<Figure size 432x288 with 1 Axes>"
      ]
     },
     "metadata": {
      "needs_background": "light"
     },
     "output_type": "display_data"
    }
   ],
   "source": [
    "plt.scatter(x, y)\n",
    "plt.xlabel('x', fontsize=15)\n",
    "plt.ylabel('y', fontsize=15)\n",
    "plt.show();"
   ]
  },
  {
   "cell_type": "markdown",
   "id": "banner-haven",
   "metadata": {},
   "source": [
    "The data shows y is not completely linear to x. \n",
    "\n",
    "## Gradient boosting machine\n",
    "\n",
    "Our goal is to find a model to predict y, such that\n",
    "\n",
    "$$F(x) = \\hat{y}$$\n",
    "\n",
    "minimizes mean squared errors \n",
    "\n",
    "$$\\frac{1}{n}\\sum^n_{i=1}\\big(\\mathbf{y}_i -\\hat{\\mathbf{y}}_i \\big)^2.$$\n",
    "\n",
    "\n",
    "We can initially train a simple tree, a stump by fitting x with respect to $y$: $\\hat{y} = F_0(x)$. Then in the following, each stump is trained by fitting $y - \\hat{y} = h(x)$, where Matt called $h(x)$ \"nudge model\".\n",
    "\n",
    "| $F_m$ | fit |\n",
    "| :-: | :-: | \n",
    "| $$F_0(x) = \\textrm{Tree}(x)$$ | $$ h_1(x) = y - F_0(x)  $$ | \n",
    "|$$F_1(x) = F_0(x) + h_1(x) $$ | $$ h_2(x) = y - F_1(x) $$ |\n",
    "|$$F_2(x) = F_1(x) + h_2(x) = \\big(F_0(x) + h_1(x)\\big) + h_2(x) $$ | $$ h_3(x) = y - F_2(x)$$ |\n",
    "|$$F_3(x) = F_2(x) + h_3(x) = \\big(F_1(x) + h_2(x)\\big) + h_3(x) = F_0(x) + \\sum^3_{t=1} h_t(x)$$ | $$ h_4(x) = y - F_3(x)$$ |\n",
    "| $$\\vdots$$ | $$\\vdots$$ |\n",
    "|$$F_m(x) = F_{m-1}(x) + h_m(x) = F_0(x) + \\sum^m_{t=1} h_t(x) $$ | $$ h_{m+1}(x) = y - F_m(x)$$ |\n",
    "\n",
    "We can simly define $h_0(x) = F_0(x)$. Though each nudge model $h(x)$ is a weak learner, a stump, the final composite prediction reads\n",
    "\n",
    "$$\\hat{y}=F_m(x) =  \\sum^m_{i=0} h_t(x) $$ \n",
    "\n",
    "is contirbuted by all $h_t(x)$. The collection $\\lbrace h_0, h_1, \\cdots \\rbrace $ form an ensemble.\n",
    "\n",
    "## GBM Code"
   ]
  },
  {
   "cell_type": "code",
   "execution_count": 52,
   "id": "international-superintendent",
   "metadata": {},
   "outputs": [],
   "source": [
    "from sklearn.tree import DecisionTreeRegressor\n",
    "\n",
    "n_trees = 10\n",
    "max_depth = 1\n",
    "\n",
    "Fm = np.mean(y)\n",
    "trees = []\n",
    "for t in range(n_trees):\n",
    "    tree = DecisionTreeRegressor(max_depth=max_depth)\n",
    "    tree.fit(x, y - Fm)\n",
    "    Fm += tree.predict(x)\n",
    "    trees.append(tree)"
   ]
  },
  {
   "cell_type": "code",
   "execution_count": 53,
   "id": "pleasant-separation",
   "metadata": {},
   "outputs": [],
   "source": [
    "pred = np.mean(y)\n",
    "for t in trees:\n",
    "    pred += t.predict(x)"
   ]
  },
  {
   "cell_type": "code",
   "execution_count": 54,
   "id": "specific-belarus",
   "metadata": {},
   "outputs": [
    {
     "data": {
      "image/png": "[encoded data removed]",
      "text/plain": [
       "<Figure size 432x288 with 1 Axes>"
      ]
     },
     "metadata": {
      "needs_background": "light"
     },
     "output_type": "display_data"
    }
   ],
   "source": [
    "plt.scatter(x, y, label=\"data\")\n",
    "plt.plot(x, pred, color=\"red\", label=\"GBM\")\n",
    "plt.xlabel('x', fontsize=15)\n",
    "plt.ylabel('y', fontsize=15)\n",
    "plt.show();"
   ]
  },
  {
   "cell_type": "markdown",
   "id": "appreciated-ratio",
   "metadata": {},
   "source": [
    "## Updating with learning rate\n",
    "\n",
    "The above process shows how a gradient boosting machine is built. However, the directly adding procedure \n",
    "\n",
    "$$ \\hat{y} = \\sum^m_{t=0} h_t(x)$$\n",
    "\n",
    "may be easy to cause overfitting. In this case we can add a learning rate $\\alpha$ such that every iteration, prediction gradually approaches to its true value:\n",
    "\n",
    "| $F_m$ | fit |\n",
    "| :-: | :-: | \n",
    "| $$F_0(x) = \\textrm{Tree}(x)$$ | $$ h_1(x) = y - F_0(x)  $$ | \n",
    "|$$F_1(x) = F_0(x) + \\alpha h_1(x) $$ | $$ h_2(x) = y - F_1(x) $$ |\n",
    "|$$F_2(x) = F_1(x) + \\alpha h_2(x) = F_0(x) + \\alpha \\big[ h_1(x) + h_2(x) \\big] $$ | $$ h_3(x) = y - F_2(x)$$ |\n",
    "| $$\\vdots$$ | $$\\vdots$$ |\n",
    "|$$F_m(x) = F_{m-1}(x) + \\alpha h_m(x) = \\alpha \\sum^m_{t=0} h_t(x) $$ | $$ h_{m+1}(x) = y - F_m(x)$$ |\n",
    "\n",
    "Wrap up it, we can create `GBMFromScratch` class to have `fit` and `predict` method:"
   ]
  },
  {
   "cell_type": "code",
   "execution_count": 60,
   "id": "acute-linux",
   "metadata": {},
   "outputs": [],
   "source": [
    "class GBMFromScratch(object):\n",
    "    def __init__(self, n_trees=10, alpha=0.1, max_depth=1):\n",
    "        self.n_trees = n_trees\n",
    "        self.alpha = alpha\n",
    "        self.max_depth = max_depth\n",
    "        self.model = None\n",
    "        self.cost = []\n",
    "    \n",
    "    def fit(self, x, y):\n",
    "        Fm = np.mean(y)\n",
    "        self.model = [Fm]\n",
    "        self.cost = []\n",
    "        for t in range(self.n_trees):\n",
    "            tree = DecisionTreeRegressor(max_depth=self.max_depth)\n",
    "            tree.fit(x, y - Fm)\n",
    "            Fm += self.alpha*tree.predict(x)\n",
    "            self.model.append(tree)\n",
    "            self.cost.append(self.MSE(y, self.predict(x)))\n",
    "        \n",
    "    def visualize_MSE(self):\n",
    "        plt.plot(range(len(self.cost)), self.cost, color=\"red\")\n",
    "        plt.xlabel('iteration', fontsize=15)\n",
    "        plt.ylabel('MSE', fontsize=15)\n",
    "        plt.show();\n",
    "        \n",
    "    def predict(self, x):\n",
    "        pred = self.model[0]\n",
    "        for i in range(1, len(self.model)):\n",
    "            pred += self.alpha*self.model[i].predict(x)\n",
    "        return pred\n",
    "    \n",
    "    def MSE(self, y, pred):\n",
    "        return sum((y-pred)**2)/len(y)"
   ]
  },
  {
   "cell_type": "code",
   "execution_count": 61,
   "id": "invisible-novel",
   "metadata": {},
   "outputs": [
    {
     "data": {
      "image/png": "[encoded data removed]",
      "text/plain": [
       "<Figure size 432x288 with 1 Axes>"
      ]
     },
     "metadata": {
      "needs_background": "light"
     },
     "output_type": "display_data"
    }
   ],
   "source": [
    "gbm = GBMFromScratch(n_trees=70)\n",
    "gbm.fit(x, y)\n",
    "gbm.visualize_MSE()"
   ]
  },
  {
   "cell_type": "markdown",
   "id": "convenient-adams",
   "metadata": {},
   "source": [
    "Above we see MSE decreases upon iteration. The MSE is minimized by the boosting process."
   ]
  },
  {
   "cell_type": "code",
   "execution_count": 57,
   "id": "drawn-lambda",
   "metadata": {},
   "outputs": [
    {
     "data": {
      "image/png": "[encoded data removed]",
      "text/plain": [
       "<Figure size 432x288 with 1 Axes>"
      ]
     },
     "metadata": {
      "needs_background": "light"
     },
     "output_type": "display_data"
    }
   ],
   "source": [
    "plt.scatter(x, y, label=\"data\")\n",
    "plt.plot(x, gbm.predict(x), color=\"red\", label=\"GBM\")\n",
    "plt.xlabel('x', fontsize=15)\n",
    "plt.ylabel('y', fontsize=15)\n",
    "plt.show();"
   ]
  },
  {
   "cell_type": "markdown",
   "id": "excessive-export",
   "metadata": {},
   "source": [
    "## Theory: \"Gradient\" in GBM\n",
    "\n",
    "The discussion follows Matt's blog: [How Gradient Boosting Does Gradient Descent](https://blog.mattbowers.dev/how-gradient-boosting-does-gradient-descent)\n",
    "\n",
    "For regression problem, the loss (cost) fucntion is MSE\n",
    "\n",
    "$$\\textrm{L}(\\mathbf{y}, \\hat{\\mathbf{y}}) = \\frac{1}{n}\\sum^n_{i=1}\\big(\\mathbf{y}_i -\\hat{\\mathbf{y}}_i \\big)^2$$\n",
    "\n",
    "\n",
    "At m-th step, the prediction $\\hat{y}^m_i = F_m(x_i) = \\alpha \\sum^{m}_{t=0} h_t(x_i)$. Next prediction will be pivot  in terms of the derivative between $ y_i$ and $\\hat{y}_i$, shown below\n",
    "\n",
    "$$\\hat{y}^{m+1}_i = \\hat{y}^m_i - \\alpha \\frac{\\partial \\textrm{L}(\\mathbf{y}, \\hat{\\mathbf{y}}^m)}{\\partial \\hat{y}^m_i} = \\hat{y}^m_i + \\alpha G^m_i. $$\n",
    "\n",
    "where $G^m_i$ is the gradient defined as follows\n",
    "\n",
    "$$ G^m_i = - \\frac{\\partial \\textrm{L}(\\mathbf{y}, \\hat{\\mathbf{y}}^m)}{\\partial \\hat{y}^m_i} \\propto (y_i - \\hat{y}^m_i) $$\n",
    "\n",
    "The intuition is that in 1D if $y_i > \\hat{y}^m_i$, we need to move $\\hat{y}^m_i$ larger to minimize the cost function, so we will have positive derivative (slope) $\\to$ positive gradient; vice versa. Note there are n data points, so the gradient is a n-dimensional vector\n",
    "\n",
    "$$\\mathbf{G}^m = \\Big[  - \\frac{\\partial \\textrm{L}(\\mathbf{y}, \\hat{\\mathbf{y}}^m)}{\\partial \\hat{\\mathbf{y}}^m_1},   - \\frac{\\partial \\textrm{L}(\\mathbf{y},- \\hat{\\mathbf{y}}^m)}{\\partial \\hat{\\mathbf{y}}^m_2}, \\cdots,  - \\frac{\\partial \\textrm{L}(\\mathbf{y}, \\hat{\\mathbf{y}}^m)}{\\partial \\hat{\\mathbf{y}}^m_n}  \\Big]$$\n",
    "\n",
    "Compare the process $\\hat{\\mathbf{y}}^{m+1} = \\hat{\\mathbf{y}}^m + \\alpha \\mathbf{G}^m $ and gradient boosting machine process $F_m(x) = F_{m-1}(x) + \\alpha h_m(x)$ mentioned previously, **$h_m$ plays a role as the gradient to pivot prediction moving toward to the true value**\n",
    "\n",
    "$$h_m(x) \\simeq - \\frac{\\partial \\textrm{L}(\\mathbf{y}, \\hat{\\mathbf{y}}^m)}{\\partial \\hat{y}^m_i}.$$\n",
    "\n",
    "\n",
    "\n",
    "## Gradient boosting vs parameter gradient descent\n",
    "\n",
    "\n",
    "For parameter gradient descent, e.g. linear regression, we have hypothesis ($p$ features)\n",
    "\n",
    "$$\\hat{y} = h_{\\theta}(\\mathbf{x}) = \\theta_0 + \\theta_1 x_1 + \\theta_2 x_2 + \\cdots + \\theta_p x_p,$$\n",
    "\n",
    "where $\\lbrace \\theta_0, \\theta_1, \\cdots \\rbrace$ are model parameters to optimize by minimizing $\\textrm{L}(\\mathbf{y}, \\hat{\\mathbf{y}})$:\n",
    "\n",
    "$$\\theta_i := \\theta_i - \\alpha \\frac{\\partial \\textrm{L}(\\mathbf{y}, \\hat{\\mathbf{y}})}{\\partial \\theta_i}. $$\n",
    "\n",
    "Matt summarized the difference in his [blog](https://blog.mattbowers.dev/how-gradient-boosting-does-gradient-descent). The generic gradient boosting algorithm outlined above implies two key differences from parameter gradient descent.\n",
    "\n",
    "* Instead of nudging parameters, we nudge each individual prediction, thus instead of taking the gradient of loss with respect to the parameters, we take the gradient with respect to the predictions.\n",
    "\n",
    "* Instead of directly adding the negative gradient to our current parameter values, we create a functional approximation of the negative gradient and add that to our model. Our functional approximation is just a crappy model that tries to use the model features to predict the negative gradient of the loss with respect to our current model predictions.\n",
    "\n",
    "The true genius of the gradient boosting algorithm is in chasing the negative gradient of the loss with crappy models, rather than using it to directly update our predictions. We train a crappy model to predict the negative gradient of the loss with respect to the current model predictions, thus we can iteratively update our composite model by adding these crappy models to it."
   ]
  },
  {
   "cell_type": "code",
   "execution_count": null,
   "id": "worst-choir",
   "metadata": {},
   "outputs": [],
   "source": []
  },
  {
   "cell_type": "code",
   "execution_count": null,
   "id": "complete-bradley",
   "metadata": {},
   "outputs": [],
   "source": []
  }
 ],
 "metadata": {
  "kernelspec": {
   "display_name": "Python 3",
   "language": "python",
   "name": "python3"
  },
  "language_info": {
   "codemirror_mode": {
    "name": "ipython",
    "version": 3
   },
   "file_extension": ".py",
   "mimetype": "text/x-python",
   "name": "python",
   "nbconvert_exporter": "python",
   "pygments_lexer": "ipython3",
   "version": "3.7.10"
  }
 },
 "nbformat": 4,
 "nbformat_minor": 5
}
