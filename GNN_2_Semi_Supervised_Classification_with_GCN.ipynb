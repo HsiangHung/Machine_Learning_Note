{
  "nbformat": 4,
  "nbformat_minor": 0,
  "metadata": {
    "colab": {
      "provenance": [],
      "authorship_tag": "ABX9TyMRmv8utc6jzKCtAOSthHPl",
      "include_colab_link": true
    },
    "kernelspec": {
      "name": "python3",
      "display_name": "Python 3"
    },
    "language_info": {
      "name": "python"
    }
  },
  "cells": [
    {
      "cell_type": "markdown",
      "metadata": {
        "id": "view-in-github",
        "colab_type": "text"
      },
      "source": [
        "<a href=\"https://colab.research.google.com/github/HsiangHung/Machine_Learning_Note/blob/master/GNN_2_Semi_Supervised_Classification_with_GCN.ipynb\" target=\"_parent\"><img src=\"https://colab.research.google.com/assets/colab-badge.svg\" alt=\"Open In Colab\"/></a>"
      ]
    },
    {
      "cell_type": "markdown",
      "source": [
        "# Semi-supervised Classification with Graph Convolutional Networks (GCN)\n",
        "\n",
        "**NOTE**: This colab notebook follows Daniel Holmberg's blog: [Graph Neural Networks in Python](https://towardsdatascience.com/graph-neural-networks-in-python-c310c7c18c83)\n",
        "\n",
        "### Reference\n",
        "\n",
        "* seminal paper: [Semi-Supervised Classification with Graph Convolutional Networks](https://arxiv.org/abs/1609.02907)\n",
        "* Blog: [Graph Neural Networks in Python](https://towardsdatascience.com/graph-neural-networks-in-python-c310c7c18c83)\n",
        "* Thomas Kipf's blog: [GRAPH CONVOLUTIONAL NETWORKS](https://tkipf.github.io/graph-convolutional-networks/#footer)\n",
        "\n",
        "\n",
        "## Basic Graph"
      ],
      "metadata": {
        "id": "mEiaKr_kPP89"
      }
    },
    {
      "cell_type": "code",
      "source": [
        "import networkx as nx\n",
        "import numpy as np"
      ],
      "metadata": {
        "id": "6TW7uHlHPOhK"
      },
      "execution_count": 2,
      "outputs": []
    },
    {
      "cell_type": "code",
      "source": [
        "H = nx.DiGraph()"
      ],
      "metadata": {
        "id": "n0lPSxMRO1t7"
      },
      "execution_count": 2,
      "outputs": []
    },
    {
      "cell_type": "code",
      "source": [
        "H.add_nodes_from([\n",
        "  (0, {\"color\": \"gray\", \"size\": 450}),\n",
        "  (1, {\"color\": \"yellow\", \"size\": 700}),\n",
        "  (2, {\"color\": \"red\", \"size\": 250}),\n",
        "  (3, {\"color\": \"pink\", \"size\": 500})\n",
        "])\n",
        "for node in H.nodes(data=True):\n",
        "  print(node)\n",
        "\n",
        "H.add_edges_from([\n",
        "  (0, 1),\n",
        "  (1, 2),\n",
        "  (2, 0),\n",
        "  (2, 3),\n",
        "  (3, 2)\n",
        "])"
      ],
      "metadata": {
        "colab": {
          "base_uri": "https://localhost:8080/"
        },
        "id": "FEij0fn0O6rn",
        "outputId": "6645d5a9-aa8b-4ecd-fe2b-47f6f86462e5"
      },
      "execution_count": 3,
      "outputs": [
        {
          "output_type": "stream",
          "name": "stdout",
          "text": [
            "(0, {'color': 'gray', 'size': 450})\n",
            "(1, {'color': 'yellow', 'size': 700})\n",
            "(2, {'color': 'red', 'size': 250})\n",
            "(3, {'color': 'pink', 'size': 500})\n"
          ]
        }
      ]
    },
    {
      "cell_type": "code",
      "source": [
        "node_colors = nx.get_node_attributes(H, \"color\").values()\n",
        "colors = list(node_colors)\n",
        "node_sizes = nx.get_node_attributes(H, \"size\").values()\n",
        "sizes = list(node_sizes)\n",
        "nx.draw(H, with_labels=True, node_color=colors, node_size=sizes)\n"
      ],
      "metadata": {
        "colab": {
          "base_uri": "https://localhost:8080/",
          "height": 319
        },
        "id": "OGiZ3zhPPJL0",
        "outputId": "40ae2016-0606-4b0e-d26a-299abbfeb9ff"
      },
      "execution_count": 4,
      "outputs": [
        {
          "output_type": "display_data",
          "data": {
            "text/plain": [
              "<Figure size 432x288 with 1 Axes>"
            ],
            "image/png": "[encoded data removed]"
          },
          "metadata": {}
        }
      ]
    },
    {
      "cell_type": "code",
      "source": [
        "import torch\n",
        "print(\"PyTorch has version {}\".format(torch.__version__))"
      ],
      "metadata": {
        "colab": {
          "base_uri": "https://localhost:8080/"
        },
        "id": "u3xTT0ApPu3W",
        "outputId": "278a47a4-aab0-43f9-ae04-cc0fccddcbd9"
      },
      "execution_count": 3,
      "outputs": [
        {
          "output_type": "stream",
          "name": "stdout",
          "text": [
            "PyTorch has version 1.13.0+cu116\n"
          ]
        }
      ]
    },
    {
      "cell_type": "markdown",
      "source": [
        "# Install torch-geometric\n",
        "\n",
        "Note the apple M1 chip does not support running torch-geometric package. When importing it will show the following error message \n",
        "\n",
        "      zsh: bus error  python\n",
        "\n",
        "For more detail, see the blog:\n",
        "* [Importing SciPy in Python 3.9.1 yields zsh: bus error; Apple Silicon M1 Mac OS 11](https://github.com/scipy/scipy/issues/13416)\n",
        "\n",
        "In this colab, before importing we need to install the dependence (**this installation process will take a while**):"
      ],
      "metadata": {
        "id": "ehbi1b4k-XDx"
      }
    },
    {
      "cell_type": "code",
      "source": [
        "!pip install torch-scatter -f https://pytorch-geometric.com/whl/torch-1.10.0+cu111.html\n",
        "!pip install torch-sparse -f https://pytorch-geometric.com/whl/torch-1.10.0+cu111.html\n",
        "!pip install torch-geometric"
      ],
      "metadata": {
        "colab": {
          "base_uri": "https://localhost:8080/",
          "height": 1000
        },
        "id": "T--oKPfRP3ER",
        "outputId": "cd93ab39-c233-4459-a5a8-83b3328a50ec"
      },
      "execution_count": 1,
      "outputs": [
        {
          "output_type": "stream",
          "name": "stdout",
          "text": [
            "Looking in indexes: https://pypi.org/simple, https://us-python.pkg.dev/colab-wheels/public/simple/\n",
            "Looking in links: https://pytorch-geometric.com/whl/torch-1.10.0+cu111.html\n",
            "Collecting torch-scatter\n",
            "  Downloading torch_scatter-2.1.0.tar.gz (106 kB)\n",
            "\u001b[K     |████████████████████████████████| 106 kB 5.7 MB/s \n",
            "\u001b[?25hBuilding wheels for collected packages: torch-scatter\n",
            "  Building wheel for torch-scatter (setup.py) ... \u001b[?25l\u001b[?25hdone\n",
            "  Created wheel for torch-scatter: filename=torch_scatter-2.1.0-cp38-cp38-linux_x86_64.whl size=477429 sha256=2dd16dab5f951e64dedaad34b433d41be957ed8db3cfd689d57d175f15c9b8a0\n",
            "  Stored in directory: /root/.cache/pip/wheels/41/7f/4f/cf072bea3b6efe4561de2db3603ebbd8718c134c24caab8281\n",
            "Successfully built torch-scatter\n",
            "Installing collected packages: torch-scatter\n",
            "Successfully installed torch-scatter-2.1.0\n",
            "Looking in indexes: https://pypi.org/simple, https://us-python.pkg.dev/colab-wheels/public/simple/\n",
            "Looking in links: https://pytorch-geometric.com/whl/torch-1.10.0+cu111.html\n",
            "Collecting torch-sparse\n",
            "  Downloading torch_sparse-0.6.16.tar.gz (208 kB)\n",
            "\u001b[K     |████████████████████████████████| 208 kB 4.8 MB/s \n",
            "\u001b[?25hRequirement already satisfied: scipy in /usr/local/lib/python3.8/dist-packages (from torch-sparse) (1.7.3)\n",
            "Requirement already satisfied: numpy<1.23.0,>=1.16.5 in /usr/local/lib/python3.8/dist-packages (from scipy->torch-sparse) (1.21.6)\n",
            "Building wheels for collected packages: torch-sparse\n",
            "  Building wheel for torch-sparse (setup.py) ... \u001b[?25l\u001b[?25hdone\n",
            "  Created wheel for torch-sparse: filename=torch_sparse-0.6.16-cp38-cp38-linux_x86_64.whl size=984350 sha256=726398ba43e8ec101d29d7da0b22e2b34c2f57339fc78a2c0cc2f07d9992e5f3\n",
            "  Stored in directory: /root/.cache/pip/wheels/d7/f5/41/86610d3a3ce0bec241d8549ecdd6c7e07fe000e041616cfcd6\n",
            "Successfully built torch-sparse\n",
            "Installing collected packages: torch-sparse\n",
            "Successfully installed torch-sparse-0.6.16\n",
            "Looking in indexes: https://pypi.org/simple, https://us-python.pkg.dev/colab-wheels/public/simple/\n",
            "Collecting torch-geometric\n",
            "  Downloading torch_geometric-2.2.0.tar.gz (564 kB)\n",
            "\u001b[K     |████████████████████████████████| 564 kB 5.0 MB/s \n",
            "\u001b[?25hRequirement already satisfied: tqdm in /usr/local/lib/python3.8/dist-packages (from torch-geometric) (4.64.1)\n",
            "Requirement already satisfied: numpy in /usr/local/lib/python3.8/dist-packages (from torch-geometric) (1.21.6)\n",
            "Requirement already satisfied: scipy in /usr/local/lib/python3.8/dist-packages (from torch-geometric) (1.7.3)\n",
            "Requirement already satisfied: jinja2 in /usr/local/lib/python3.8/dist-packages (from torch-geometric) (2.11.3)\n",
            "Requirement already satisfied: requests in /usr/local/lib/python3.8/dist-packages (from torch-geometric) (2.23.0)\n",
            "Requirement already satisfied: pyparsing in /usr/local/lib/python3.8/dist-packages (from torch-geometric) (3.0.9)\n",
            "Requirement already satisfied: scikit-learn in /usr/local/lib/python3.8/dist-packages (from torch-geometric) (1.0.2)\n",
            "Collecting psutil>=5.8.0\n",
            "  Downloading psutil-5.9.4-cp36-abi3-manylinux_2_12_x86_64.manylinux2010_x86_64.manylinux_2_17_x86_64.manylinux2014_x86_64.whl (280 kB)\n",
            "\u001b[K     |████████████████████████████████| 280 kB 66.6 MB/s \n",
            "\u001b[?25hRequirement already satisfied: MarkupSafe>=0.23 in /usr/local/lib/python3.8/dist-packages (from jinja2->torch-geometric) (2.0.1)\n",
            "Requirement already satisfied: chardet<4,>=3.0.2 in /usr/local/lib/python3.8/dist-packages (from requests->torch-geometric) (3.0.4)\n",
            "Requirement already satisfied: idna<3,>=2.5 in /usr/local/lib/python3.8/dist-packages (from requests->torch-geometric) (2.10)\n",
            "Requirement already satisfied: certifi>=2017.4.17 in /usr/local/lib/python3.8/dist-packages (from requests->torch-geometric) (2022.12.7)\n",
            "Requirement already satisfied: urllib3!=1.25.0,!=1.25.1,<1.26,>=1.21.1 in /usr/local/lib/python3.8/dist-packages (from requests->torch-geometric) (1.24.3)\n",
            "Requirement already satisfied: threadpoolctl>=2.0.0 in /usr/local/lib/python3.8/dist-packages (from scikit-learn->torch-geometric) (3.1.0)\n",
            "Requirement already satisfied: joblib>=0.11 in /usr/local/lib/python3.8/dist-packages (from scikit-learn->torch-geometric) (1.2.0)\n",
            "Building wheels for collected packages: torch-geometric\n",
            "  Building wheel for torch-geometric (setup.py) ... \u001b[?25l\u001b[?25hdone\n",
            "  Created wheel for torch-geometric: filename=torch_geometric-2.2.0-py3-none-any.whl size=773302 sha256=878fce0b1930d13381697bb4d7989b5a5f187ef3bed421aa77427b068f70a6b9\n",
            "  Stored in directory: /root/.cache/pip/wheels/59/a3/20/198928106d3169865ae73afcbd3d3d1796cf6b429b55c65378\n",
            "Successfully built torch-geometric\n",
            "Installing collected packages: psutil, torch-geometric\n",
            "  Attempting uninstall: psutil\n",
            "    Found existing installation: psutil 5.4.8\n",
            "    Uninstalling psutil-5.4.8:\n",
            "      Successfully uninstalled psutil-5.4.8\n",
            "Successfully installed psutil-5.9.4 torch-geometric-2.2.0\n"
          ]
        },
        {
          "output_type": "display_data",
          "data": {
            "application/vnd.colab-display-data+json": {
              "pip_warning": {
                "packages": [
                  "psutil"
                ]
              }
            }
          },
          "metadata": {}
        }
      ]
    },
    {
      "cell_type": "markdown",
      "source": [
        "# Karate Graph Data\n",
        "\n",
        "[Zachary’s Karate Club Network](https://www.journals.uchicago.edu/doi/10.1086/jar.33.4.3629752) is chosen for this purpose. It represents friendship relationships between members of a karate club studied by W. Zachary in the seventies. An edge in the graph connects two individuals if they socialize outside of the club.\n",
        "\n",
        "The Karate Club dataset is available through PyTorch Geometric (PyG). The PyG library contains all sorts of methods for deep learning on graphs and other irregular structures.\n",
        "\n",
        "Each node in the dataset is assigned a 34 dimensional feature vector that uniquely represents every node. Every member of the club is part of one of 4 factions, or classes in machine learning terms."
      ],
      "metadata": {
        "id": "Ad9VvA7YefIi"
      }
    },
    {
      "cell_type": "code",
      "source": [
        "from torch_geometric.datasets import KarateClub\n",
        "dataset = KarateClub()\n",
        "print(\"Dataset:\", dataset)\n",
        "print(\"# Graphs:\", len(dataset))\n",
        "print(\"# Features:\", dataset.num_features)\n",
        "print(\"# Classes:\", dataset.num_classes)\n"
      ],
      "metadata": {
        "colab": {
          "base_uri": "https://localhost:8080/"
        },
        "id": "vkmtuz5CPI7o",
        "outputId": "b3b4579a-6b69-4426-f66f-99d11466849e"
      },
      "execution_count": 6,
      "outputs": [
        {
          "output_type": "stream",
          "name": "stdout",
          "text": [
            "Dataset: KarateClub()\n",
            "# Graphs: 1\n",
            "# Features: 34\n",
            "# Classes: 4\n"
          ]
        }
      ]
    },
    {
      "cell_type": "markdown",
      "source": [
        "The data is undirected graph with 34 nodes, corresponding to each with 34 features as mentioned before. The edges are represented as tuples, and there are 156 of them."
      ],
      "metadata": {
        "id": "OUWX9W6wPIZK"
      }
    },
    {
      "cell_type": "code",
      "source": [
        "data = dataset[0]\n",
        "print(data)\n",
        "print(\"Training nodes:\", data.train_mask.sum().item())\n",
        "print(\"Is directed:\", data.is_directed())"
      ],
      "metadata": {
        "colab": {
          "base_uri": "https://localhost:8080/"
        },
        "id": "PiNjxiqNfpT6",
        "outputId": "3b3af987-df24-4aef-fdca-c5d1396594c5"
      },
      "execution_count": 8,
      "outputs": [
        {
          "output_type": "stream",
          "name": "stdout",
          "text": [
            "Data(x=[34, 34], edge_index=[2, 156], y=[34], train_mask=[34])\n",
            "Training nodes: 4\n",
            "Is directed: False\n"
          ]
        }
      ]
    },
    {
      "cell_type": "code",
      "source": [
        "data.x.shape"
      ],
      "metadata": {
        "colab": {
          "base_uri": "https://localhost:8080/"
        },
        "id": "35J1oFVZibG8",
        "outputId": "68c19f5a-69a0-49fb-b841-37a91bbc706f"
      },
      "execution_count": 7,
      "outputs": [
        {
          "output_type": "execute_result",
          "data": {
            "text/plain": [
              "torch.Size([34, 34])"
            ]
          },
          "metadata": {},
          "execution_count": 7
        }
      ]
    },
    {
      "cell_type": "code",
      "source": [
        "data.x"
      ],
      "metadata": {
        "colab": {
          "base_uri": "https://localhost:8080/"
        },
        "id": "WX57miq2ik7f",
        "outputId": "2796106c-3680-4965-a00e-93e64ae06534"
      },
      "execution_count": 8,
      "outputs": [
        {
          "output_type": "execute_result",
          "data": {
            "text/plain": [
              "tensor([[1., 0., 0.,  ..., 0., 0., 0.],\n",
              "        [0., 1., 0.,  ..., 0., 0., 0.],\n",
              "        [0., 0., 1.,  ..., 0., 0., 0.],\n",
              "        ...,\n",
              "        [0., 0., 0.,  ..., 1., 0., 0.],\n",
              "        [0., 0., 0.,  ..., 0., 1., 0.],\n",
              "        [0., 0., 0.,  ..., 0., 0., 1.]])"
            ]
          },
          "metadata": {},
          "execution_count": 8
        }
      ]
    },
    {
      "cell_type": "code",
      "source": [
        "data.y"
      ],
      "metadata": {
        "colab": {
          "base_uri": "https://localhost:8080/"
        },
        "id": "utrFcKhBiVTS",
        "outputId": "fd4986ae-bc6a-4772-fe1b-0586fa8a6386"
      },
      "execution_count": 9,
      "outputs": [
        {
          "output_type": "execute_result",
          "data": {
            "text/plain": [
              "tensor([1, 1, 1, 1, 3, 3, 3, 1, 0, 1, 3, 1, 1, 1, 0, 0, 3, 1, 0, 1, 0, 1, 0, 0,\n",
              "        2, 2, 0, 0, 2, 0, 0, 2, 0, 0])"
            ]
          },
          "metadata": {},
          "execution_count": 9
        }
      ]
    },
    {
      "cell_type": "code",
      "source": [
        "from torch_geometric.utils import to_networkx\n",
        "G = to_networkx(data, to_undirected=True)\n",
        "nx.draw(G, node_color=data.y, node_size=150)"
      ],
      "metadata": {
        "colab": {
          "base_uri": "https://localhost:8080/",
          "height": 319
        },
        "id": "OKHnxDVbiEtZ",
        "outputId": "663a1532-9798-4faa-d95c-5f4632ac7885"
      },
      "execution_count": 9,
      "outputs": [
        {
          "output_type": "display_data",
          "data": {
            "text/plain": [
              "<Figure size 432x288 with 1 Axes>"
            ],
            "image/png": "[encoded data removed]"
          },
          "metadata": {}
        }
      ]
    },
    {
      "cell_type": "markdown",
      "source": [
        "## Graph Convolutional Networks\n",
        "\n",
        "\n",
        "Graph Convolutional Networks (GCNs) will be used to classify nodes in the test set. To give a brief theoretical introduction, a layer in a graph neural network can be written as a non-linear function $f$:\n",
        "\n",
        "$$h^{(k+1)} = f(h^{(k)}, A),$$\n",
        "\n",
        "where GCN layer take as inputs the graph’s adjacency matrix $A$ and latent node features $h^{(k)}$ for some layer $k$.\n",
        "\n",
        "A simple layer-wise propagation rule for a graph neural network would look something like this:\n",
        "\n",
        "$$f(h^{(k)}, A) = \\sigma \\left( A h^{(k)} W^k \\right) $$\n",
        "\n",
        "where $W^k$ is a weight matrix for the $k$-th neural network layer, and $\\sigma$ is a non-linear activation function. Multiplying the weights with the adjacency matrix means that all the feature vectors of all (1-hop) neighboring nodes are summed and aggregated for every node:\n",
        "\n",
        "$$ h^{(k+1)_v} = \\sigma \\left( (A h^{(k)} W^k)_v \\right) = \\sigma \\left( W^{(k)} \\sum_{u \\in N(v)} \\frac{h^{(k)}_u}{|N(v)|} \\right). $$\n",
        "\n",
        "Note that the feature vector of the node itself is not included. Kipf and Welling proposed to add the identity matrix to the adjacency matrix $A$ and denote this new matrix $\\hat{A} = A + I$. Multiplication of the adjacency matrix will also change the scale of the feature vectors. To counteract this $\\hat{A}$ is multiplied by its diagonal degree matrix symmetrically, yielding the final GCN propagation rule:\n",
        "\n",
        "$$f(h^{(k)}, A) = \\sigma \\left( \\hat{D}^{-\\frac{1}{2}} \\hat{A} \\hat{D}^{-\\frac{1}{2}} h^{(k)} W^k \\right), $$\n",
        "\n",
        "where $\\hat{D}$ is the diagonal **node degree** matrix of$\\hat{A}$ .\n",
        "\n",
        "\n",
        "\n",
        "## Construct GCN deep model\n",
        "\n",
        "Next we prepare the GCN deep model in code. The GCN layer is already a part of what PyG, and it can be readily be imported as the `GCNConv` class.\n",
        "\n",
        "It is 3-layer GCN:\n",
        "* The first layer has many input units as the number of features every node has.\n",
        "* The latent dimension is set to 4\n",
        "* The last one is set to 2. \n",
        "\n",
        "The 2-dimensional latent embedding allows us to plot and see if the model manages to learn embeddings that are similar for nodes belonging to the same class. \n",
        "\n",
        "The **hyperbolic tangent** activation function is used in-between GCN layers as a non-linearity.\n"
      ],
      "metadata": {
        "id": "kHNdsOnIqN2_"
      }
    },
    {
      "cell_type": "code",
      "source": [
        "from torch.nn import Linear\n",
        "from torch_geometric.nn import GCNConv\n",
        "\n",
        "class GCN(torch.nn.Module):\n",
        "  def __init__(self):\n",
        "    super(GCN, self).__init__()\n",
        "    torch.manual_seed(42)\n",
        "    self.conv1 = GCNConv(dataset.num_features, 4)\n",
        "    self.conv2 = GCNConv(4, 4)\n",
        "    self.conv3 = GCNConv(4, 2)\n",
        "    self.classifier = Linear(2, dataset.num_classes)\n",
        "\n",
        "  def forward(self, x, edge_index):\n",
        "    h = self.conv1(x, edge_index)\n",
        "    h = h.tanh()\n",
        "    h = self.conv2(h, edge_index)\n",
        "    h = h.tanh()\n",
        "    h = self.conv3(h, edge_index)\n",
        "    h = h.tanh()\n",
        "    out = self.classifier(h)\n",
        "    return out, h\n",
        "\n",
        "model = GCN()\n",
        "print(model)"
      ],
      "metadata": {
        "colab": {
          "base_uri": "https://localhost:8080/"
        },
        "id": "N7OooKZTtsZc",
        "outputId": "d1e07237-12f7-4cac-aaf7-6ede0bfaa939"
      },
      "execution_count": 13,
      "outputs": [
        {
          "output_type": "stream",
          "name": "stdout",
          "text": [
            "GCN(\n",
            "  (conv1): GCNConv(34, 4)\n",
            "  (conv2): GCNConv(4, 4)\n",
            "  (conv3): GCNConv(4, 2)\n",
            "  (classifier): Linear(in_features=2, out_features=4, bias=True)\n",
            ")\n"
          ]
        }
      ]
    },
    {
      "cell_type": "markdown",
      "source": [
        "### First Embedding "
      ],
      "metadata": {
        "id": "1nRnOT_cGCQI"
      }
    },
    {
      "cell_type": "code",
      "source": [
        "out, h = model(data.x, data.edge_index)\n",
        "print(\"Embedding shape:\", h.shape)"
      ],
      "metadata": {
        "colab": {
          "base_uri": "https://localhost:8080/"
        },
        "id": "rKTHLl0OIyCK",
        "outputId": "4be25fde-d661-44d0-8049-bc3627f5d6ef"
      },
      "execution_count": 14,
      "outputs": [
        {
          "output_type": "stream",
          "name": "stdout",
          "text": [
            "Embedding shape: torch.Size([34, 2])\n"
          ]
        }
      ]
    },
    {
      "cell_type": "code",
      "source": [
        "import matplotlib.pyplot as plt\n",
        "\n",
        "def plot_embedding(h, color=data.y, size=100):\n",
        "  h = h.detach().numpy()\n",
        "  fig = plt.figure(figsize=(6, 6))\n",
        "  plt.scatter(h[:, 0], h[:, 1], c=color, s=size)\n",
        "  plt.show()\n",
        "\n",
        "plot_embedding(h)"
      ],
      "metadata": {
        "colab": {
          "base_uri": "https://localhost:8080/",
          "height": 374
        },
        "id": "iphnAh4TI3ky",
        "outputId": "e270c007-2153-43f7-af83-d13bb7cea520"
      },
      "execution_count": 15,
      "outputs": [
        {
          "output_type": "display_data",
          "data": {
            "text/plain": [
              "<Figure size 432x432 with 1 Axes>"
            ],
            "image/png": "[encoded data removed]"
          },
          "metadata": {
            "needs_background": "light"
          }
        }
      ]
    },
    {
      "cell_type": "markdown",
      "source": [
        "## Train GCN model\n",
        "\n",
        "We use **cross-entropy** as loss functions since it is well suited for multi-class classification problems, and initialize **Adam** as a stochastic gradient optimizer. We create a standard PyTorch training loop, and let it run for **300 epochs**."
      ],
      "metadata": {
        "id": "UlJKZScAyK8W"
      }
    },
    {
      "cell_type": "code",
      "source": [
        "criterion = torch.nn.CrossEntropyLoss()\n",
        "optimizer = torch.optim.Adam(model.parameters(), lr=0.01)\n",
        "\n",
        "def train(data):\n",
        "  optimizer.zero_grad()\n",
        "  out, h = model(data.x, data.edge_index)\n",
        "  loss = criterion(out[data.train_mask], data.y[data.train_mask]) # the loss is only calculated for nodes in the training set\n",
        "  loss.backward()\n",
        "  optimizer.step()\n",
        "  return loss, h\n",
        "\n",
        "epochs = range(1, 301)\n",
        "losses = []\n",
        "embeddings = []\n",
        "for epoch in epochs:\n",
        "  loss, h = train(data)\n",
        "  losses.append(loss)\n",
        "  embeddings.append(h)\n",
        "  print(f\"Epoch: {epoch}\\tLoss: {loss:.4f}\")"
      ],
      "metadata": {
        "colab": {
          "base_uri": "https://localhost:8080/"
        },
        "id": "Ufl3P5w7qGAf",
        "outputId": "553d70a5-2541-4f36-abff-d10870a87b9c"
      },
      "execution_count": 16,
      "outputs": [
        {
          "output_type": "stream",
          "name": "stdout",
          "text": [
            "Epoch: 1\tLoss: 1.3996\n",
            "Epoch: 2\tLoss: 1.3749\n",
            "Epoch: 3\tLoss: 1.3545\n",
            "Epoch: 4\tLoss: 1.3380\n",
            "Epoch: 5\tLoss: 1.3248\n",
            "Epoch: 6\tLoss: 1.3137\n",
            "Epoch: 7\tLoss: 1.3034\n",
            "Epoch: 8\tLoss: 1.2929\n",
            "Epoch: 9\tLoss: 1.2814\n",
            "Epoch: 10\tLoss: 1.2689\n",
            "Epoch: 11\tLoss: 1.2553\n",
            "Epoch: 12\tLoss: 1.2410\n",
            "Epoch: 13\tLoss: 1.2264\n",
            "Epoch: 14\tLoss: 1.2117\n",
            "Epoch: 15\tLoss: 1.1971\n",
            "Epoch: 16\tLoss: 1.1827\n",
            "Epoch: 17\tLoss: 1.1682\n",
            "Epoch: 18\tLoss: 1.1534\n",
            "Epoch: 19\tLoss: 1.1382\n",
            "Epoch: 20\tLoss: 1.1224\n",
            "Epoch: 21\tLoss: 1.1060\n",
            "Epoch: 22\tLoss: 1.0895\n",
            "Epoch: 23\tLoss: 1.0730\n",
            "Epoch: 24\tLoss: 1.0569\n",
            "Epoch: 25\tLoss: 1.0412\n",
            "Epoch: 26\tLoss: 1.0259\n",
            "Epoch: 27\tLoss: 1.0108\n",
            "Epoch: 28\tLoss: 0.9960\n",
            "Epoch: 29\tLoss: 0.9816\n",
            "Epoch: 30\tLoss: 0.9677\n",
            "Epoch: 31\tLoss: 0.9545\n",
            "Epoch: 32\tLoss: 0.9420\n",
            "Epoch: 33\tLoss: 0.9302\n",
            "Epoch: 34\tLoss: 0.9189\n",
            "Epoch: 35\tLoss: 0.9080\n",
            "Epoch: 36\tLoss: 0.8976\n",
            "Epoch: 37\tLoss: 0.8876\n",
            "Epoch: 38\tLoss: 0.8781\n",
            "Epoch: 39\tLoss: 0.8690\n",
            "Epoch: 40\tLoss: 0.8601\n",
            "Epoch: 41\tLoss: 0.8515\n",
            "Epoch: 42\tLoss: 0.8430\n",
            "Epoch: 43\tLoss: 0.8347\n",
            "Epoch: 44\tLoss: 0.8268\n",
            "Epoch: 45\tLoss: 0.8192\n",
            "Epoch: 46\tLoss: 0.8118\n",
            "Epoch: 47\tLoss: 0.8045\n",
            "Epoch: 48\tLoss: 0.7973\n",
            "Epoch: 49\tLoss: 0.7904\n",
            "Epoch: 50\tLoss: 0.7835\n",
            "Epoch: 51\tLoss: 0.7767\n",
            "Epoch: 52\tLoss: 0.7699\n",
            "Epoch: 53\tLoss: 0.7632\n",
            "Epoch: 54\tLoss: 0.7566\n",
            "Epoch: 55\tLoss: 0.7502\n",
            "Epoch: 56\tLoss: 0.7437\n",
            "Epoch: 57\tLoss: 0.7373\n",
            "Epoch: 58\tLoss: 0.7310\n",
            "Epoch: 59\tLoss: 0.7248\n",
            "Epoch: 60\tLoss: 0.7185\n",
            "Epoch: 61\tLoss: 0.7123\n",
            "Epoch: 62\tLoss: 0.7061\n",
            "Epoch: 63\tLoss: 0.7000\n",
            "Epoch: 64\tLoss: 0.6939\n",
            "Epoch: 65\tLoss: 0.6879\n",
            "Epoch: 66\tLoss: 0.6818\n",
            "Epoch: 67\tLoss: 0.6758\n",
            "Epoch: 68\tLoss: 0.6698\n",
            "Epoch: 69\tLoss: 0.6638\n",
            "Epoch: 70\tLoss: 0.6578\n",
            "Epoch: 71\tLoss: 0.6518\n",
            "Epoch: 72\tLoss: 0.6459\n",
            "Epoch: 73\tLoss: 0.6399\n",
            "Epoch: 74\tLoss: 0.6339\n",
            "Epoch: 75\tLoss: 0.6280\n",
            "Epoch: 76\tLoss: 0.6220\n",
            "Epoch: 77\tLoss: 0.6161\n",
            "Epoch: 78\tLoss: 0.6101\n",
            "Epoch: 79\tLoss: 0.6042\n",
            "Epoch: 80\tLoss: 0.5983\n",
            "Epoch: 81\tLoss: 0.5924\n",
            "Epoch: 82\tLoss: 0.5864\n",
            "Epoch: 83\tLoss: 0.5805\n",
            "Epoch: 84\tLoss: 0.5746\n",
            "Epoch: 85\tLoss: 0.5687\n",
            "Epoch: 86\tLoss: 0.5628\n",
            "Epoch: 87\tLoss: 0.5569\n",
            "Epoch: 88\tLoss: 0.5509\n",
            "Epoch: 89\tLoss: 0.5449\n",
            "Epoch: 90\tLoss: 0.5389\n",
            "Epoch: 91\tLoss: 0.5327\n",
            "Epoch: 92\tLoss: 0.5265\n",
            "Epoch: 93\tLoss: 0.5201\n",
            "Epoch: 94\tLoss: 0.5136\n",
            "Epoch: 95\tLoss: 0.5068\n",
            "Epoch: 96\tLoss: 0.4998\n",
            "Epoch: 97\tLoss: 0.4925\n",
            "Epoch: 98\tLoss: 0.4849\n",
            "Epoch: 99\tLoss: 0.4769\n",
            "Epoch: 100\tLoss: 0.4686\n",
            "Epoch: 101\tLoss: 0.4598\n",
            "Epoch: 102\tLoss: 0.4507\n",
            "Epoch: 103\tLoss: 0.4413\n",
            "Epoch: 104\tLoss: 0.4315\n",
            "Epoch: 105\tLoss: 0.4216\n",
            "Epoch: 106\tLoss: 0.4114\n",
            "Epoch: 107\tLoss: 0.4011\n",
            "Epoch: 108\tLoss: 0.3907\n",
            "Epoch: 109\tLoss: 0.3803\n",
            "Epoch: 110\tLoss: 0.3699\n",
            "Epoch: 111\tLoss: 0.3596\n",
            "Epoch: 112\tLoss: 0.3493\n",
            "Epoch: 113\tLoss: 0.3392\n",
            "Epoch: 114\tLoss: 0.3293\n",
            "Epoch: 115\tLoss: 0.3196\n",
            "Epoch: 116\tLoss: 0.3102\n",
            "Epoch: 117\tLoss: 0.3010\n",
            "Epoch: 118\tLoss: 0.2922\n",
            "Epoch: 119\tLoss: 0.2836\n",
            "Epoch: 120\tLoss: 0.2754\n",
            "Epoch: 121\tLoss: 0.2674\n",
            "Epoch: 122\tLoss: 0.2598\n",
            "Epoch: 123\tLoss: 0.2525\n",
            "Epoch: 124\tLoss: 0.2454\n",
            "Epoch: 125\tLoss: 0.2387\n",
            "Epoch: 126\tLoss: 0.2322\n",
            "Epoch: 127\tLoss: 0.2260\n",
            "Epoch: 128\tLoss: 0.2201\n",
            "Epoch: 129\tLoss: 0.2144\n",
            "Epoch: 130\tLoss: 0.2089\n",
            "Epoch: 131\tLoss: 0.2037\n",
            "Epoch: 132\tLoss: 0.1986\n",
            "Epoch: 133\tLoss: 0.1938\n",
            "Epoch: 134\tLoss: 0.1892\n",
            "Epoch: 135\tLoss: 0.1848\n",
            "Epoch: 136\tLoss: 0.1805\n",
            "Epoch: 137\tLoss: 0.1764\n",
            "Epoch: 138\tLoss: 0.1725\n",
            "Epoch: 139\tLoss: 0.1687\n",
            "Epoch: 140\tLoss: 0.1651\n",
            "Epoch: 141\tLoss: 0.1617\n",
            "Epoch: 142\tLoss: 0.1583\n",
            "Epoch: 143\tLoss: 0.1551\n",
            "Epoch: 144\tLoss: 0.1520\n",
            "Epoch: 145\tLoss: 0.1491\n",
            "Epoch: 146\tLoss: 0.1462\n",
            "Epoch: 147\tLoss: 0.1435\n",
            "Epoch: 148\tLoss: 0.1408\n",
            "Epoch: 149\tLoss: 0.1383\n",
            "Epoch: 150\tLoss: 0.1359\n",
            "Epoch: 151\tLoss: 0.1335\n",
            "Epoch: 152\tLoss: 0.1312\n",
            "Epoch: 153\tLoss: 0.1290\n",
            "Epoch: 154\tLoss: 0.1269\n",
            "Epoch: 155\tLoss: 0.1249\n",
            "Epoch: 156\tLoss: 0.1229\n",
            "Epoch: 157\tLoss: 0.1210\n",
            "Epoch: 158\tLoss: 0.1191\n",
            "Epoch: 159\tLoss: 0.1173\n",
            "Epoch: 160\tLoss: 0.1156\n",
            "Epoch: 161\tLoss: 0.1139\n",
            "Epoch: 162\tLoss: 0.1123\n",
            "Epoch: 163\tLoss: 0.1107\n",
            "Epoch: 164\tLoss: 0.1092\n",
            "Epoch: 165\tLoss: 0.1077\n",
            "Epoch: 166\tLoss: 0.1063\n",
            "Epoch: 167\tLoss: 0.1049\n",
            "Epoch: 168\tLoss: 0.1035\n",
            "Epoch: 169\tLoss: 0.1022\n",
            "Epoch: 170\tLoss: 0.1009\n",
            "Epoch: 171\tLoss: 0.0997\n",
            "Epoch: 172\tLoss: 0.0984\n",
            "Epoch: 173\tLoss: 0.0973\n",
            "Epoch: 174\tLoss: 0.0961\n",
            "Epoch: 175\tLoss: 0.0950\n",
            "Epoch: 176\tLoss: 0.0939\n",
            "Epoch: 177\tLoss: 0.0928\n",
            "Epoch: 178\tLoss: 0.0918\n",
            "Epoch: 179\tLoss: 0.0907\n",
            "Epoch: 180\tLoss: 0.0897\n",
            "Epoch: 181\tLoss: 0.0888\n",
            "Epoch: 182\tLoss: 0.0878\n",
            "Epoch: 183\tLoss: 0.0869\n",
            "Epoch: 184\tLoss: 0.0860\n",
            "Epoch: 185\tLoss: 0.0851\n",
            "Epoch: 186\tLoss: 0.0842\n",
            "Epoch: 187\tLoss: 0.0833\n",
            "Epoch: 188\tLoss: 0.0825\n",
            "Epoch: 189\tLoss: 0.0817\n",
            "Epoch: 190\tLoss: 0.0809\n",
            "Epoch: 191\tLoss: 0.0801\n",
            "Epoch: 192\tLoss: 0.0793\n",
            "Epoch: 193\tLoss: 0.0786\n",
            "Epoch: 194\tLoss: 0.0778\n",
            "Epoch: 195\tLoss: 0.0771\n",
            "Epoch: 196\tLoss: 0.0764\n",
            "Epoch: 197\tLoss: 0.0757\n",
            "Epoch: 198\tLoss: 0.0750\n",
            "Epoch: 199\tLoss: 0.0743\n",
            "Epoch: 200\tLoss: 0.0737\n",
            "Epoch: 201\tLoss: 0.0730\n",
            "Epoch: 202\tLoss: 0.0724\n",
            "Epoch: 203\tLoss: 0.0717\n",
            "Epoch: 204\tLoss: 0.0711\n",
            "Epoch: 205\tLoss: 0.0705\n",
            "Epoch: 206\tLoss: 0.0699\n",
            "Epoch: 207\tLoss: 0.0693\n",
            "Epoch: 208\tLoss: 0.0688\n",
            "Epoch: 209\tLoss: 0.0682\n",
            "Epoch: 210\tLoss: 0.0676\n",
            "Epoch: 211\tLoss: 0.0671\n",
            "Epoch: 212\tLoss: 0.0665\n",
            "Epoch: 213\tLoss: 0.0660\n",
            "Epoch: 214\tLoss: 0.0655\n",
            "Epoch: 215\tLoss: 0.0650\n",
            "Epoch: 216\tLoss: 0.0644\n",
            "Epoch: 217\tLoss: 0.0639\n",
            "Epoch: 218\tLoss: 0.0634\n",
            "Epoch: 219\tLoss: 0.0630\n",
            "Epoch: 220\tLoss: 0.0625\n",
            "Epoch: 221\tLoss: 0.0620\n",
            "Epoch: 222\tLoss: 0.0615\n",
            "Epoch: 223\tLoss: 0.0611\n",
            "Epoch: 224\tLoss: 0.0606\n",
            "Epoch: 225\tLoss: 0.0602\n",
            "Epoch: 226\tLoss: 0.0597\n",
            "Epoch: 227\tLoss: 0.0593\n",
            "Epoch: 228\tLoss: 0.0589\n",
            "Epoch: 229\tLoss: 0.0585\n",
            "Epoch: 230\tLoss: 0.0580\n",
            "Epoch: 231\tLoss: 0.0576\n",
            "Epoch: 232\tLoss: 0.0572\n",
            "Epoch: 233\tLoss: 0.0568\n",
            "Epoch: 234\tLoss: 0.0564\n",
            "Epoch: 235\tLoss: 0.0560\n",
            "Epoch: 236\tLoss: 0.0556\n",
            "Epoch: 237\tLoss: 0.0553\n",
            "Epoch: 238\tLoss: 0.0549\n",
            "Epoch: 239\tLoss: 0.0545\n",
            "Epoch: 240\tLoss: 0.0541\n",
            "Epoch: 241\tLoss: 0.0538\n",
            "Epoch: 242\tLoss: 0.0534\n",
            "Epoch: 243\tLoss: 0.0531\n",
            "Epoch: 244\tLoss: 0.0527\n",
            "Epoch: 245\tLoss: 0.0524\n",
            "Epoch: 246\tLoss: 0.0520\n",
            "Epoch: 247\tLoss: 0.0517\n",
            "Epoch: 248\tLoss: 0.0514\n",
            "Epoch: 249\tLoss: 0.0510\n",
            "Epoch: 250\tLoss: 0.0507\n",
            "Epoch: 251\tLoss: 0.0504\n",
            "Epoch: 252\tLoss: 0.0501\n",
            "Epoch: 253\tLoss: 0.0497\n",
            "Epoch: 254\tLoss: 0.0494\n",
            "Epoch: 255\tLoss: 0.0491\n",
            "Epoch: 256\tLoss: 0.0488\n",
            "Epoch: 257\tLoss: 0.0485\n",
            "Epoch: 258\tLoss: 0.0482\n",
            "Epoch: 259\tLoss: 0.0479\n",
            "Epoch: 260\tLoss: 0.0476\n",
            "Epoch: 261\tLoss: 0.0474\n",
            "Epoch: 262\tLoss: 0.0471\n",
            "Epoch: 263\tLoss: 0.0468\n",
            "Epoch: 264\tLoss: 0.0465\n",
            "Epoch: 265\tLoss: 0.0462\n",
            "Epoch: 266\tLoss: 0.0460\n",
            "Epoch: 267\tLoss: 0.0457\n",
            "Epoch: 268\tLoss: 0.0454\n",
            "Epoch: 269\tLoss: 0.0452\n",
            "Epoch: 270\tLoss: 0.0449\n",
            "Epoch: 271\tLoss: 0.0446\n",
            "Epoch: 272\tLoss: 0.0444\n",
            "Epoch: 273\tLoss: 0.0441\n",
            "Epoch: 274\tLoss: 0.0439\n",
            "Epoch: 275\tLoss: 0.0436\n",
            "Epoch: 276\tLoss: 0.0434\n",
            "Epoch: 277\tLoss: 0.0431\n",
            "Epoch: 278\tLoss: 0.0429\n",
            "Epoch: 279\tLoss: 0.0427\n",
            "Epoch: 280\tLoss: 0.0424\n",
            "Epoch: 281\tLoss: 0.0422\n",
            "Epoch: 282\tLoss: 0.0419\n",
            "Epoch: 283\tLoss: 0.0417\n",
            "Epoch: 284\tLoss: 0.0415\n",
            "Epoch: 285\tLoss: 0.0413\n",
            "Epoch: 286\tLoss: 0.0410\n",
            "Epoch: 287\tLoss: 0.0408\n",
            "Epoch: 288\tLoss: 0.0406\n",
            "Epoch: 289\tLoss: 0.0404\n",
            "Epoch: 290\tLoss: 0.0402\n",
            "Epoch: 291\tLoss: 0.0400\n",
            "Epoch: 292\tLoss: 0.0397\n",
            "Epoch: 293\tLoss: 0.0395\n",
            "Epoch: 294\tLoss: 0.0393\n",
            "Epoch: 295\tLoss: 0.0391\n",
            "Epoch: 296\tLoss: 0.0389\n",
            "Epoch: 297\tLoss: 0.0387\n",
            "Epoch: 298\tLoss: 0.0385\n",
            "Epoch: 299\tLoss: 0.0383\n",
            "Epoch: 300\tLoss: 0.0381\n"
          ]
        }
      ]
    },
    {
      "cell_type": "code",
      "source": [
        "out, h = model.forward(data.x, data.edge_index)\n",
        "pred = model.classifier(h)\n",
        "print(model.classifier(h))\n",
        "# print(out[data.train_mask])"
      ],
      "metadata": {
        "colab": {
          "base_uri": "https://localhost:8080/"
        },
        "id": "l91xr2uoSzy0",
        "outputId": "e78c621b-8741-4d6e-d267-9681bc384c7c"
      },
      "execution_count": 64,
      "outputs": [
        {
          "output_type": "stream",
          "name": "stdout",
          "text": [
            "tensor([[-0.0537,  3.9365, -4.7856, -0.5195],\n",
            "        [ 0.3152,  3.5771, -4.3836, -0.7413],\n",
            "        [ 3.8595, -0.2684, -0.1227, -2.7923],\n",
            "        [ 0.3486,  3.5361, -4.3386, -0.7596],\n",
            "        [-3.6943, -0.8126, -0.3265,  3.3349],\n",
            "        [-3.7276, -0.8280, -0.3142,  3.3645],\n",
            "        [-3.7276, -0.8279, -0.3143,  3.3645],\n",
            "        [ 0.8453,  2.9716, -3.7155, -1.0419],\n",
            "        [ 3.9127, -0.3482, -0.0363, -2.8187],\n",
            "        [ 3.8938, -0.3977,  0.0121, -2.7936],\n",
            "        [-3.6943, -0.8115, -0.3276,  3.3347],\n",
            "        [ 0.0120,  3.6706, -4.5090, -0.5185],\n",
            "        [ 0.1614,  3.6537, -4.4769, -0.6341],\n",
            "        [ 2.3326,  1.3654, -1.9351, -1.9041],\n",
            "        [ 3.8987, -0.4349,  0.0503, -2.7901],\n",
            "        [ 3.8984, -0.4343,  0.0497, -2.7900],\n",
            "        [-3.7204, -0.8414, -0.2998,  3.3615],\n",
            "        [ 0.1783,  3.6278, -4.4488, -0.6424],\n",
            "        [ 3.8964, -0.4384,  0.0537, -2.7876],\n",
            "        [ 2.1077,  1.5470, -2.1420, -1.7614],\n",
            "        [ 3.8950, -0.4398,  0.0549, -2.7862],\n",
            "        [ 0.1976,  3.6006, -4.4193, -0.6522],\n",
            "        [ 3.8960, -0.4384,  0.0536, -2.7872],\n",
            "        [ 1.4769, -3.5960,  3.0186, -0.2256],\n",
            "        [ 0.2765, -5.1466,  4.4733,  1.0422],\n",
            "        [ 0.2826, -5.1414,  4.4687,  1.0363],\n",
            "        [ 3.8552, -0.5007,  0.1128, -2.7422],\n",
            "        [ 1.0052, -4.1995,  3.5843,  0.2714],\n",
            "        [ 3.3685, -1.1151,  0.6881, -2.2310],\n",
            "        [ 3.7944, -0.5861,  0.1935, -2.6767],\n",
            "        [ 3.9203, -0.3561, -0.0275, -2.8231],\n",
            "        [ 1.0453, -4.1440,  3.5320,  0.2283],\n",
            "        [ 3.9605, -0.3727, -0.0067, -2.8518],\n",
            "        [ 3.9610, -0.3720, -0.0073, -2.8523]], grad_fn=<AddmmBackward0>)\n"
          ]
        }
      ]
    },
    {
      "cell_type": "code",
      "source": [
        "_, pred = model(data.x, data.edge_index).max(dim=1)\n",
        "pred"
      ],
      "metadata": {
        "colab": {
          "base_uri": "https://localhost:8080/",
          "height": 187
        },
        "id": "A1bQGGImascz",
        "outputId": "f2bed3d1-4929-47b8-a48b-f250cb78bbf1"
      },
      "execution_count": 1,
      "outputs": [
        {
          "output_type": "error",
          "ename": "NameError",
          "evalue": "ignored",
          "traceback": [
            "\u001b[0;31m---------------------------------------------------------------------------\u001b[0m",
            "\u001b[0;31mNameError\u001b[0m                                 Traceback (most recent call last)",
            "\u001b[0;32m<ipython-input-1-e34d9e3fbdff>\u001b[0m in \u001b[0;36m<module>\u001b[0;34m\u001b[0m\n\u001b[0;32m----> 1\u001b[0;31m \u001b[0m_\u001b[0m\u001b[0;34m,\u001b[0m \u001b[0mpred\u001b[0m \u001b[0;34m=\u001b[0m \u001b[0mmodel\u001b[0m\u001b[0;34m(\u001b[0m\u001b[0mdata\u001b[0m\u001b[0;34m.\u001b[0m\u001b[0mx\u001b[0m\u001b[0;34m,\u001b[0m \u001b[0mdata\u001b[0m\u001b[0;34m.\u001b[0m\u001b[0medge_index\u001b[0m\u001b[0;34m)\u001b[0m\u001b[0;34m.\u001b[0m\u001b[0mmax\u001b[0m\u001b[0;34m(\u001b[0m\u001b[0mdim\u001b[0m\u001b[0;34m=\u001b[0m\u001b[0;36m1\u001b[0m\u001b[0;34m)\u001b[0m\u001b[0;34m\u001b[0m\u001b[0;34m\u001b[0m\u001b[0m\n\u001b[0m\u001b[1;32m      2\u001b[0m \u001b[0mpred\u001b[0m\u001b[0;34m\u001b[0m\u001b[0;34m\u001b[0m\u001b[0m\n",
            "\u001b[0;31mNameError\u001b[0m: name 'model' is not defined"
          ]
        }
      ]
    },
    {
      "cell_type": "code",
      "source": [
        "data.y"
      ],
      "metadata": {
        "colab": {
          "base_uri": "https://localhost:8080/"
        },
        "id": "A6EQivnXaMYG",
        "outputId": "6711784c-7fb4-490d-847e-c563b9576eb3"
      },
      "execution_count": 63,
      "outputs": [
        {
          "output_type": "execute_result",
          "data": {
            "text/plain": [
              "tensor([1, 1, 1, 1, 3, 3, 3, 1, 0, 1, 3, 1, 1, 1, 0, 0, 3, 1, 0, 1, 0, 1, 0, 0,\n",
              "        2, 2, 0, 0, 2, 0, 0, 2, 0, 0])"
            ]
          },
          "metadata": {},
          "execution_count": 63
        }
      ]
    },
    {
      "cell_type": "markdown",
      "source": [
        "The 2 dimensional embeddings from the last GCN layer are stored as a list so that we can animate the evolution of the embeddings during training, giving some insight into the latent space of the model."
      ],
      "metadata": {
        "id": "yCV8MLGnF8eZ"
      }
    },
    {
      "cell_type": "code",
      "source": [
        "embeddings[-1]"
      ],
      "metadata": {
        "colab": {
          "base_uri": "https://localhost:8080/"
        },
        "id": "V_JwDsLRFxki",
        "outputId": "e9d68dce-43d4-43bf-f5e9-c23c6f2ce219"
      },
      "execution_count": 24,
      "outputs": [
        {
          "output_type": "execute_result",
          "data": {
            "text/plain": [
              "tensor([[ 0.9998,  0.9994],\n",
              "        [ 0.8141,  1.0000],\n",
              "        [-0.9975,  1.0000],\n",
              "        [ 0.8380,  1.0000],\n",
              "        [ 0.9997, -0.9990],\n",
              "        [ 1.0000, -0.9999],\n",
              "        [ 1.0000, -0.9999],\n",
              "        [ 0.4458,  0.9992],\n",
              "        [-0.9992,  0.9995],\n",
              "        [-0.9995,  0.9977],\n",
              "        [ 0.9997, -0.9990],\n",
              "        [ 0.9593,  0.9924],\n",
              "        [ 0.9420,  0.9961],\n",
              "        [-0.5824,  0.9995],\n",
              "        [-0.9999,  0.9951],\n",
              "        [-0.9999,  0.9952],\n",
              "        [ 0.9998, -0.9999],\n",
              "        [ 0.9085,  0.9951],\n",
              "        [-0.9999,  0.9950],\n",
              "        [-0.4196,  0.9968],\n",
              "        [-0.9999,  0.9950],\n",
              "        [ 0.9089,  0.9949],\n",
              "        [-0.9999,  0.9950],\n",
              "        [-1.0000, -0.7360],\n",
              "        [-0.9999, -0.9997],\n",
              "        [-0.9999, -0.9996],\n",
              "        [-1.0000,  0.9907],\n",
              "        [-0.9999, -0.8985],\n",
              "        [-0.9998,  0.8146],\n",
              "        [-1.0000,  0.9675],\n",
              "        [-0.9993,  0.9994],\n",
              "        [-0.9999, -0.7237],\n",
              "        [-1.0000,  1.0000],\n",
              "        [-1.0000,  1.0000]], grad_fn=<TanhBackward0>)"
            ]
          },
          "metadata": {},
          "execution_count": 24
        }
      ]
    },
    {
      "cell_type": "code",
      "source": [
        "import matplotlib.animation as animation\n",
        "import matplotlib.pyplot as plt\n",
        "\n",
        "fig, (ax1, ax2) = plt.subplots(1, 2, figsize=(12, 5))\n",
        "\n",
        "h = embeddings[0]\n",
        "h = h.detach().numpy()\n",
        "\n",
        "ax1.scatter(h[:, 0], h[:, 1], c=data.y, s=100)\n",
        "ax1.set_xlim([-1.1, 1.1])\n",
        "ax1.set_ylim([-1.1, 1.1])\n",
        "\n",
        "h = embeddings[-1]\n",
        "h = h.detach().numpy()\n",
        "\n",
        "ax2.scatter(h[:, 0], h[:, 1], c=data.y, s=100)\n",
        "ax2.set_xlim([-1.1, 1.1])\n",
        "ax2.set_ylim([-1.1, 1.1])\n",
        "\n",
        "plt.show()\n"
      ],
      "metadata": {
        "colab": {
          "base_uri": "https://localhost:8080/",
          "height": 320
        },
        "id": "baXF_zHtGr3w",
        "outputId": "ec3c9ccc-a0e4-4788-97b0-259cfc59ab58"
      },
      "execution_count": 22,
      "outputs": [
        {
          "output_type": "display_data",
          "data": {
            "text/plain": [
              "<Figure size 864x360 with 2 Axes>"
            ],
            "image/png": "[encoded data removed]"
          },
          "metadata": {
            "needs_background": "light"
          }
        }
      ]
    },
    {
      "cell_type": "code",
      "source": [
        "from torch_geometric.utils import to_networkx\n",
        "G = to_networkx(data, to_undirected=True)\n",
        "nx.draw(G, node_color=data.y, node_size=150)"
      ],
      "metadata": {
        "colab": {
          "base_uri": "https://localhost:8080/",
          "height": 319
        },
        "id": "QYo5cJzDIK8A",
        "outputId": "69e52be9-2a6a-4d28-cbfe-b885c82b5877"
      },
      "execution_count": 31,
      "outputs": [
        {
          "output_type": "display_data",
          "data": {
            "text/plain": [
              "<Figure size 432x288 with 1 Axes>"
            ],
            "image/png": "[encoded data removed]"
          },
          "metadata": {}
        }
      ]
    }
  ]
}