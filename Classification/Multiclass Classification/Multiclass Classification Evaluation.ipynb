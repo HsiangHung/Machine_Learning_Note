{
 "cells": [
  {
   "cell_type": "markdown",
   "id": "appreciated-working",
   "metadata": {},
   "source": [
    "# Multiclass Classification Evaluation\n",
    "\n",
    "This tutorial follows blog: [Tips and Tricks for Multi-Class Classification](https://medium.com/@b.terryjack/tips-and-tricks-for-multi-class-classification-c184ae1c8ffc) by Mohammed Terry-Jack. \n",
    "\n",
    "We compare several classifiers and show how to use **Precision**, **Recall**, **F1**, **Confusion Matrix** to evaluate the model in the multiclass classification problems. For **Precision**, **Recall**, **F1**, we have micro, macro and weight average. We will implement [`classification_report`](https://scikit-learn.org/stable/modules/generated/sklearn.metrics.classification_report.html) and [`confusion_matrix`](https://scikit-learn.org/stable/modules/generated/sklearn.metrics.confusion_matrix.html) functions from sklearn to evaluate model performance.\n",
    "\n",
    "The code used in this notebook is from the [notebook](https://colab.research.google.com/github/mohammedterry/ANNs/blob/master/MultiClass.ipynb#scrollTo=64cnM9-UjWmu) given by the same author. There are three classes in the example case.\n",
    "\n",
    "\n",
    "\n",
    "### Content\n",
    "\n",
    "0. Data\n",
    "1. Inherently Multi-class Classifiers\n",
    "    * 1.a k-nearest neighbor\n",
    "    * 1.b Random Forest\n",
    "    * 1.c Neural Network\n",
    "    * 1.d Deep neural network\n",
    "    * 1.e Support vector machine\n",
    "2. One-vs-Rest Binary Classifiers\n",
    "3. Resampling Dataset\n",
    "    * 3.a Downsampled\n",
    "    * 3.b Upsampling\n",
    "    * 3.c SMOTE\n",
    "\n",
    "\n",
    "## 0. Data\n",
    "\n",
    "The data is from [here](https://raw.githubusercontent.com/mohammedterry/ANNs/master/captainamerica.py). It is a 2D array and the number describe the class."
   ]
  },
  {
   "cell_type": "code",
   "execution_count": 2,
   "id": "dominant-column",
   "metadata": {},
   "outputs": [],
   "source": [
    "from captainamerica import multiclass_data"
   ]
  },
  {
   "cell_type": "code",
   "execution_count": 3,
   "id": "rocky-service",
   "metadata": {},
   "outputs": [],
   "source": [
    "white = [255,255,255]\n",
    "red = [255,0,0]\n",
    "blue = [0,0,255]\n",
    "\n",
    "colors = {0: white, 1: red, 2: blue}\n",
    "\n",
    "x_dim = len(multiclass_data)\n",
    "y_dim = len(multiclass_data[0])\n",
    "z_dim = len(red)\n",
    "n_classes = 3"
   ]
  },
  {
   "cell_type": "markdown",
   "id": "representative-czech",
   "metadata": {},
   "source": [
    "The `multiclass` reads as \n",
    "$$\n",
    "\\textrm{multiclass_data} = \\begin{bmatrix} \n",
    "x_{11} & x_{12} & \\cdots & x_{1m} \\\\\n",
    "x_{21} & x_{22} & \\cdots & x_{2m} \\\\\n",
    "\\vdots & & & \\vdots \\\\\n",
    "x_{n1} & x_{n2} & \\cdots & x_{nm} \\\\\n",
    "\\end{bmatrix}\n",
    "\\quad,\n",
    "$$\n",
    "where $x_{ij}$ = 0 (white), 1 (red) or 2 (blue)."
   ]
  },
  {
   "cell_type": "code",
   "execution_count": 4,
   "id": "capital-limit",
   "metadata": {},
   "outputs": [
    {
     "name": "stdout",
     "output_type": "stream",
     "text": [
      "{0, 1, 2}\n"
     ]
    }
   ],
   "source": [
    "labels = set({})\n",
    "for x in multiclass_data:\n",
    "    labels = labels.union(set(x))\n",
    "print (labels)"
   ]
  },
  {
   "cell_type": "code",
   "execution_count": 5,
   "id": "enclosed-drink",
   "metadata": {},
   "outputs": [
    {
     "name": "stdout",
     "output_type": "stream",
     "text": [
      "(90, 100, 3)\n"
     ]
    },
    {
     "data": {
      "image/png": "[encoded data removed]",
      "text/plain": [
       "<PIL.Image.Image image mode=RGB size=100x90 at 0x7FABD0AF4690>"
      ]
     },
     "execution_count": 5,
     "metadata": {},
     "output_type": "execute_result"
    }
   ],
   "source": [
    "import numpy as np\n",
    "image_array = np.zeros((x_dim, y_dim, z_dim), np.uint8)\n",
    "\n",
    "for row in range(len(multiclass_data)):\n",
    "    for column in range(len(multiclass_data[0])):\n",
    "        image_array[row][column] = colors[multiclass_data[row][column]]\n",
    "\n",
    "print (image_array.shape)        \n",
    "    \n",
    "from PIL import Image\n",
    "Image.fromarray(image_array)"
   ]
  },
  {
   "cell_type": "markdown",
   "id": "hearing-shark",
   "metadata": {},
   "source": [
    "The data is a 90 $\\times$ 100 array, and each element $x_{ij} = \\lbrace 0, 1, 2\\rbrace$. Convert to image_array, the data shows the above pattern"
   ]
  },
  {
   "cell_type": "code",
   "execution_count": 6,
   "id": "spectacular-classification",
   "metadata": {},
   "outputs": [
    {
     "name": "stdout",
     "output_type": "stream",
     "text": [
      "{0, 1, 2}\n"
     ]
    },
    {
     "data": {
      "text/plain": [
       "array([[1., 0., 0.],\n",
       "       [1., 0., 0.],\n",
       "       [1., 0., 0.],\n",
       "       ...,\n",
       "       [1., 0., 0.],\n",
       "       [1., 0., 0.],\n",
       "       [1., 0., 0.]])"
      ]
     },
     "execution_count": 6,
     "metadata": {},
     "output_type": "execute_result"
    }
   ],
   "source": [
    "from sklearn.preprocessing import LabelEncoder\n",
    "from sklearn.preprocessing import OneHotEncoder\n",
    "\n",
    "X = [(col, row) for col in range(x_dim) for row in range(y_dim)]\n",
    "\n",
    "labels = np.array(multiclass_data).flatten()\n",
    "\n",
    "print (set(labels))\n",
    "\n",
    "y = LabelEncoder().fit_transform(labels)\n",
    "y= OneHotEncoder(sparse=False).fit_transform(y.reshape((len(y), 1)))\n",
    "y"
   ]
  },
  {
   "cell_type": "code",
   "execution_count": 118,
   "id": "north-lewis",
   "metadata": {},
   "outputs": [
    {
     "data": {
      "text/plain": [
       "{0, 1, 2}"
      ]
     },
     "execution_count": 118,
     "metadata": {},
     "output_type": "execute_result"
    }
   ],
   "source": [
    "set(labels)"
   ]
  },
  {
   "cell_type": "markdown",
   "id": "grave-bracket",
   "metadata": {},
   "source": [
    "### Unbalanced dataset"
   ]
  },
  {
   "cell_type": "code",
   "execution_count": 7,
   "id": "preliminary-screening",
   "metadata": {},
   "outputs": [
    {
     "data": {
      "image/png": "[encoded data removed]",
      "text/plain": [
       "<Figure size 432x288 with 1 Axes>"
      ]
     },
     "metadata": {
      "needs_background": "light"
     },
     "output_type": "display_data"
    }
   ],
   "source": [
    "import matplotlib.pyplot as plt\n",
    "\n",
    "plt.hist(labels)\n",
    "plt.show()"
   ]
  },
  {
   "cell_type": "markdown",
   "id": "cosmetic-fabric",
   "metadata": {},
   "source": [
    "### 0.b Train-test dataset split"
   ]
  },
  {
   "cell_type": "code",
   "execution_count": 8,
   "id": "white-budget",
   "metadata": {},
   "outputs": [],
   "source": [
    "from sklearn.model_selection import train_test_split\n",
    "\n",
    "X_train, X_test, y_train, y_test, label_train, label_test = train_test_split(X, y, labels, test_size=0.25, random_state=1000)"
   ]
  },
  {
   "cell_type": "code",
   "execution_count": 51,
   "id": "physical-documentation",
   "metadata": {},
   "outputs": [],
   "source": [
    "from sklearn.metrics import classification_report, confusion_matrix\n",
    "import pandas as pd\n",
    "import seaborn as sns\n",
    "import matplotlib.pyplot as plt\n",
    "\n",
    "def evaluate(y,y_hat,labels):\n",
    "    print(classification_report(y, y_hat, labels=labels))\n",
    "    cm = confusion_matrix(y, y_hat, labels=labels)\n",
    "    cm = cm.astype('float') / cm.sum(axis=1)[:, np.newaxis]\n",
    "    cmat = pd.DataFrame(cm)\n",
    "    cmat.columns = labels\n",
    "#     cmat.set_index([pd.Index(labels, '')], inplace=True)\n",
    "    sns.heatmap(cmat,cmap=\"YlGnBu\", annot=True)\n",
    "    plt.title(\"Confusion Matrix\")\n",
    "    "
   ]
  },
  {
   "cell_type": "markdown",
   "id": "extra-budapest",
   "metadata": {},
   "source": [
    "## 1. Inherently Multi-class Classifiers\n",
    "\n",
    "### 1.a k-nearest neighbor"
   ]
  },
  {
   "cell_type": "code",
   "execution_count": 52,
   "id": "specific-astronomy",
   "metadata": {},
   "outputs": [
    {
     "name": "stdout",
     "output_type": "stream",
     "text": [
      "              precision    recall  f1-score   support\n",
      "\n",
      "           0       0.98      0.98      0.98      1412\n",
      "           1       0.95      0.95      0.95       681\n",
      "           2       0.91      0.94      0.93       157\n",
      "\n",
      "    accuracy                           0.96      2250\n",
      "   macro avg       0.95      0.95      0.95      2250\n",
      "weighted avg       0.96      0.96      0.96      2250\n",
      "\n"
     ]
    },
    {
     "data": {
      "image/png": "[encoded data removed]",
      "text/plain": [
       "<Figure size 432x288 with 2 Axes>"
      ]
     },
     "metadata": {
      "needs_background": "light"
     },
     "output_type": "display_data"
    }
   ],
   "source": [
    "from sklearn.neighbors import KNeighborsClassifier\n",
    "knn_classifier = KNeighborsClassifier()\n",
    "knn_classifier.fit(X_train, y_train)\n",
    "\n",
    "knn_predictions = knn_classifier.predict(X_test)\n",
    "knn_predictions_labels = [np.argmax(p) for p in knn_predictions]\n",
    "evaluate(label_test, knn_predictions_labels, [0, 1, 2])             "
   ]
  },
  {
   "cell_type": "markdown",
   "id": "developed-archive",
   "metadata": {},
   "source": [
    "### 1.b Random Forest"
   ]
  },
  {
   "cell_type": "code",
   "execution_count": 36,
   "id": "advised-president",
   "metadata": {},
   "outputs": [
    {
     "name": "stdout",
     "output_type": "stream",
     "text": [
      "              precision    recall  f1-score   support\n",
      "\n",
      "           0       0.97      0.97      0.97      1412\n",
      "           1       0.94      0.94      0.94       681\n",
      "           2       0.91      0.93      0.92       157\n",
      "\n",
      "    accuracy                           0.96      2250\n",
      "   macro avg       0.94      0.95      0.95      2250\n",
      "weighted avg       0.96      0.96      0.96      2250\n",
      "\n"
     ]
    },
    {
     "data": {
      "image/png": "[encoded data removed]",
      "text/plain": [
       "<Figure size 432x288 with 2 Axes>"
      ]
     },
     "metadata": {
      "needs_background": "light"
     },
     "output_type": "display_data"
    }
   ],
   "source": [
    "from sklearn.ensemble import RandomForestClassifier\n",
    "rf_classifier = RandomForestClassifier()\n",
    "rf_classifier.fit(X_train, y_train)\n",
    "\n",
    "rf_predictions = rf_classifier.predict(X_test)\n",
    "rf_predictions_labels = [np.argmax(p) for p in rf_predictions]\n",
    "evaluate(label_test, rf_predictions_labels, [0, 1, 2])             "
   ]
  },
  {
   "cell_type": "markdown",
   "id": "flush-bacon",
   "metadata": {},
   "source": [
    "### 1.c Neural Network"
   ]
  },
  {
   "cell_type": "code",
   "execution_count": 37,
   "id": "competent-shadow",
   "metadata": {},
   "outputs": [
    {
     "name": "stdout",
     "output_type": "stream",
     "text": [
      "              precision    recall  f1-score   support\n",
      "\n",
      "           0       0.67      0.91      0.77      1412\n",
      "           1       0.63      0.16      0.26       681\n",
      "           2       0.56      0.59      0.58       157\n",
      "\n",
      "    accuracy                           0.66      2250\n",
      "   macro avg       0.62      0.56      0.54      2250\n",
      "weighted avg       0.65      0.66      0.60      2250\n",
      "\n"
     ]
    },
    {
     "data": {
      "image/png": "[encoded data removed]",
      "text/plain": [
       "<Figure size 432x288 with 2 Axes>"
      ]
     },
     "metadata": {
      "needs_background": "light"
     },
     "output_type": "display_data"
    }
   ],
   "source": [
    "from sklearn.neural_network import MLPClassifier\n",
    "snn_classifier = MLPClassifier()\n",
    "snn_classifier.fit(X_train, y_train)\n",
    "\n",
    "snn_predictions = snn_classifier.predict(X_test)\n",
    "snn_predictions_labels = [np.argmax(p) for p in snn_predictions]\n",
    "evaluate(label_test, snn_predictions_labels, [0, 1, 2])"
   ]
  },
  {
   "cell_type": "markdown",
   "id": "trained-madness",
   "metadata": {},
   "source": [
    "### 1.d Deep neural network"
   ]
  },
  {
   "cell_type": "code",
   "execution_count": 38,
   "id": "paperback-sacrifice",
   "metadata": {},
   "outputs": [
    {
     "name": "stdout",
     "output_type": "stream",
     "text": [
      "              precision    recall  f1-score   support\n",
      "\n",
      "           0       0.89      0.93      0.91      1412\n",
      "           1       0.88      0.83      0.85       681\n",
      "           2       0.83      0.73      0.78       157\n",
      "\n",
      "    accuracy                           0.88      2250\n",
      "   macro avg       0.87      0.83      0.85      2250\n",
      "weighted avg       0.88      0.88      0.88      2250\n",
      "\n"
     ]
    },
    {
     "data": {
      "image/png": "[encoded data removed]",
      "text/plain": [
       "<Figure size 432x288 with 2 Axes>"
      ]
     },
     "metadata": {
      "needs_background": "light"
     },
     "output_type": "display_data"
    }
   ],
   "source": [
    "from sklearn.multiclass import OneVsRestClassifier\n",
    "dnns_classifier = OneVsRestClassifier(MLPClassifier(hidden_layer_sizes = [100]*5))\n",
    "dnns_classifier.fit(X_train, y_train)\n",
    "\n",
    "dnn_predictions = dnns_classifier.predict(X_test)\n",
    "dnn_predictions_labels = [np.argmax(p) for p in dnn_predictions]\n",
    "evaluate(label_test, dnn_predictions_labels, [0, 1, 2])"
   ]
  },
  {
   "cell_type": "markdown",
   "id": "monetary-bernard",
   "metadata": {},
   "source": [
    "### 1.e Support vector machine"
   ]
  },
  {
   "cell_type": "code",
   "execution_count": 39,
   "id": "parliamentary-judges",
   "metadata": {},
   "outputs": [
    {
     "name": "stdout",
     "output_type": "stream",
     "text": [
      "              precision    recall  f1-score   support\n",
      "\n",
      "           0       0.82      0.63      0.72      1412\n",
      "           1       0.53      0.72      0.61       681\n",
      "           2       0.65      0.98      0.78       157\n",
      "\n",
      "    accuracy                           0.68      2250\n",
      "   macro avg       0.67      0.78      0.70      2250\n",
      "weighted avg       0.72      0.68      0.69      2250\n",
      "\n"
     ]
    },
    {
     "data": {
      "image/png": "[encoded data removed]",
      "text/plain": [
       "<Figure size 432x288 with 2 Axes>"
      ]
     },
     "metadata": {
      "needs_background": "light"
     },
     "output_type": "display_data"
    }
   ],
   "source": [
    "from sklearn.svm import SVC\n",
    "svm_classifier = SVC(decision_function_shape='ovr')\n",
    "svm_classifier.fit(X_train, label_train)\n",
    "\n",
    "svm_predictions_labels = svm_classifier.predict(X_test)\n",
    "evaluate(label_test, svm_predictions_labels, [0, 1, 2])"
   ]
  },
  {
   "cell_type": "markdown",
   "id": "electronic-partition",
   "metadata": {},
   "source": [
    "## 2. One-vs-Rest Binary Classifiers\n"
   ]
  },
  {
   "cell_type": "code",
   "execution_count": 40,
   "id": "democratic-thesis",
   "metadata": {},
   "outputs": [
    {
     "name": "stdout",
     "output_type": "stream",
     "text": [
      "              precision    recall  f1-score   support\n",
      "\n",
      "           0       0.87      0.98      0.92      1412\n",
      "           1       0.98      0.70      0.81       681\n",
      "           2       0.77      0.88      0.82       157\n",
      "\n",
      "    accuracy                           0.89      2250\n",
      "   macro avg       0.87      0.85      0.85      2250\n",
      "weighted avg       0.90      0.89      0.88      2250\n",
      "\n"
     ]
    },
    {
     "data": {
      "image/png": "[encoded data removed]",
      "text/plain": [
       "<Figure size 432x288 with 2 Axes>"
      ]
     },
     "metadata": {
      "needs_background": "light"
     },
     "output_type": "display_data"
    }
   ],
   "source": [
    "from sklearn.multiclass import OneVsRestClassifier\n",
    "dnns_classifier = OneVsRestClassifier(MLPClassifier(hidden_layer_sizes = [100]*5))\n",
    "dnns_classifier.fit(X_train, y_train)\n",
    "\n",
    "dnns_predictions_labels = dnns_classifier.predict(X_test)\n",
    "dnns_predictions_labels = [np.argmax(p) for p in dnns_predictions_labels]\n",
    "evaluate(label_test, dnns_predictions_labels, [0, 1, 2])"
   ]
  },
  {
   "cell_type": "markdown",
   "id": "minus-treatment",
   "metadata": {},
   "source": [
    "## 3. Resampling Dataset\n",
    "\n",
    "### 3.a Downsampled"
   ]
  },
  {
   "cell_type": "code",
   "execution_count": 10,
   "id": "resident-execution",
   "metadata": {},
   "outputs": [
    {
     "name": "stdout",
     "output_type": "stream",
     "text": [
      "class with smallest size: 694\n"
     ]
    }
   ],
   "source": [
    "classes = {}\n",
    "for i,c in enumerate(labels):\n",
    "    if c in classes:\n",
    "        classes[c].append(i)\n",
    "    else:\n",
    "        classes[c] = [i]\n",
    "\n",
    "class_sizes = [len(c) for c in classes.values()]\n",
    "smallest_class_size = min(class_sizes)\n",
    "\n",
    "print (\"class with smallest size:\", smallest_class_size)"
   ]
  },
  {
   "cell_type": "code",
   "execution_count": 41,
   "id": "peripheral-current",
   "metadata": {},
   "outputs": [],
   "source": [
    "import random\n",
    "\n",
    "subsampled_X, subsampled_y, subsampled_label = [], [], []\n",
    "for c in classes:\n",
    "    ids = random.sample(classes[c], smallest_class_size)\n",
    "#     print (ids, len(ids))\n",
    "    subsampled_X += list(np.array(X)[ids])\n",
    "    subsampled_y += list(np.array(y)[ids])\n",
    "    subsampled_label += list(np.array(labels)[ids])"
   ]
  },
  {
   "cell_type": "code",
   "execution_count": 172,
   "id": "integrated-fellowship",
   "metadata": {},
   "outputs": [
    {
     "data": {
      "image/png": "[encoded data removed]",
      "text/plain": [
       "<Figure size 432x288 with 1 Axes>"
      ]
     },
     "metadata": {
      "needs_background": "light"
     },
     "output_type": "display_data"
    }
   ],
   "source": [
    "plt.hist(subsampled_label)\n",
    "plt.show()"
   ]
  },
  {
   "cell_type": "code",
   "execution_count": 42,
   "id": "organic-modern",
   "metadata": {},
   "outputs": [],
   "source": [
    "subsampled_X_train, subsampled_X_test, subsampled_y_train, subsampled_y_test, _, subsampled_label_test = \\\n",
    "            train_test_split(subsampled_X, subsampled_y, subsampled_label, test_size=0.25, random_state=1000)"
   ]
  },
  {
   "cell_type": "code",
   "execution_count": 43,
   "id": "english-leeds",
   "metadata": {},
   "outputs": [
    {
     "name": "stdout",
     "output_type": "stream",
     "text": [
      "              precision    recall  f1-score   support\n",
      "\n",
      "           0       0.63      0.88      0.74       174\n",
      "           1       0.87      0.36      0.50       163\n",
      "           2       0.85      0.98      0.91       184\n",
      "\n",
      "    accuracy                           0.75       521\n",
      "   macro avg       0.78      0.74      0.72       521\n",
      "weighted avg       0.78      0.75      0.72       521\n",
      "\n"
     ]
    },
    {
     "data": {
      "image/png": "[encoded data removed]",
      "text/plain": [
       "<Figure size 432x288 with 2 Axes>"
      ]
     },
     "metadata": {
      "needs_background": "light"
     },
     "output_type": "display_data"
    }
   ],
   "source": [
    "dnns_classifier = OneVsRestClassifier(MLPClassifier(hidden_layer_sizes = [100]*5))\n",
    "dnns_classifier.fit(subsampled_X_train, subsampled_y_train)\n",
    "\n",
    "dnns_predictions_labels2 = dnns_classifier.predict(subsampled_X_test)\n",
    "dnns_predictions_labels2 = [np.argmax(p) for p in dnns_predictions_labels2]\n",
    "evaluate(subsampled_label_test, dnns_predictions_labels2, [0, 1, 2])"
   ]
  },
  {
   "cell_type": "markdown",
   "id": "centered-store",
   "metadata": {},
   "source": [
    "### 3.b Upsampling"
   ]
  },
  {
   "cell_type": "code",
   "execution_count": 44,
   "id": "compact-parts",
   "metadata": {},
   "outputs": [],
   "source": [
    "import numpy as np\n",
    "\n",
    "largest_class_size = max(class_sizes)\n",
    "\n",
    "upsampled_X, upsampled_y, upsampled_label = [], [], []\n",
    "for c in classes:\n",
    "    ids = np.random.choice(classes[c], largest_class_size)\n",
    "    upsampled_X += list(np.array(X)[ids])\n",
    "    upsampled_y += list(np.array(y)[ids])\n",
    "    upsampled_label += list(np.array(labels)[ids])"
   ]
  },
  {
   "cell_type": "code",
   "execution_count": 23,
   "id": "coral-platinum",
   "metadata": {},
   "outputs": [
    {
     "data": {
      "image/png": "[encoded data removed]",
      "text/plain": [
       "<Figure size 432x288 with 1 Axes>"
      ]
     },
     "metadata": {
      "needs_background": "light"
     },
     "output_type": "display_data"
    }
   ],
   "source": [
    "plt.hist(upsampled_label)\n",
    "plt.show()"
   ]
  },
  {
   "cell_type": "code",
   "execution_count": 45,
   "id": "relative-level",
   "metadata": {},
   "outputs": [
    {
     "name": "stdout",
     "output_type": "stream",
     "text": [
      "              precision    recall  f1-score   support\n",
      "\n",
      "           0       0.86      0.96      0.91      1336\n",
      "           1       0.91      0.85      0.88      1416\n",
      "           2       0.97      0.92      0.94      1454\n",
      "\n",
      "    accuracy                           0.91      4206\n",
      "   macro avg       0.91      0.91      0.91      4206\n",
      "weighted avg       0.91      0.91      0.91      4206\n",
      "\n"
     ]
    },
    {
     "data": {
      "image/png": "[encoded data removed]",
      "text/plain": [
       "<Figure size 432x288 with 2 Axes>"
      ]
     },
     "metadata": {
      "needs_background": "light"
     },
     "output_type": "display_data"
    }
   ],
   "source": [
    "upsampled_X_train, upsampled_X_test, upsampled_y_train, upsampled_y_test, _, upsampled_label_test = \\\n",
    "            train_test_split(upsampled_X, upsampled_y, upsampled_label, test_size=0.25, random_state=1000)\n",
    "\n",
    "dnns_classifier = OneVsRestClassifier(MLPClassifier(hidden_layer_sizes = [100]*5))\n",
    "dnns_classifier.fit(upsampled_X_train, upsampled_y_train)\n",
    "\n",
    "dnns_predictions_labels3 = dnns_classifier.predict(upsampled_X_test)\n",
    "dnns_predictions_labels3 = [np.argmax(p) for p in dnns_predictions_labels3]\n",
    "evaluate(upsampled_label_test, dnns_predictions_labels3, [0, 1, 2])"
   ]
  },
  {
   "cell_type": "markdown",
   "id": "western-spanking",
   "metadata": {},
   "source": [
    "### 3.c SMOTE"
   ]
  },
  {
   "cell_type": "code",
   "execution_count": 25,
   "id": "meaningful-bubble",
   "metadata": {},
   "outputs": [],
   "source": [
    "from imblearn.over_sampling import SMOTE\n",
    "sm = SMOTE()\n",
    "resampled_X, resampled_labels = sm.fit_resample(X, labels)"
   ]
  },
  {
   "cell_type": "code",
   "execution_count": 186,
   "id": "organized-cement",
   "metadata": {},
   "outputs": [
    {
     "data": {
      "text/plain": [
       "(16824, 9000, 16824)"
      ]
     },
     "execution_count": 186,
     "metadata": {},
     "output_type": "execute_result"
    }
   ],
   "source": [
    "len(resampled_X), len(X), len(resampled_labels)"
   ]
  },
  {
   "cell_type": "code",
   "execution_count": 187,
   "id": "composed-annotation",
   "metadata": {},
   "outputs": [
    {
     "data": {
      "text/plain": [
       "array([0, 0, 0, 0, 0])"
      ]
     },
     "execution_count": 187,
     "metadata": {},
     "output_type": "execute_result"
    }
   ],
   "source": [
    "resampled_labels[:5]"
   ]
  },
  {
   "cell_type": "code",
   "execution_count": 26,
   "id": "arctic-liability",
   "metadata": {},
   "outputs": [],
   "source": [
    "resampled_y = LabelEncoder().fit_transform(resampled_labels)\n",
    "resampled_y = OneHotEncoder(sparse=False).fit_transform(resampled_y.reshape((len(resampled_y), 1)))"
   ]
  },
  {
   "cell_type": "code",
   "execution_count": 46,
   "id": "velvet-jordan",
   "metadata": {},
   "outputs": [
    {
     "name": "stdout",
     "output_type": "stream",
     "text": [
      "              precision    recall  f1-score   support\n",
      "\n",
      "           0       0.78      0.96      0.86      1313\n",
      "           1       0.93      0.74      0.83      1448\n",
      "           2       0.96      0.95      0.96      1445\n",
      "\n",
      "    accuracy                           0.88      4206\n",
      "   macro avg       0.89      0.88      0.88      4206\n",
      "weighted avg       0.89      0.88      0.88      4206\n",
      "\n"
     ]
    },
    {
     "data": {
      "image/png": "[encoded data removed]",
      "text/plain": [
       "<Figure size 432x288 with 2 Axes>"
      ]
     },
     "metadata": {
      "needs_background": "light"
     },
     "output_type": "display_data"
    }
   ],
   "source": [
    "resampled_X_train, resampled_X_test, resampled_y_train, resampled_y_test, _, resampled_label_test = \\\n",
    "            train_test_split(resampled_X, resampled_y, resampled_labels, test_size=0.25, random_state=1000)\n",
    "\n",
    "dnns_classifier = OneVsRestClassifier(MLPClassifier(hidden_layer_sizes = [100]*5))\n",
    "dnns_classifier.fit(resampled_X_train, resampled_y_train)\n",
    "\n",
    "dnns_predictions_labels4 = dnns_classifier.predict(resampled_X_test)\n",
    "dnns_predictions_labels4 = [np.argmax(p) for p in dnns_predictions_labels4]\n",
    "evaluate(resampled_label_test, dnns_predictions_labels4, [0, 1, 2])"
   ]
  },
  {
   "cell_type": "code",
   "execution_count": null,
   "id": "confidential-holiday",
   "metadata": {},
   "outputs": [],
   "source": []
  }
 ],
 "metadata": {
  "kernelspec": {
   "display_name": "Python 3",
   "language": "python",
   "name": "python3"
  },
  "language_info": {
   "codemirror_mode": {
    "name": "ipython",
    "version": 3
   },
   "file_extension": ".py",
   "mimetype": "text/x-python",
   "name": "python",
   "nbconvert_exporter": "python",
   "pygments_lexer": "ipython3",
   "version": "3.7.10"
  }
 },
 "nbformat": 4,
 "nbformat_minor": 5
}
