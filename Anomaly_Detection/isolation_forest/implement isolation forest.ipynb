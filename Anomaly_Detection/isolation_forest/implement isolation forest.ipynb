{
 "cells": [
  {
   "cell_type": "markdown",
   "id": "continent-salad",
   "metadata": {},
   "source": [
    "# Anomaly Detection Using Isolation Forest Algorithm\n",
    "\n",
    "This notebook follows Analytics Vidhya's blog: [Anomaly Detection Using Isolation Forest Algorithm](https://medium.com/analytics-vidhya/anomaly-detection-using-isolation-forest-algorithm-8cf36c38d6f7) to show how to implement isolation forest.\n",
    "\n",
    "Three fundamental approaches to detect anomalies are based on:\n",
    "\n",
    "* **Density**: For density measure, 'Normal points occur in dense regions, while anomalies occur in sparse regions'. e.g RNN and one-class SVM.\n",
    "\n",
    "* **Distance**: 'Normal point is close to its neighbors and anomaly is far from its neighbors'. e.g Cluster based method.\n",
    "\n",
    "* **Isolation**: The term isolation means separating an instance from the rest of the instances’. Since anomalies are **few and different** and therefore they are more susceptible to isolation.\n",
    "\n",
    "\n",
    "## What is isolation forest?\n",
    "\n",
    "The Isolation Forest ‘isolates’ observations by randomly selecting a feature and then randomly selecting a split value between the maximum and minimum values of the selected feature.\n",
    "\n",
    "It is an unsupervised algorithm and therefore it does not need labels to identify the outlier/anomaly.\n",
    "\n",
    "It follows the following steps:\n",
    "1. Random and recursive partition of data is carried out, which is represented as a tree (random forest). This is the training stage where the user defines the parameters of the subsample and the number of trees.\n",
    "2. The end of the tree is reached once the recursive partition of data is finished. It is expected that the **path distance taken to reach the outlier is far less than that for the normal data**.\n",
    "3. The distance of the path is **averaged** and normalized to calculate the anomaly score.\n",
    "4. The judgment of the outlier is carried out on the basis of the score.\n",
    "\n",
    "\n",
    "## Data description:\n",
    "\n",
    "The data set which we are using is [Http dataset](http://kdd.ics.uci.edu/databases/kddcup99/kddcup99.html) from the KDDCUP in 1999.\n",
    "The dataset contains 623091 HTTP connection records from seven weeks of network traffic.\n",
    "The dataset is already preprocessed and contains 41 features of the individual TCP connections, content features, and traffic features.\n",
    "Each connection is labeled as either normal or as an attack, with exactly one specific attack type.\n",
    "\n",
    "**NOTE**: Use gunzip to unzip the xxx.gz files."
   ]
  },
  {
   "cell_type": "code",
   "execution_count": 46,
   "id": "coral-agreement",
   "metadata": {},
   "outputs": [],
   "source": [
    "import pandas as pd\n",
    "import numpy as np\n",
    "\n",
    "import matplotlib.pyplot as plt\n",
    "plt.style.use('ggplot')\n",
    "%matplotlib inline"
   ]
  },
  {
   "cell_type": "code",
   "execution_count": 151,
   "id": "occupational-thriller",
   "metadata": {},
   "outputs": [],
   "source": [
    "cols = ['duration', 'protocol_type', 'service', 'flag', 'src_bytes', 'dst_bytes', 'land', 'wrong_fragment', 'urgent',\n",
    "        'hot', 'num_failed_logins', 'logged_in', 'num_compromised', 'root_shell', 'su_attempted', 'num_root', \n",
    "        'num_file_creations', 'num_shells', 'num_access_files', 'num_outbound_cmds', 'is_host_login', \n",
    "        'is_guest_login', 'count', 'srv_count', 'serror_rate', 'srv_serror_rate', 'rerror_rate', 'srv_rerror_rate',\n",
    "        'same_srv_rate', 'diff_srv_rate', 'srv_diff_host_rate', 'dst_host_count', 'dst_host_srv_count', \n",
    "        'dst_host_same_srv_rate', 'dst_host_diff_srv_rate', 'dst_host_same_src_port_rate', \n",
    "        'dst_host_srv_diff_host_rate', 'dst_host_serror_rate', 'dst_host_srv_serror_rate', 'dst_host_rerror_rate', \n",
    "        'dst_host_srv_rerror_rate']\n",
    "\n",
    "df = pd.read_csv('train_data.csv', sep=\",\", names=cols + ['label'], index_col=None)"
   ]
  },
  {
   "cell_type": "code",
   "execution_count": 152,
   "id": "fatal-swiss",
   "metadata": {},
   "outputs": [
    {
     "name": "stdout",
     "output_type": "stream",
     "text": [
      "<class 'pandas.core.frame.DataFrame'>\n",
      "RangeIndex: 4898431 entries, 0 to 4898430\n",
      "Data columns (total 42 columns):\n",
      " #   Column                       Dtype  \n",
      "---  ------                       -----  \n",
      " 0   duration                     int64  \n",
      " 1   protocol_type                object \n",
      " 2   service                      object \n",
      " 3   flag                         object \n",
      " 4   src_bytes                    int64  \n",
      " 5   dst_bytes                    int64  \n",
      " 6   land                         int64  \n",
      " 7   wrong_fragment               int64  \n",
      " 8   urgent                       int64  \n",
      " 9   hot                          int64  \n",
      " 10  num_failed_logins            int64  \n",
      " 11  logged_in                    int64  \n",
      " 12  num_compromised              int64  \n",
      " 13  root_shell                   int64  \n",
      " 14  su_attempted                 int64  \n",
      " 15  num_root                     int64  \n",
      " 16  num_file_creations           int64  \n",
      " 17  num_shells                   int64  \n",
      " 18  num_access_files             int64  \n",
      " 19  num_outbound_cmds            int64  \n",
      " 20  is_host_login                int64  \n",
      " 21  is_guest_login               int64  \n",
      " 22  count                        int64  \n",
      " 23  srv_count                    int64  \n",
      " 24  serror_rate                  float64\n",
      " 25  srv_serror_rate              float64\n",
      " 26  rerror_rate                  float64\n",
      " 27  srv_rerror_rate              float64\n",
      " 28  same_srv_rate                float64\n",
      " 29  diff_srv_rate                float64\n",
      " 30  srv_diff_host_rate           float64\n",
      " 31  dst_host_count               int64  \n",
      " 32  dst_host_srv_count           int64  \n",
      " 33  dst_host_same_srv_rate       float64\n",
      " 34  dst_host_diff_srv_rate       float64\n",
      " 35  dst_host_same_src_port_rate  float64\n",
      " 36  dst_host_srv_diff_host_rate  float64\n",
      " 37  dst_host_serror_rate         float64\n",
      " 38  dst_host_srv_serror_rate     float64\n",
      " 39  dst_host_rerror_rate         float64\n",
      " 40  dst_host_srv_rerror_rate     float64\n",
      " 41  label                        object \n",
      "dtypes: float64(15), int64(23), object(4)\n",
      "memory usage: 1.5+ GB\n"
     ]
    }
   ],
   "source": [
    "df.info()"
   ]
  },
  {
   "cell_type": "code",
   "execution_count": 147,
   "id": "friendly-slovenia",
   "metadata": {},
   "outputs": [
    {
     "data": {
      "text/html": [
       "<div>\n",
       "<style scoped>\n",
       "    .dataframe tbody tr th:only-of-type {\n",
       "        vertical-align: middle;\n",
       "    }\n",
       "\n",
       "    .dataframe tbody tr th {\n",
       "        vertical-align: top;\n",
       "    }\n",
       "\n",
       "    .dataframe thead th {\n",
       "        text-align: right;\n",
       "    }\n",
       "</style>\n",
       "<table border=\"1\" class=\"dataframe\">\n",
       "  <thead>\n",
       "    <tr style=\"text-align: right;\">\n",
       "      <th></th>\n",
       "      <th>duration</th>\n",
       "      <th>protocol_type</th>\n",
       "      <th>service</th>\n",
       "      <th>flag</th>\n",
       "      <th>src_bytes</th>\n",
       "      <th>dst_bytes</th>\n",
       "      <th>land</th>\n",
       "      <th>wrong_fragment</th>\n",
       "      <th>urgent</th>\n",
       "      <th>hot</th>\n",
       "      <th>...</th>\n",
       "      <th>dst_host_count</th>\n",
       "      <th>dst_host_srv_count</th>\n",
       "      <th>dst_host_same_srv_rate</th>\n",
       "      <th>dst_host_diff_srv_rate</th>\n",
       "      <th>dst_host_same_src_port_rate</th>\n",
       "      <th>dst_host_srv_diff_host_rate</th>\n",
       "      <th>dst_host_serror_rate</th>\n",
       "      <th>dst_host_srv_serror_rate</th>\n",
       "      <th>dst_host_rerror_rate</th>\n",
       "      <th>dst_host_srv_rerror_rate</th>\n",
       "    </tr>\n",
       "  </thead>\n",
       "  <tbody>\n",
       "    <tr>\n",
       "      <th>0</th>\n",
       "      <td>udp</td>\n",
       "      <td>private</td>\n",
       "      <td>SF</td>\n",
       "      <td>105</td>\n",
       "      <td>146</td>\n",
       "      <td>0</td>\n",
       "      <td>0</td>\n",
       "      <td>0</td>\n",
       "      <td>0</td>\n",
       "      <td>0</td>\n",
       "      <td>...</td>\n",
       "      <td>254</td>\n",
       "      <td>1.0</td>\n",
       "      <td>0.01</td>\n",
       "      <td>0.00</td>\n",
       "      <td>0.0</td>\n",
       "      <td>0.0</td>\n",
       "      <td>0.0</td>\n",
       "      <td>0.0</td>\n",
       "      <td>0.0</td>\n",
       "      <td>normal.</td>\n",
       "    </tr>\n",
       "    <tr>\n",
       "      <th>0</th>\n",
       "      <td>udp</td>\n",
       "      <td>private</td>\n",
       "      <td>SF</td>\n",
       "      <td>105</td>\n",
       "      <td>146</td>\n",
       "      <td>0</td>\n",
       "      <td>0</td>\n",
       "      <td>0</td>\n",
       "      <td>0</td>\n",
       "      <td>0</td>\n",
       "      <td>...</td>\n",
       "      <td>254</td>\n",
       "      <td>1.0</td>\n",
       "      <td>0.01</td>\n",
       "      <td>0.00</td>\n",
       "      <td>0.0</td>\n",
       "      <td>0.0</td>\n",
       "      <td>0.0</td>\n",
       "      <td>0.0</td>\n",
       "      <td>0.0</td>\n",
       "      <td>normal.</td>\n",
       "    </tr>\n",
       "    <tr>\n",
       "      <th>0</th>\n",
       "      <td>udp</td>\n",
       "      <td>private</td>\n",
       "      <td>SF</td>\n",
       "      <td>105</td>\n",
       "      <td>146</td>\n",
       "      <td>0</td>\n",
       "      <td>0</td>\n",
       "      <td>0</td>\n",
       "      <td>0</td>\n",
       "      <td>0</td>\n",
       "      <td>...</td>\n",
       "      <td>254</td>\n",
       "      <td>1.0</td>\n",
       "      <td>0.01</td>\n",
       "      <td>0.00</td>\n",
       "      <td>0.0</td>\n",
       "      <td>0.0</td>\n",
       "      <td>0.0</td>\n",
       "      <td>0.0</td>\n",
       "      <td>0.0</td>\n",
       "      <td>normal.</td>\n",
       "    </tr>\n",
       "    <tr>\n",
       "      <th>0</th>\n",
       "      <td>udp</td>\n",
       "      <td>private</td>\n",
       "      <td>SF</td>\n",
       "      <td>105</td>\n",
       "      <td>146</td>\n",
       "      <td>0</td>\n",
       "      <td>0</td>\n",
       "      <td>0</td>\n",
       "      <td>0</td>\n",
       "      <td>0</td>\n",
       "      <td>...</td>\n",
       "      <td>254</td>\n",
       "      <td>1.0</td>\n",
       "      <td>0.01</td>\n",
       "      <td>0.00</td>\n",
       "      <td>0.0</td>\n",
       "      <td>0.0</td>\n",
       "      <td>0.0</td>\n",
       "      <td>0.0</td>\n",
       "      <td>0.0</td>\n",
       "      <td>snmpgetattack.</td>\n",
       "    </tr>\n",
       "    <tr>\n",
       "      <th>0</th>\n",
       "      <td>udp</td>\n",
       "      <td>private</td>\n",
       "      <td>SF</td>\n",
       "      <td>105</td>\n",
       "      <td>146</td>\n",
       "      <td>0</td>\n",
       "      <td>0</td>\n",
       "      <td>0</td>\n",
       "      <td>0</td>\n",
       "      <td>0</td>\n",
       "      <td>...</td>\n",
       "      <td>254</td>\n",
       "      <td>1.0</td>\n",
       "      <td>0.01</td>\n",
       "      <td>0.01</td>\n",
       "      <td>0.0</td>\n",
       "      <td>0.0</td>\n",
       "      <td>0.0</td>\n",
       "      <td>0.0</td>\n",
       "      <td>0.0</td>\n",
       "      <td>snmpgetattack.</td>\n",
       "    </tr>\n",
       "  </tbody>\n",
       "</table>\n",
       "<p>5 rows × 41 columns</p>\n",
       "</div>"
      ],
      "text/plain": [
       "  duration protocol_type service  flag  src_bytes  dst_bytes  land  \\\n",
       "0      udp       private      SF   105        146          0     0   \n",
       "0      udp       private      SF   105        146          0     0   \n",
       "0      udp       private      SF   105        146          0     0   \n",
       "0      udp       private      SF   105        146          0     0   \n",
       "0      udp       private      SF   105        146          0     0   \n",
       "\n",
       "   wrong_fragment  urgent  hot  ...  dst_host_count  dst_host_srv_count  \\\n",
       "0               0       0    0  ...             254                 1.0   \n",
       "0               0       0    0  ...             254                 1.0   \n",
       "0               0       0    0  ...             254                 1.0   \n",
       "0               0       0    0  ...             254                 1.0   \n",
       "0               0       0    0  ...             254                 1.0   \n",
       "\n",
       "   dst_host_same_srv_rate  dst_host_diff_srv_rate  \\\n",
       "0                    0.01                    0.00   \n",
       "0                    0.01                    0.00   \n",
       "0                    0.01                    0.00   \n",
       "0                    0.01                    0.00   \n",
       "0                    0.01                    0.01   \n",
       "\n",
       "   dst_host_same_src_port_rate  dst_host_srv_diff_host_rate  \\\n",
       "0                          0.0                          0.0   \n",
       "0                          0.0                          0.0   \n",
       "0                          0.0                          0.0   \n",
       "0                          0.0                          0.0   \n",
       "0                          0.0                          0.0   \n",
       "\n",
       "   dst_host_serror_rate  dst_host_srv_serror_rate  dst_host_rerror_rate  \\\n",
       "0                   0.0                       0.0                   0.0   \n",
       "0                   0.0                       0.0                   0.0   \n",
       "0                   0.0                       0.0                   0.0   \n",
       "0                   0.0                       0.0                   0.0   \n",
       "0                   0.0                       0.0                   0.0   \n",
       "\n",
       "   dst_host_srv_rerror_rate  \n",
       "0                   normal.  \n",
       "0                   normal.  \n",
       "0                   normal.  \n",
       "0            snmpgetattack.  \n",
       "0            snmpgetattack.  \n",
       "\n",
       "[5 rows x 41 columns]"
      ]
     },
     "execution_count": 147,
     "metadata": {},
     "output_type": "execute_result"
    }
   ],
   "source": [
    "test_df.head()"
   ]
  },
  {
   "cell_type": "code",
   "execution_count": 153,
   "id": "based-brick",
   "metadata": {},
   "outputs": [],
   "source": [
    "df = df[df.service == \"http\"]\n",
    "df = df.drop([\"service\"], axis=1)\n",
    "cols.remove(\"service\")"
   ]
  },
  {
   "cell_type": "code",
   "execution_count": 156,
   "id": "competent-colonial",
   "metadata": {},
   "outputs": [
    {
     "data": {
      "text/plain": [
       "(623091, 619046)"
      ]
     },
     "execution_count": 156,
     "metadata": {},
     "output_type": "execute_result"
    }
   ],
   "source": [
    "len(df), len(df[df.label == \"normal.\"])"
   ]
  },
  {
   "cell_type": "code",
   "execution_count": 21,
   "id": "dominant-toolbox",
   "metadata": {},
   "outputs": [
    {
     "data": {
      "text/plain": [
       "{'back.',\n",
       " 'ipsweep.',\n",
       " 'neptune.',\n",
       " 'nmap.',\n",
       " 'normal.',\n",
       " 'phf.',\n",
       " 'portsweep.',\n",
       " 'satan.'}"
      ]
     },
     "execution_count": 21,
     "metadata": {},
     "output_type": "execute_result"
    }
   ],
   "source": [
    "set(df[\"label\"])"
   ]
  },
  {
   "cell_type": "markdown",
   "id": "dirty-nirvana",
   "metadata": {},
   "source": [
    "## Encoding the categorical column "
   ]
  },
  {
   "cell_type": "code",
   "execution_count": 157,
   "id": "capable-battery",
   "metadata": {},
   "outputs": [],
   "source": [
    "from sklearn.preprocessing import LabelEncoder\n",
    "\n",
    "encs = dict()\n",
    "for c in df_1.columns:\n",
    "    if df[c].dtype == 'object':\n",
    "        encs[c] = LabelEncoder()\n",
    "        df[c] = encs[c].fit_transform(df[c])\n",
    "        if c != 'label':\n",
    "            test_df[c] = encs[c].fit_transform(test_df[c])"
   ]
  },
  {
   "cell_type": "code",
   "execution_count": 158,
   "id": "regular-situation",
   "metadata": {},
   "outputs": [],
   "source": [
    "#### Implementing Isolation forest \n",
    "from sklearn.ensemble import IsolationForest\n",
    "from sklearn.model_selection import train_test_split\n",
    "\n",
    "#### Spliting the data into Train, Test and validation dataset \n",
    "\n",
    "df = df.sample(frac=1.0)\n",
    "\n",
    "# X_train, y_train = df[cols][:300000], df['label'][:300000].values\n",
    "# X_val, y_val = df[cols][300000:500000], df['label'][300000:500000].values\n",
    "# X_test, y_test = df[cols][500000:], df['label'][500000:].values\n",
    "\n",
    "X_train, X_test, y_train, y_test = train_test_split(df[cols], df['label'], test_size=0.3, random_state=42)"
   ]
  },
  {
   "cell_type": "code",
   "execution_count": 159,
   "id": "clean-crash",
   "metadata": {},
   "outputs": [
    {
     "data": {
      "text/plain": [
       "(436163, 40)"
      ]
     },
     "execution_count": 159,
     "metadata": {},
     "output_type": "execute_result"
    }
   ],
   "source": [
    "X_train.shape"
   ]
  },
  {
   "cell_type": "markdown",
   "id": "civic-authority",
   "metadata": {},
   "source": [
    "## Isolation forest parameter\n",
    "\n",
    "* **n_estimators (default=100)**: The number of trees to use. The paper suggests an number of 100 trees, because the path lengths usually converges well before that.\n",
    "\n",
    "\n",
    "* **max_samples (default=”auto”)**: The number of samples to draw while build a single tree. The number of samples to draw from X to train each base estimator. If max_samples is larger than the number of samples provided, all samples will be used for all trees (no sampling).\n",
    "   * If int, then draw max_samples samples.\n",
    "   * If float, then draw max_samples * X.shape[0] samples.\n",
    "   * If “auto”, then max_samples=min(256, n_samples).\n",
    "   \n",
    "\n",
    "\n",
    "* **contamination**: The amount of contamination of the data set, i.e. the proportion of outliers in the data set. Used when fitting to define the threshold on the decision function. I will show you how to pick this treshold later.\n",
    "\n",
    "\n",
    "* **max_features (default=1.0)**:  The number of features to draw from X to train each base estimator.\n",
    "   * If int, then draw max_features features.\n",
    "   * If float, then draw max_features * X.shape[1] features.\n",
    "\n"
   ]
  },
  {
   "cell_type": "code",
   "execution_count": 160,
   "id": "furnished-advertising",
   "metadata": {},
   "outputs": [
    {
     "data": {
      "image/png": "[encoded data removed]",
      "text/plain": [
       "<Figure size 864x576 with 1 Axes>"
      ]
     },
     "metadata": {
      "needs_background": "light"
     },
     "output_type": "display_data"
    }
   ],
   "source": [
    "### Building isolation forest \n",
    "iforest = IsolationForest(n_estimators=100, max_samples=256, contamination=0.4, random_state=2018)\n",
    "\n",
    "## Fitting the model \n",
    "iforest.fit(X_train)\n",
    "\n",
    "#### Ploting the graph to identify the anomolie score .\n",
    "plt.figure(figsize=(12, 8))\n",
    "plt.hist(iforest.score_samples(X_test), bins=50);"
   ]
  },
  {
   "cell_type": "code",
   "execution_count": 161,
   "id": "coordinated-florence",
   "metadata": {},
   "outputs": [
    {
     "name": "stdout",
     "output_type": "stream",
     "text": [
      "AUC: 99.5%\n"
     ]
    }
   ],
   "source": [
    "from sklearn.metrics import roc_auc_score\n",
    "print('AUC: {:.1%}'.format(roc_auc_score((-0.7 < iforest.score_samples(X_test)), \\\n",
    "                                         y_test == list(encs['label'].classes_).index('normal.'))))"
   ]
  },
  {
   "cell_type": "code",
   "execution_count": 164,
   "id": "renewable-defendant",
   "metadata": {},
   "outputs": [
    {
     "data": {
      "text/plain": [
       "((436163, 40), (186928, 40))"
      ]
     },
     "execution_count": 164,
     "metadata": {},
     "output_type": "execute_result"
    }
   ],
   "source": [
    "X_train.shape, X_test.shape"
   ]
  },
  {
   "cell_type": "markdown",
   "id": "personalized-bunch",
   "metadata": {},
   "source": [
    "## Grid Search on Isolation Forest\n",
    "\n",
    "Stackoverflow blog: [Isolation Forest Parameter tuning with gridSearchCV](https://stackoverflow.com/questions/56078831/isolation-forest-parameter-tuning-with-gridsearchcv)"
   ]
  },
  {
   "cell_type": "code",
   "execution_count": 104,
   "id": "coral-residence",
   "metadata": {},
   "outputs": [
    {
     "data": {
      "text/plain": [
       "GridSearchCV(cv=5, estimator=IsolationForest(random_state=47),\n",
       "             param_grid={'bootstrap': [True, False],\n",
       "                         'contamination': [0.2, 0.4],\n",
       "                         'max_samples': [100, 200, 256],\n",
       "                         'n_estimators': [100, 150]},\n",
       "             return_train_score=True,\n",
       "             scoring=make_scorer(f1_score, average=micro))"
      ]
     },
     "execution_count": 104,
     "metadata": {},
     "output_type": "execute_result"
    }
   ],
   "source": [
    "from sklearn.metrics import make_scorer, f1_score\n",
    "from sklearn import model_selection\n",
    "\n",
    "clf = IsolationForest(random_state=47)\n",
    "\n",
    "param_grid = {'n_estimators': [100, 150], \n",
    "              'max_samples': [100, 200, 256], \n",
    "              'contamination': [0.2, 0.4], \n",
    "              'bootstrap': [True, False]}\n",
    "\n",
    "f1sc = make_scorer(f1_score, average='micro')\n",
    "\n",
    "grid_dt_estimator = model_selection.GridSearchCV(clf, \n",
    "                                                 param_grid,\n",
    "                                                 scoring=f1sc, \n",
    "                                                 refit=True,\n",
    "                                                 cv=5, \n",
    "                                                 return_train_score=True)\n",
    "grid_dt_estimator.fit(X_train, y_train)\n"
   ]
  },
  {
   "cell_type": "code",
   "execution_count": 105,
   "id": "mediterranean-seven",
   "metadata": {},
   "outputs": [
    {
     "data": {
      "text/plain": [
       "IsolationForest(bootstrap=True, contamination=0.2, max_samples=100,\n",
       "                random_state=47)"
      ]
     },
     "execution_count": 105,
     "metadata": {},
     "output_type": "execute_result"
    }
   ],
   "source": [
    "grid_dt_estimator.best_estimator_"
   ]
  },
  {
   "cell_type": "code",
   "execution_count": 166,
   "id": "beautiful-skirt",
   "metadata": {},
   "outputs": [
    {
     "data": {
      "image/png": "[encoded data removed]",
      "text/plain": [
       "<Figure size 864x576 with 1 Axes>"
      ]
     },
     "metadata": {
      "needs_background": "light"
     },
     "output_type": "display_data"
    }
   ],
   "source": [
    "plt.figure(figsize=(12, 8))\n",
    "plt.hist(grid_dt_estimator.score_samples(X_test), bins=50);"
   ]
  },
  {
   "cell_type": "code",
   "execution_count": 167,
   "id": "faced-sullivan",
   "metadata": {},
   "outputs": [
    {
     "name": "stdout",
     "output_type": "stream",
     "text": [
      "AUC: 99.3%\n"
     ]
    }
   ],
   "source": [
    "print('AUC: {:.1%}'.format(roc_auc_score((-0.71 < grid_dt_estimator.score_samples(X_test)), \\\n",
    "                                         y_test == list(encs['label'].classes_).index('normal.'))))"
   ]
  }
 ],
 "metadata": {
  "kernelspec": {
   "display_name": "Python 3",
   "language": "python",
   "name": "python3"
  },
  "language_info": {
   "codemirror_mode": {
    "name": "ipython",
    "version": 3
   },
   "file_extension": ".py",
   "mimetype": "text/x-python",
   "name": "python",
   "nbconvert_exporter": "python",
   "pygments_lexer": "ipython3",
   "version": "3.7.10"
  }
 },
 "nbformat": 4,
 "nbformat_minor": 5
}
