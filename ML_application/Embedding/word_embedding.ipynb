{
 "cells": [
  {
   "cell_type": "markdown",
   "id": "specified-berry",
   "metadata": {},
   "source": [
    "# Introduction of Word Embedding\n",
    "\n",
    "For textual data, we need to convert it into numbers before feeding into any machine learning model.\n",
    "\n",
    "For simplicity, we can use one-hot encoding to convert categorical features into numbers. To do so, we create dummy features for each of the category and populate them with 0’s and 1's.\n",
    "\n",
    "For example, if a corpus has vocabulary of 10,000 words, one-hot encoding will created 10,000 features. This is not a feasible embedding approach as it demands large storage space for the word vectors and reduces model efficiency.\n",
    "\n",
    "## Embedding Words\n",
    "\n",
    "Embedding layer enables us to convert each word into a fixed length vector of defined size. The resultant vector is a dense one with having real values instead of just 0’s and 1’s. The fixed length of word vectors helps us to represent words in a better way along with reduced dimensions.\n",
    "\n",
    "This way embedding layer works like a lookup table. The words are the keys in this table, while the dense word vectors are the values. To understand it better, let’s look at the implementation of Keras Embedding layer.\n",
    "\n",
    "The entire notebook follows the blog: [Understanding Embedding Layer in Keras](https://medium.com/analytics-vidhya/understanding-embedding-layer-in-keras-bbe3ff1327ce).\n",
    "\n",
    "\n",
    "## Embedding Layer in Keras\n"
   ]
  },
  {
   "cell_type": "code",
   "execution_count": 2,
   "id": "southern-waterproof",
   "metadata": {},
   "outputs": [],
   "source": [
    "from tensorflow.keras.models import Sequential\n",
    "from tensorflow.keras.layers import Embedding\n",
    "import numpy as np"
   ]
  },
  {
   "cell_type": "markdown",
   "id": "amazing-bronze",
   "metadata": {},
   "source": [
    "There are three main parameters to the [Embedding layer](https://keras.io/api/layers/core_layers/embedding/) in Keras:\n",
    "\n",
    "* **input_dim** : Size of the vocabulary\n",
    "* **output_dim** : Length of the vector for each word\n",
    "* **input_length** : Maximum length of a sequence\n",
    "\n",
    "For example, assume 10000 words in a corpus. Now we have 32 documents, and each document is [padded](https://www.tensorflow.org/api_docs/python/tf/keras/preprocessing/sequence/pad_sequences) to have 10 words as features: "
   ]
  },
  {
   "cell_type": "code",
   "execution_count": 3,
   "id": "white-tennessee",
   "metadata": {},
   "outputs": [],
   "source": [
    "import numpy as np\n",
    "input_array = np.random.randint(10000, size=(32, 10))"
   ]
  },
  {
   "cell_type": "code",
   "execution_count": 4,
   "id": "pressing-transition",
   "metadata": {},
   "outputs": [
    {
     "name": "stdout",
     "output_type": "stream",
     "text": [
      "(32, 10)\n"
     ]
    },
    {
     "data": {
      "text/plain": [
       "array([[1350, 8610, 5292, 2879, 7677, 9976, 1846, 5786, 5473, 7467],\n",
       "       [2401, 5939, 5534, 6061,  635, 7295, 1149, 4340, 5324, 3745]])"
      ]
     },
     "execution_count": 4,
     "metadata": {},
     "output_type": "execute_result"
    }
   ],
   "source": [
    "print (input_array.shape)\n",
    "input_array[:2]"
   ]
  },
  {
   "cell_type": "markdown",
   "id": "seeing-banking",
   "metadata": {},
   "source": [
    "Now we want to embed the 10000 vocabulary to 4-dimension, then we can create the embedding layer as follows"
   ]
  },
  {
   "cell_type": "code",
   "execution_count": 9,
   "id": "superior-wisdom",
   "metadata": {},
   "outputs": [],
   "source": [
    "model = Sequential()\n",
    "embedding_layer = Embedding(input_dim=10000, output_dim=4, input_length=10)\n",
    "model.add(embedding_layer)\n",
    "model.compile('adam','mse')"
   ]
  },
  {
   "cell_type": "markdown",
   "id": "welsh-retention",
   "metadata": {},
   "source": [
    "Then we have the mapping relation 10000 words to 4-dimensional embeddings as follows"
   ]
  },
  {
   "cell_type": "code",
   "execution_count": 10,
   "id": "collective-fleet",
   "metadata": {},
   "outputs": [
    {
     "data": {
      "text/html": [
       "<div>\n",
       "<style scoped>\n",
       "    .dataframe tbody tr th:only-of-type {\n",
       "        vertical-align: middle;\n",
       "    }\n",
       "\n",
       "    .dataframe tbody tr th {\n",
       "        vertical-align: top;\n",
       "    }\n",
       "\n",
       "    .dataframe thead th {\n",
       "        text-align: right;\n",
       "    }\n",
       "</style>\n",
       "<table border=\"1\" class=\"dataframe\">\n",
       "  <thead>\n",
       "    <tr style=\"text-align: right;\">\n",
       "      <th></th>\n",
       "      <th>0</th>\n",
       "      <th>1</th>\n",
       "      <th>2</th>\n",
       "      <th>3</th>\n",
       "    </tr>\n",
       "  </thead>\n",
       "  <tbody>\n",
       "    <tr>\n",
       "      <th>0</th>\n",
       "      <td>0.026358</td>\n",
       "      <td>0.024591</td>\n",
       "      <td>0.019436</td>\n",
       "      <td>0.036759</td>\n",
       "    </tr>\n",
       "    <tr>\n",
       "      <th>1</th>\n",
       "      <td>-0.047438</td>\n",
       "      <td>0.027824</td>\n",
       "      <td>0.018585</td>\n",
       "      <td>-0.010783</td>\n",
       "    </tr>\n",
       "    <tr>\n",
       "      <th>2</th>\n",
       "      <td>0.047545</td>\n",
       "      <td>-0.007084</td>\n",
       "      <td>-0.024916</td>\n",
       "      <td>0.031520</td>\n",
       "    </tr>\n",
       "    <tr>\n",
       "      <th>3</th>\n",
       "      <td>0.020936</td>\n",
       "      <td>-0.005249</td>\n",
       "      <td>0.027009</td>\n",
       "      <td>-0.020963</td>\n",
       "    </tr>\n",
       "    <tr>\n",
       "      <th>4</th>\n",
       "      <td>-0.042636</td>\n",
       "      <td>0.033888</td>\n",
       "      <td>0.025384</td>\n",
       "      <td>-0.023274</td>\n",
       "    </tr>\n",
       "    <tr>\n",
       "      <th>...</th>\n",
       "      <td>...</td>\n",
       "      <td>...</td>\n",
       "      <td>...</td>\n",
       "      <td>...</td>\n",
       "    </tr>\n",
       "    <tr>\n",
       "      <th>9995</th>\n",
       "      <td>0.022708</td>\n",
       "      <td>-0.009748</td>\n",
       "      <td>-0.002705</td>\n",
       "      <td>0.041146</td>\n",
       "    </tr>\n",
       "    <tr>\n",
       "      <th>9996</th>\n",
       "      <td>0.046311</td>\n",
       "      <td>-0.015253</td>\n",
       "      <td>0.016725</td>\n",
       "      <td>0.012061</td>\n",
       "    </tr>\n",
       "    <tr>\n",
       "      <th>9997</th>\n",
       "      <td>-0.046385</td>\n",
       "      <td>-0.028970</td>\n",
       "      <td>-0.036961</td>\n",
       "      <td>-0.049033</td>\n",
       "    </tr>\n",
       "    <tr>\n",
       "      <th>9998</th>\n",
       "      <td>-0.020993</td>\n",
       "      <td>-0.001993</td>\n",
       "      <td>0.032746</td>\n",
       "      <td>0.049437</td>\n",
       "    </tr>\n",
       "    <tr>\n",
       "      <th>9999</th>\n",
       "      <td>-0.000189</td>\n",
       "      <td>-0.045681</td>\n",
       "      <td>-0.007073</td>\n",
       "      <td>-0.026428</td>\n",
       "    </tr>\n",
       "  </tbody>\n",
       "</table>\n",
       "<p>10000 rows × 4 columns</p>\n",
       "</div>"
      ],
      "text/plain": [
       "             0         1         2         3\n",
       "0     0.026358  0.024591  0.019436  0.036759\n",
       "1    -0.047438  0.027824  0.018585 -0.010783\n",
       "2     0.047545 -0.007084 -0.024916  0.031520\n",
       "3     0.020936 -0.005249  0.027009 -0.020963\n",
       "4    -0.042636  0.033888  0.025384 -0.023274\n",
       "...        ...       ...       ...       ...\n",
       "9995  0.022708 -0.009748 -0.002705  0.041146\n",
       "9996  0.046311 -0.015253  0.016725  0.012061\n",
       "9997 -0.046385 -0.028970 -0.036961 -0.049033\n",
       "9998 -0.020993 -0.001993  0.032746  0.049437\n",
       "9999 -0.000189 -0.045681 -0.007073 -0.026428\n",
       "\n",
       "[10000 rows x 4 columns]"
      ]
     },
     "execution_count": 10,
     "metadata": {},
     "output_type": "execute_result"
    }
   ],
   "source": [
    "import pandas as pd\n",
    "pd.DataFrame(embedding_layer.get_weights()[0])"
   ]
  },
  {
   "cell_type": "markdown",
   "id": "bound-messenger",
   "metadata": {},
   "source": [
    "Note that in this example we did not train the embedding layer. The weights assigned to the word vectors `.get_weights()` are initialized randomly. But while working with actual text data, we need to **train the embedding layer** to get the correct word embeddings.\n",
    " \n",
    "As a further example, the embedding vectors of document 1 and 2 are"
   ]
  },
  {
   "cell_type": "code",
   "execution_count": 13,
   "id": "close-hometown",
   "metadata": {},
   "outputs": [
    {
     "name": "stdout",
     "output_type": "stream",
     "text": [
      "[[[ 0.03664384  0.04779296  0.01755966 -0.03692968]\n",
      "  [ 0.01656455 -0.01403769 -0.04381365  0.02638706]\n",
      "  [ 0.03886438 -0.03794562 -0.04512653 -0.00870391]\n",
      "  [-0.0092308  -0.00473259  0.02779755 -0.03879881]\n",
      "  [-0.04493393  0.03414339  0.03484876 -0.00594652]\n",
      "  [-0.01062686 -0.00216457 -0.04433898 -0.01452322]\n",
      "  [ 0.02961585 -0.02204973  0.03946895 -0.02219971]\n",
      "  [-0.04436807 -0.01464441 -0.02950623  0.04008365]\n",
      "  [-0.03661226 -0.03081133  0.01604826  0.01189088]\n",
      "  [ 0.02228126 -0.0015053   0.03154303  0.02432631]]\n",
      "\n",
      " [[ 0.03834703  0.03383719 -0.04468588  0.02813509]\n",
      "  [-0.01609198  0.01568958 -0.03283242  0.04958368]\n",
      "  [-0.02477733  0.00908344  0.04411265 -0.02069746]\n",
      "  [-0.00530192 -0.04556967 -0.04653746 -0.03348676]\n",
      "  [ 0.02846352 -0.01359844  0.02484968  0.04663614]\n",
      "  [ 0.0481551  -0.01247974 -0.00671508  0.04213312]\n",
      "  [-0.0336862   0.00793084 -0.01153855 -0.03680811]\n",
      "  [ 0.02305714 -0.04346588  0.03861478 -0.02216472]\n",
      "  [-0.02913617 -0.02754694  0.00202156 -0.008735  ]\n",
      "  [ 0.03756703 -0.03279588 -0.02666161 -0.02979089]]]\n"
     ]
    }
   ],
   "source": [
    "pred = model.predict(input_array[:2])\n",
    "print(pred)"
   ]
  },
  {
   "cell_type": "markdown",
   "id": "persistent-dodge",
   "metadata": {},
   "source": [
    "Originally each document is represented 10 words, and each word is embedded to a 4-dimensional vector so totally 40-dimensional embedding vectors."
   ]
  },
  {
   "cell_type": "markdown",
   "id": "buried-adolescent",
   "metadata": {},
   "source": [
    "## Training Word Embedding\n",
    "\n",
    "To make word embedding more correctly, we add `Embedding` layer in Keras models and then train.\n",
    "\n",
    "Followed by the blog: [Understanding Embedding Layer in Keras](https://medium.com/analytics-vidhya/understanding-embedding-layer-in-keras-bbe3ff1327ce), word embeddings are trained through a restaurant review classification problem.\n",
    "\n",
    "\n",
    "Training the embeddings include the following steps:\n",
    "\n",
    "1. Tokenize the sentences into words and create one-hot encoded vector for each word.\n",
    "2. Use padding to ensure all sequences are of same length.\n",
    "3. Pass the padded sequences as input to embedding layer.\n",
    "4. Flatten and apply Dense layer to predict the label.\n"
   ]
  },
  {
   "cell_type": "code",
   "execution_count": 14,
   "id": "level-electricity",
   "metadata": {},
   "outputs": [
    {
     "name": "stderr",
     "output_type": "stream",
     "text": [
      "Using TensorFlow backend.\n"
     ]
    }
   ],
   "source": [
    "from numpy import array\n",
    "from tensorflow.keras.preprocessing.text import one_hot, Tokenizer\n",
    "from keras.utils import to_categorical\n",
    "from tensorflow.keras.preprocessing.sequence import pad_sequences\n",
    "from tensorflow.keras.models import Sequential\n",
    "from tensorflow.keras.layers import Flatten,Embedding,Dense"
   ]
  },
  {
   "cell_type": "markdown",
   "id": "aquatic-precipitation",
   "metadata": {},
   "source": [
    "To make it simple, we will be using total of 11 reviews. Half of them are positive, represented by 0 and other half being negative, represented by 1."
   ]
  },
  {
   "cell_type": "code",
   "execution_count": 15,
   "id": "interracial-brunswick",
   "metadata": {},
   "outputs": [],
   "source": [
    "# Define 11 restaurant reviews\n",
    "reviews =['Never coming back!',\n",
    "          'horrible service',\n",
    "          'rude waitress',\n",
    "          'cold food',\n",
    "          'horrible food!',\n",
    "          'awesome',\n",
    "          'awesome services!',\n",
    "          'rocks',\n",
    "          'poor work',\n",
    "          'couldn\\'t have done better', \n",
    "          'My family and I really love their food']\n",
    "labels = array([1,1,1,1,1,0,0,0,0,0,0])  #Define labels"
   ]
  },
  {
   "cell_type": "markdown",
   "id": "hundred-madrid",
   "metadata": {},
   "source": [
    "### 1. Tokenize the sentences into words and create one-hot encoded vector\n",
    "\n",
    "We will take vocabulary size as 50 and one-hot encode the words using one_hot function from Keras."
   ]
  },
  {
   "cell_type": "code",
   "execution_count": 60,
   "id": "major-drinking",
   "metadata": {},
   "outputs": [
    {
     "name": "stdout",
     "output_type": "stream",
     "text": [
      "encoded reviews: [[43, 40, 9], [16, 44], [15, 17], [32, 5], [16, 5], [47], [47, 31], [27], [10, 6], [7, 22, 41, 36], [39, 24, 5, 48, 42, 39, 25, 5]]\n"
     ]
    }
   ],
   "source": [
    "vocab_size = 50\n",
    "encoded_reviews = [one_hot(d, vocab_size) for d in reviews]\n",
    "print(f'encoded reviews: {encoded_reviews}')"
   ]
  },
  {
   "cell_type": "markdown",
   "id": "suspected-potential",
   "metadata": {},
   "source": [
    "Keras one_hot is basically converting each word into its one-hot encoded index: 1-50 (due to vocab_size=50). \n",
    "\n",
    "### 2. Use padding to ensure all sequences are of same length\n",
    "\n",
    "Now we need to apply padding so that all the encoded reviews are of same length. If we define 4 as the maximum length and pad the encoded vectors with 0’s in the end, the encoded_reviews can be padded as"
   ]
  },
  {
   "cell_type": "code",
   "execution_count": 25,
   "id": "attempted-triumph",
   "metadata": {},
   "outputs": [
    {
     "name": "stdout",
     "output_type": "stream",
     "text": [
      "[[43 40  9  0]\n",
      " [16 44  0  0]\n",
      " [15 17  0  0]\n",
      " [32  5  0  0]\n",
      " [16  5  0  0]\n",
      " [47  0  0  0]\n",
      " [47 31  0  0]\n",
      " [27  0  0  0]\n",
      " [10  6  0  0]\n",
      " [ 7 22 41 36]\n",
      " [42 39 25  5]]\n"
     ]
    }
   ],
   "source": [
    "max_length = 4\n",
    "padded_reviews = pad_sequences(encoded_reviews,maxlen=max_length,padding='post')\n",
    "print(padded_reviews)"
   ]
  },
  {
   "cell_type": "markdown",
   "id": "brazilian-jaguar",
   "metadata": {},
   "source": [
    "### 3. Put tokenizer and padding together in a systematic way\n",
    "\n",
    "Previously we assume vocab_size = 50 and max_length = 4. In reality, we can count them and put it together, we will have:"
   ]
  },
  {
   "cell_type": "code",
   "execution_count": 70,
   "id": "ordinary-connection",
   "metadata": {},
   "outputs": [
    {
     "name": "stdout",
     "output_type": "stream",
     "text": [
      "vocab_size: 26 , max_length: 8\n",
      "[[ 4  5  6  0  0  0  0  0]\n",
      " [ 2  7  0  0  0  0  0  0]\n",
      " [ 8  9  0  0  0  0  0  0]\n",
      " [10  1  0  0  0  0  0  0]\n",
      " [ 2  1  0  0  0  0  0  0]\n",
      " [ 3  0  0  0  0  0  0  0]\n",
      " [ 3 11  0  0  0  0  0  0]\n",
      " [12  0  0  0  0  0  0  0]\n",
      " [13 14  0  0  0  0  0  0]\n",
      " [15 16 17 18  0  0  0  0]\n",
      " [19 20 21 22 23 24 25  1]]\n"
     ]
    }
   ],
   "source": [
    "tokenizer = Tokenizer()\n",
    "tokenizer.fit_on_texts(reviews)\n",
    "\n",
    "vocab_size = len(tokenizer.word_index) + 1\n",
    "max_length = max([len(sen.split()) for sen in reviews])\n",
    "print (\"vocab_size:\", vocab_size, \", max_length:\", max_length)\n",
    "\n",
    "X_tokens = tokenizer.texts_to_sequences(reviews)\n",
    "padded_reviews = pad_sequences(X_tokens, maxlen=max_length, padding='post')\n",
    "print(padded_reviews)"
   ]
  },
  {
   "cell_type": "markdown",
   "id": "appropriate-coverage",
   "metadata": {},
   "source": [
    "The word count dictionaries used by the tokenizer get serialized into plain JSON:"
   ]
  },
  {
   "cell_type": "code",
   "execution_count": 75,
   "id": "attended-catholic",
   "metadata": {},
   "outputs": [
    {
     "data": {
      "text/plain": [
       "'{\"1\": \"food\", \"2\": \"horrible\", \"3\": \"awesome\", \"4\": \"never\", \"5\": \"coming\", \"6\": \"back\", \"7\": \"service\", \"8\": \"rude\", \"9\": \"waitress\", \"10\": \"cold\", \"11\": \"services\", \"12\": \"rocks\", \"13\": \"poor\", \"14\": \"work\", \"15\": \"couldn\\'t\", \"16\": \"have\", \"17\": \"done\", \"18\": \"better\", \"19\": \"my\", \"20\": \"family\", \"21\": \"and\", \"22\": \"i\", \"23\": \"really\", \"24\": \"love\", \"25\": \"their\"}'"
      ]
     },
     "execution_count": 75,
     "metadata": {},
     "output_type": "execute_result"
    }
   ],
   "source": [
    "tokenizer.get_config()['index_word']"
   ]
  },
  {
   "cell_type": "code",
   "execution_count": 80,
   "id": "cordless-commerce",
   "metadata": {},
   "outputs": [],
   "source": [
    "import json\n",
    "vocab_index_dict = json.loads(tokenizer.get_config()['index_word'])"
   ]
  },
  {
   "cell_type": "markdown",
   "id": "described-dynamics",
   "metadata": {},
   "source": [
    "Note we have 26 vocab due to considering empty string as 0:"
   ]
  },
  {
   "cell_type": "code",
   "execution_count": 97,
   "id": "involved-question",
   "metadata": {},
   "outputs": [
    {
     "name": "stdout",
     "output_type": "stream",
     "text": [
      "[[0 0 0 0 0 0 0 0]]\n"
     ]
    }
   ],
   "source": [
    "print (pad_sequences(tokenizer.texts_to_sequences([\"\"]), maxlen=max_length, padding='post'))"
   ]
  },
  {
   "cell_type": "markdown",
   "id": "essential-freight",
   "metadata": {},
   "source": [
    "### 3. Train embedding model"
   ]
  },
  {
   "cell_type": "code",
   "execution_count": 71,
   "id": "described-arena",
   "metadata": {},
   "outputs": [
    {
     "name": "stdout",
     "output_type": "stream",
     "text": [
      "Model: \"sequential_5\"\n",
      "_________________________________________________________________\n",
      "Layer (type)                 Output Shape              Param #   \n",
      "=================================================================\n",
      "embedding_5 (Embedding)      (None, 8, 4)              104       \n",
      "_________________________________________________________________\n",
      "flatten_2 (Flatten)          (None, 32)                0         \n",
      "_________________________________________________________________\n",
      "dense_2 (Dense)              (None, 1)                 33        \n",
      "=================================================================\n",
      "Total params: 137\n",
      "Trainable params: 137\n",
      "Non-trainable params: 0\n",
      "_________________________________________________________________\n",
      "None\n"
     ]
    }
   ],
   "source": [
    "model = Sequential()\n",
    "embedding_layer = Embedding(input_dim=vocab_size, output_dim=4, input_length=max_length)\n",
    "model.add(embedding_layer)\n",
    "model.add(Flatten())\n",
    "model.add(Dense(1,activation='sigmoid'))\n",
    "model.compile(optimizer='adam',loss='binary_crossentropy',metrics=['acc'])\n",
    "print(model.summary())"
   ]
  },
  {
   "cell_type": "markdown",
   "id": "frank-socket",
   "metadata": {},
   "source": [
    "Note in the embedding layer, there are 26 vocabularies and each word is embedded to a 4-dimensional vector. Therefore there are $26 \\times 4 = 106$ parameters."
   ]
  },
  {
   "cell_type": "code",
   "execution_count": 72,
   "id": "corrected-keyboard",
   "metadata": {
    "scrolled": false
   },
   "outputs": [
    {
     "data": {
      "text/plain": [
       "<tensorflow.python.keras.callbacks.History at 0x7f9946730590>"
      ]
     },
     "execution_count": 72,
     "metadata": {},
     "output_type": "execute_result"
    }
   ],
   "source": [
    "model.fit(padded_reviews,labels,epochs=100,verbose=0)"
   ]
  },
  {
   "cell_type": "markdown",
   "id": "detected-stomach",
   "metadata": {},
   "source": [
    "Once the training is completed, the embedding layer learned the weights which are the vector representations of each word. Lets check the shape of the weight matrix."
   ]
  },
  {
   "cell_type": "code",
   "execution_count": 99,
   "id": "invisible-fabric",
   "metadata": {},
   "outputs": [
    {
     "name": "stdout",
     "output_type": "stream",
     "text": [
      "(26, 4)\n"
     ]
    },
    {
     "data": {
      "text/html": [
       "<div>\n",
       "<style scoped>\n",
       "    .dataframe tbody tr th:only-of-type {\n",
       "        vertical-align: middle;\n",
       "    }\n",
       "\n",
       "    .dataframe tbody tr th {\n",
       "        vertical-align: top;\n",
       "    }\n",
       "\n",
       "    .dataframe thead th {\n",
       "        text-align: right;\n",
       "    }\n",
       "</style>\n",
       "<table border=\"1\" class=\"dataframe\">\n",
       "  <thead>\n",
       "    <tr style=\"text-align: right;\">\n",
       "      <th></th>\n",
       "      <th>0</th>\n",
       "      <th>1</th>\n",
       "      <th>2</th>\n",
       "      <th>3</th>\n",
       "      <th>word</th>\n",
       "    </tr>\n",
       "  </thead>\n",
       "  <tbody>\n",
       "    <tr>\n",
       "      <th>0</th>\n",
       "      <td>0.111693</td>\n",
       "      <td>0.045329</td>\n",
       "      <td>0.086924</td>\n",
       "      <td>0.156502</td>\n",
       "      <td></td>\n",
       "    </tr>\n",
       "    <tr>\n",
       "      <th>1</th>\n",
       "      <td>-0.109979</td>\n",
       "      <td>-0.157719</td>\n",
       "      <td>-0.115343</td>\n",
       "      <td>-0.057141</td>\n",
       "      <td>food</td>\n",
       "    </tr>\n",
       "    <tr>\n",
       "      <th>2</th>\n",
       "      <td>0.052611</td>\n",
       "      <td>-0.078289</td>\n",
       "      <td>0.089555</td>\n",
       "      <td>-0.061803</td>\n",
       "      <td>cold</td>\n",
       "    </tr>\n",
       "    <tr>\n",
       "      <th>3</th>\n",
       "      <td>-0.071999</td>\n",
       "      <td>0.093805</td>\n",
       "      <td>-0.133887</td>\n",
       "      <td>0.062591</td>\n",
       "      <td>services</td>\n",
       "    </tr>\n",
       "    <tr>\n",
       "      <th>4</th>\n",
       "      <td>0.053413</td>\n",
       "      <td>-0.159383</td>\n",
       "      <td>0.089844</td>\n",
       "      <td>-0.053962</td>\n",
       "      <td>rocks</td>\n",
       "    </tr>\n",
       "  </tbody>\n",
       "</table>\n",
       "</div>"
      ],
      "text/plain": [
       "          0         1         2         3      word\n",
       "0  0.111693  0.045329  0.086924  0.156502          \n",
       "1 -0.109979 -0.157719 -0.115343 -0.057141      food\n",
       "2  0.052611 -0.078289  0.089555 -0.061803      cold\n",
       "3 -0.071999  0.093805 -0.133887  0.062591  services\n",
       "4  0.053413 -0.159383  0.089844 -0.053962     rocks"
      ]
     },
     "execution_count": 99,
     "metadata": {},
     "output_type": "execute_result"
    }
   ],
   "source": [
    "embeddings = pd.DataFrame(embedding_layer.get_weights()[0])\n",
    "print (embeddings.shape)\n",
    "embeddings[\"word\"] = [\"\"]+[vocab_index_dict[x] for x in sorted(vocab_index_dict.keys())]\n",
    "embeddings.head()"
   ]
  },
  {
   "cell_type": "markdown",
   "id": "greenhouse-aside",
   "metadata": {},
   "source": [
    "## 4. Visualize Word Embedding in 2D"
   ]
  },
  {
   "cell_type": "code",
   "execution_count": 101,
   "id": "heavy-alabama",
   "metadata": {},
   "outputs": [],
   "source": [
    "from sklearn.manifold import TSNE\n",
    "import seaborn as sns\n",
    "\n",
    "tsne = TSNE(n_components=2)\n",
    "tsne_embedded = tsne.fit_transform(embeddings[[0, 1, 2, 3]])"
   ]
  },
  {
   "cell_type": "code",
   "execution_count": 103,
   "id": "assisted-finding",
   "metadata": {},
   "outputs": [
    {
     "data": {
      "image/png": "[encoded data removed]",
      "text/plain": [
       "<Figure size 720x504 with 1 Axes>"
      ]
     },
     "metadata": {
      "needs_background": "light"
     },
     "output_type": "display_data"
    }
   ],
   "source": [
    "import matplotlib.pyplot as plt\n",
    "fig = plt.subplots(figsize=(10, 7))\n",
    "for x, y, type_name in zip(tsne_embedded[:, 0], tsne_embedded[:, 1], embeddings[\"word\"]):\n",
    "    plt.plot(x, y, 'ro')\n",
    "    plt.text(x, y, '%s' % (type_name), size=15)\n",
    "\n",
    "plt.show()"
   ]
  },
  {
   "cell_type": "code",
   "execution_count": null,
   "id": "funny-lawyer",
   "metadata": {},
   "outputs": [],
   "source": []
  }
 ],
 "metadata": {
  "kernelspec": {
   "display_name": "Python 3",
   "language": "python",
   "name": "python3"
  },
  "language_info": {
   "codemirror_mode": {
    "name": "ipython",
    "version": 3
   },
   "file_extension": ".py",
   "mimetype": "text/x-python",
   "name": "python",
   "nbconvert_exporter": "python",
   "pygments_lexer": "ipython3",
   "version": "3.7.10"
  }
 },
 "nbformat": 4,
 "nbformat_minor": 5
}
